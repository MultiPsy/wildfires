{
 "cells": [
  {
   "cell_type": "code",
   "execution_count": 1,
   "id": "3590ae7d-02fb-40c9-b600-ba1d9bd9f1f0",
   "metadata": {},
   "outputs": [
    {
     "name": "stdout",
     "output_type": "stream",
     "text": [
      "Collecting package metadata (current_repodata.json): done\n",
      "Solving environment: done\n",
      "\n",
      "# All requested packages already installed.\n",
      "\n"
     ]
    }
   ],
   "source": [
    "import os\n",
    "\n",
    "!pip install tensorflow\n",
    "!pip install tensorflow==1.15\n",
    "!pip install tensorflow-gpu==1.15\n",
    "\n",
    "os.system(\"export LD_LIBRARY_PATH=$LD_LIBRARY_PATH:/usr/local/cuda/extras/CUPTI/lib64\")"
   ]
  },
  {
   "cell_type": "code",
   "execution_count": null,
   "id": "a9b04b0b-3990-4cc5-8941-df374305f68f",
   "metadata": {},
   "outputs": [
    {
     "name": "stderr",
     "output_type": "stream",
     "text": [
      "2021-11-10 21:09:47.553733: W tensorflow/stream_executor/platform/default/dso_loader.cc:64] Could not load dynamic library 'libcudart.so.11.0'; dlerror: libcudart.so.11.0: cannot open shared object file: No such file or directory; LD_LIBRARY_PATH: /opt/ros/melodic/lib:/home/qweddww123/OpenDDS-3.14/ACE_wrappers/lib:/home/qweddww123/OpenDDS-3.14/lib\n",
      "2021-11-10 21:09:47.553801: I tensorflow/stream_executor/cuda/cudart_stub.cc:29] Ignore above cudart dlerror if you do not have a GPU set up on your machine.\n"
     ]
    },
    {
     "name": "stdout",
     "output_type": "stream",
     "text": [
      "539\n",
      "(862400, 15, 15, 15)\n",
      "(862400,)\n",
      "2016 ***************************************************************************************************************\n",
      "2019 ***************************************************************************************************************\n"
     ]
    },
    {
     "name": "stderr",
     "output_type": "stream",
     "text": [
      "2021-11-10 22:26:23.118131: W tensorflow/stream_executor/platform/default/dso_loader.cc:64] Could not load dynamic library 'libcudart.so.11.0'; dlerror: libcudart.so.11.0: cannot open shared object file: No such file or directory; LD_LIBRARY_PATH: /opt/ros/melodic/lib:/home/qweddww123/OpenDDS-3.14/ACE_wrappers/lib:/home/qweddww123/OpenDDS-3.14/lib\n",
      "2021-11-10 22:26:23.118261: W tensorflow/stream_executor/platform/default/dso_loader.cc:64] Could not load dynamic library 'libcublas.so.11'; dlerror: libcublas.so.11: cannot open shared object file: No such file or directory; LD_LIBRARY_PATH: /opt/ros/melodic/lib:/home/qweddww123/OpenDDS-3.14/ACE_wrappers/lib:/home/qweddww123/OpenDDS-3.14/lib\n",
      "2021-11-10 22:26:23.118360: W tensorflow/stream_executor/platform/default/dso_loader.cc:64] Could not load dynamic library 'libcublasLt.so.11'; dlerror: libcublasLt.so.11: cannot open shared object file: No such file or directory; LD_LIBRARY_PATH: /opt/ros/melodic/lib:/home/qweddww123/OpenDDS-3.14/ACE_wrappers/lib:/home/qweddww123/OpenDDS-3.14/lib\n",
      "2021-11-10 22:26:23.118456: W tensorflow/stream_executor/platform/default/dso_loader.cc:64] Could not load dynamic library 'libcufft.so.10'; dlerror: libcufft.so.10: cannot open shared object file: No such file or directory; LD_LIBRARY_PATH: /opt/ros/melodic/lib:/home/qweddww123/OpenDDS-3.14/ACE_wrappers/lib:/home/qweddww123/OpenDDS-3.14/lib\n",
      "2021-11-10 22:26:23.118551: W tensorflow/stream_executor/platform/default/dso_loader.cc:64] Could not load dynamic library 'libcurand.so.10'; dlerror: libcurand.so.10: cannot open shared object file: No such file or directory; LD_LIBRARY_PATH: /opt/ros/melodic/lib:/home/qweddww123/OpenDDS-3.14/ACE_wrappers/lib:/home/qweddww123/OpenDDS-3.14/lib\n",
      "2021-11-10 22:26:23.118644: W tensorflow/stream_executor/platform/default/dso_loader.cc:64] Could not load dynamic library 'libcusolver.so.11'; dlerror: libcusolver.so.11: cannot open shared object file: No such file or directory; LD_LIBRARY_PATH: /opt/ros/melodic/lib:/home/qweddww123/OpenDDS-3.14/ACE_wrappers/lib:/home/qweddww123/OpenDDS-3.14/lib\n",
      "2021-11-10 22:26:23.118735: W tensorflow/stream_executor/platform/default/dso_loader.cc:64] Could not load dynamic library 'libcusparse.so.11'; dlerror: libcusparse.so.11: cannot open shared object file: No such file or directory; LD_LIBRARY_PATH: /opt/ros/melodic/lib:/home/qweddww123/OpenDDS-3.14/ACE_wrappers/lib:/home/qweddww123/OpenDDS-3.14/lib\n",
      "2021-11-10 22:26:23.118831: W tensorflow/stream_executor/platform/default/dso_loader.cc:64] Could not load dynamic library 'libcudnn.so.8'; dlerror: libcudnn.so.8: cannot open shared object file: No such file or directory; LD_LIBRARY_PATH: /opt/ros/melodic/lib:/home/qweddww123/OpenDDS-3.14/ACE_wrappers/lib:/home/qweddww123/OpenDDS-3.14/lib\n",
      "2021-11-10 22:26:23.118848: W tensorflow/core/common_runtime/gpu/gpu_device.cc:1850] Cannot dlopen some GPU libraries. Please make sure the missing libraries mentioned above are installed properly if you would like to use GPU. Follow the guide at https://www.tensorflow.org/install/gpu for how to download and setup the required libraries for your platform.\n",
      "Skipping registering GPU devices...\n",
      "2021-11-10 22:26:23.120738: I tensorflow/core/platform/cpu_feature_guard.cc:151] This TensorFlow binary is optimized with oneAPI Deep Neural Network Library (oneDNN) to use the following CPU instructions in performance-critical operations:  AVX2 FMA\n",
      "To enable them in other operations, rebuild TensorFlow with the appropriate compiler flags.\n"
     ]
    }
   ],
   "source": [
    "import tensorflow as tf\n",
    "from tensorflow.keras import datasets, layers, models\n",
    "import os\n",
    "import csv\n",
    "import numpy as np\n",
    "import pandas as pd\n",
    "import rasterio\n",
    "import time\n",
    "\n",
    "wildfire = '/home/qweddww123/farsite/TrainDataGen/WildfireShapefiles'\n",
    "lcp = '/home/qweddww123/farsite/TrainDataGen/GetLCPdata/LCP/lcp_extract'\n",
    "\n",
    "input_data_size = 15\n",
    "cnt = 0\n",
    "for year in sorted(os.listdir(wildfire), key=int):\n",
    "    for target_fire in sorted(os.listdir(wildfire+'/'+year), key=str):\n",
    "        path = wildfire+'/'+year\n",
    "        if(target_fire[0] == '.'):\n",
    "            continue\n",
    "        elif(target_fire.split('_')[0] == 'ak' or target_fire.split('_')[0] == 'AK'):\n",
    "            continue\n",
    "        elif(target_fire.split('_')[0] == 'hi' or target_fire.split('_')[0] == 'ca'):\n",
    "            continue\n",
    "        else:\n",
    "            cnt+=1\n",
    "\n",
    "print(cnt)\n",
    "train_images = np.zeros((cnt*int(600/15*600/15),15 ,15, 15))\n",
    "train_labels = np.zeros(cnt*int(600/15*600/15))\n",
    "print(train_images.shape)\n",
    "print(train_labels.shape)\n",
    "index = 0\n",
    "for year in sorted(os.listdir(wildfire), key=int):\n",
    "    print(year, '***************************************************************************************************************')\n",
    "    for target_fire in sorted(os.listdir(wildfire+'/'+year), key=str):\n",
    "        path = wildfire+'/'+year\n",
    "        if(target_fire[0] == '.'):\n",
    "            continue\n",
    "        elif(target_fire.split('_')[0] == 'ak' or target_fire.split('_')[0] == 'AK'):\n",
    "            continue\n",
    "        elif(target_fire.split('_')[0] == 'hi' or target_fire.split('_')[0] == 'ca'):\n",
    "            continue\n",
    "        else:\n",
    "            #print(target_fire)\n",
    "            dirpath = sorted(os.listdir(wildfire+'/'+year+'/'+target_fire), key=str)[0]\n",
    "\n",
    "            try:\n",
    "                with open(wildfire+'/'+year+'/'+target_fire+'/'+dirpath+'/MLinput/'+'input_img.csv', 'r') as f:\n",
    "                    reader = csv.reader(f)\n",
    "                    examples = list(reader)\n",
    "\n",
    "                    #read semantics csv file\n",
    "                    input_img = []\n",
    "                    for row in examples:\n",
    "                        nwrow = []\n",
    "                        for r in row:\n",
    "                            nwrow.append(eval(r))\n",
    "                        input_img.append(nwrow)\n",
    "                    input_img = np.array(input_img)\n",
    "\n",
    "                    input_img = input_img.astype(np.float64)\n",
    "\n",
    "                with open(wildfire+'/'+year+'/'+target_fire+'/'+dirpath+\"/output.csv\", 'r') as c:\n",
    "                    reader1 = csv.reader(c)\n",
    "                    comp_lines = list(reader1)\n",
    "                    \n",
    "                    #read computing load csv file\n",
    "                    output_img = []\n",
    "                    for row in comp_lines:\n",
    "                        output_img.append(row)\n",
    "                    output_img = np.array(output_img)\n",
    "            except:\n",
    "                continue\n",
    "\n",
    "            output_img = np.array(output_img, dtype=np.float64)\n",
    "            #print(output_img.dtype)\n",
    "            #clip the input image matrix into 15*15*15*1 sized matrix\n",
    "            #train_img.shape == 15*15*15*1\n",
    "            #(length of raster data - input_shape x) + 1 = number of iteration\n",
    "            #print(raster.height/input_data_size)\n",
    "            #print(int(raster.height/input_data_size))\n",
    "            start = time.time()\n",
    "            num = 0\n",
    "            \n",
    "            for y in range(int(600/15)):\n",
    "                for x in range(int(600/15)):\n",
    "                    for i in range(15):\n",
    "                        for j in range(15):\n",
    "                            train_labels[index] += round(output_img[i+y*15][j+x*15], 3)\n",
    "                            for k in range(15):\n",
    "                                train_images[index][i][j][k] = input_img[i][j+y*15][k+x*15]\n",
    "                    index += 1\n",
    "\n",
    "            #for i in range(1600):\n",
    "            #    print(round(train_labels[i], 3), end=\" \")\n",
    "\n",
    "            #print()\n",
    "            #time.sleep(10)\n",
    "            #print(\"time: \", time.time() - start)\n",
    "\n",
    "model = models.Sequential()\n",
    "model.add(layers.Conv3D(filters=128, kernel_size=3, activation=\"relu\", input_shape=(input_data_size, input_data_size, input_data_size, 1)))\n",
    "#model.add(layers.MaxPooling3D(pool_size=2))\n",
    "model.add(layers.Conv3D(filters=64, kernel_size=3, activation=\"relu\"))\n",
    "#model.add(layers.MaxPooling3D(pool_size=2))\n",
    "model.add(layers.Conv3D(filters=64, kernel_size=3, activation=\"relu\"))\n",
    "\n",
    "model.add(layers.Flatten())\n",
    "model.add(layers.Dense(64, activation='relu'))\n",
    "model.add(layers.Dense(10, activation='softmax'))\n",
    "\n",
    "model.compile(optimizer='adam', loss='sparse_categorical_crossentropy', metrics=['accuracy'])\n",
    "model.fit(train_images, train_labels, epochs=5)"
   ]
  },
  {
   "cell_type": "code",
   "execution_count": null,
   "id": "c1931890-4e76-49c6-bda8-d938a4e0eafa",
   "metadata": {},
   "outputs": [],
   "source": [
    "\n",
    "df = pd.DataFrame(input_img)\n",
    "df.to_csv(wildfire+'/'+year+'/'+target_fire+'/'+shpdir+'/'+\"MLinput/Number_of_points.csv\", header=False, index=False)"
   ]
  },
  {
   "cell_type": "code",
   "execution_count": null,
   "id": "1342a0c6-af8e-4b68-881c-40e9bc8126fd",
   "metadata": {},
   "outputs": [
    {
     "name": "stdout",
     "output_type": "stream",
     "text": [
      "01:00.0 VGA compatible controller: NVIDIA Corporation Device 2206 (rev a1)\n",
      "01:00.1 Audio device: NVIDIA Corporation Device 1aef (rev a1)\n"
     ]
    },
    {
     "data": {
      "text/plain": [
       "0"
      ]
     },
     "execution_count": 3,
     "metadata": {},
     "output_type": "execute_result"
    }
   ],
   "source": [
    "import os\n",
    "os.system(\"lspci | grep -i nvidia\")"
   ]
  },
  {
   "cell_type": "code",
   "execution_count": null,
   "id": "707db619-07fd-4fa5-87eb-69cd97d6f6bc",
   "metadata": {},
   "outputs": [],
   "source": []
  }
 ],
 "metadata": {
  "kernelspec": {
   "display_name": "Python 3 (ipykernel)",
   "language": "python",
   "name": "python3"
  },
  "language_info": {
   "codemirror_mode": {
    "name": "ipython",
    "version": 3
   },
   "file_extension": ".py",
   "mimetype": "text/x-python",
   "name": "python",
   "nbconvert_exporter": "python",
   "pygments_lexer": "ipython3",
   "version": "3.9.7"
  }
 },
 "nbformat": 4,
 "nbformat_minor": 5
}
