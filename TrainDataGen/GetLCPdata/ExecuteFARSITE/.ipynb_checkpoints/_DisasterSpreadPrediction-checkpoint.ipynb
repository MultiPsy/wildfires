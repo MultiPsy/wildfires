{
 "cells": [
  {
   "cell_type": "markdown",
   "id": "569fd03a-ad44-41f8-8212-26398c93122b",
   "metadata": {},
   "source": [
    "### 1. _DwlLCPfromWeb\n",
    "### 2. _ChangeLCPname\n",
    "### 3. _SHPprojection\n",
    "### 4. _Gen600SHPfromLCP\n",
    "### 5. _ClipLCPbySHP\n",
    "### 6. _GenInputfiles\n",
    "### 7. _GenTxtfiles\n",
    "### 8. _GenInputfiles\n",
    "### 9. _Exetxtgen\n",
    "### 10. _CompLoadCalc\n",
    "### 11. _FixNumofPoints\n",
    "### 12. _RotateNArrays\n",
    "### 13. _GenMLinput\n",
    "### 14. _MachineLearning"
   ]
  },
  {
   "cell_type": "code",
   "execution_count": null,
   "id": "bb1660ef-e997-40f0-9721-8918ce3db0d4",
   "metadata": {},
   "outputs": [],
   "source": []
  }
 ],
 "metadata": {
  "kernelspec": {
   "display_name": "Python 3 (ipykernel)",
   "language": "python",
   "name": "python3"
  },
  "language_info": {
   "codemirror_mode": {
    "name": "ipython",
    "version": 3
   },
   "file_extension": ".py",
   "mimetype": "text/x-python",
   "name": "python",
   "nbconvert_exporter": "python",
   "pygments_lexer": "ipython3",
   "version": "3.9.7"
  }
 },
 "nbformat": 4,
 "nbformat_minor": 5
}
