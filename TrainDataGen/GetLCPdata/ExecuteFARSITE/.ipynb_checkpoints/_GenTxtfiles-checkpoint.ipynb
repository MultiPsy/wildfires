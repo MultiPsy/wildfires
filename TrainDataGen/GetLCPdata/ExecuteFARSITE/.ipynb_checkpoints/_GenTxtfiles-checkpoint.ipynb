{
 "cells": [
  {
   "cell_type": "code",
   "execution_count": 1,
   "id": "60b45479-4929-4c91-b980-230c07b13e02",
   "metadata": {},
   "outputs": [
    {
     "name": "stdout",
     "output_type": "stream",
     "text": [
      "execute text file creation completed!\n"
     ]
    }
   ],
   "source": [
    "import os\n",
    "\n",
    "shppath = '/home/qweddww123/farsite/TrainDataGen/WildfireShapefiles'\n",
    "lcppath = '/home/qweddww123/farsite/TrainDataGen/GetLCPdata/LCP/lcp_extract'\n",
    "\n",
    "for years in sorted(os.listdir(shppath), key=int):\n",
    "    if years[0] == '.':\n",
    "        continue\n",
    "    for wildfire_name in sorted(os.listdir(shppath+'/'+years), key=str):\n",
    "        if wildfire_name[0] == '.':\n",
    "            continue\n",
    "        elif(wildfire_name.split('_')[0] == 'ak' or wildfire_name.split('_')[0] == 'AK'):\n",
    "            continue\n",
    "        elif(wildfire_name.split('_')[0] == 'hi'):\n",
    "            continue\n",
    "        else:\n",
    "            #print(wildfire_name)\n",
    "            wildfire_time = sorted(os.listdir(shppath+'/'+years+'/'+wildfire_name))[0]\n",
    "            outputdatadir = shppath+'/'+years+'/'+wildfire_name+'/'+wildfire_time+'/'+'output'\n",
    "            #print(outputdatadir)\n",
    "\n",
    "            #create output data directory\n",
    "            if not os.path.isdir(outputdatadir): \n",
    "                os.system(\"mkdir \"+outputdatadir)\n",
    "                print(\"outputdata directory creation completed!\")\n",
    "            \n",
    "            shpfilepath = shppath+'/'+years+'/'+wildfire_name+'/'+wildfire_time+'/'+\"proj\"+wildfire_time+\".shp\"\n",
    "            lcpfilepath = lcppath+'/'+years+'/'+wildfire_name+\"/clipped.lcp\"\n",
    "            inputfilepath = shppath+'/'+years+'/'+wildfire_name+'/'+wildfire_time+'/'+wildfire_time+\".input\"\n",
    "            barrierfilepath = '0'\n",
    "\n",
    "            #.lcp = clipped.lcp / .input = wildfire_name.input / .shp = proj+wildfire_time.shp / barrier = 0 / output dir / 0\n",
    "            txt_string = lcpfilepath+' '+inputfilepath+' '+shpfilepath+' '+barrierfilepath+' '+outputdatadir+' '+str(0)\n",
    "\n",
    "            txtfilepath = shppath+'/'+years+'/'+wildfire_name+'/'+wildfire_time+'/'+\"inputtxt.txt\"\n",
    "\n",
    "            f = open(txtfilepath, \"w\")\n",
    "            f.write(txt_string)\n",
    "            f.close()\n",
    "\n",
    "print(\"execute text file creation completed!\")"
   ]
  },
  {
   "cell_type": "code",
   "execution_count": null,
   "id": "44606357-0f9c-4c4e-af51-a689401fd82c",
   "metadata": {},
   "outputs": [],
   "source": []
  }
 ],
 "metadata": {
  "kernelspec": {
   "display_name": "Python 3 (ipykernel)",
   "language": "python",
   "name": "python3"
  },
  "language_info": {
   "codemirror_mode": {
    "name": "ipython",
    "version": 3
   },
   "file_extension": ".py",
   "mimetype": "text/x-python",
   "name": "python",
   "nbconvert_exporter": "python",
   "pygments_lexer": "ipython3",
   "version": "3.9.7"
  }
 },
 "nbformat": 4,
 "nbformat_minor": 5
}
