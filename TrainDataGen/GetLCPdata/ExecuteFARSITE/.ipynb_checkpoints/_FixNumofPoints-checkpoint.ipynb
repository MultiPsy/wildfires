{
 "cells": [
  {
   "cell_type": "code",
   "execution_count": 12,
   "id": "7d6df1a9-489a-4617-83bb-d61b295bbbeb",
   "metadata": {},
   "outputs": [
    {
     "name": "stdout",
     "output_type": "stream",
     "text": [
      "2016 ***************************************************************************************************************\n",
      "al_caney_head\n",
      "/home/qweddww123/farsite/TrainDataGen/WildfireShapefiles/2016/al_caney_head/20160321_0000/MLinput/updated_Number_of_points.csv\n",
      "al_half_way\n",
      "/home/qweddww123/farsite/TrainDataGen/WildfireShapefiles/2016/al_half_way/20161112_1417/MLinput/updated_Number_of_points.csv\n",
      "al_lake_chinnabee\n",
      "/home/qweddww123/farsite/TrainDataGen/WildfireShapefiles/2016/al_lake_chinnabee/20161128_0000/MLinput/updated_Number_of_points.csv\n"
     ]
    },
    {
     "name": "stderr",
     "output_type": "stream",
     "text": [
      "rm: cannot remove '/home/qweddww123/farsite/TrainDataGen/WildfireShapefiles/2016/al_caney_head/20160321_0000/MLinput/updated_Number_of_points.csv': No such file or directory\n",
      "rm: cannot remove '/home/qweddww123/farsite/TrainDataGen/WildfireShapefiles/2016/al_half_way/20161112_1417/MLinput/updated_Number_of_points.csv': No such file or directory\n",
      "rm: cannot remove '/home/qweddww123/farsite/TrainDataGen/WildfireShapefiles/2016/al_lake_chinnabee/20161128_0000/MLinput/updated_Number_of_points.csv': No such file or directory\n",
      "rm: cannot remove '/home/qweddww123/farsite/TrainDataGen/WildfireShapefiles/2016/al_lookout_mountain/20161115_2045/MLinput/updated_Number_of_points.csv': No such file or directory\n"
     ]
    },
    {
     "name": "stdout",
     "output_type": "stream",
     "text": [
      "al_lookout_mountain\n",
      "/home/qweddww123/farsite/TrainDataGen/WildfireShapefiles/2016/al_lookout_mountain/20161115_2045/MLinput/updated_Number_of_points.csv\n",
      "al_power_horn\n",
      "/home/qweddww123/farsite/TrainDataGen/WildfireShapefiles/2016/al_power_horn/20161015_1200/MLinput/updated_Number_of_points.csv\n",
      "ar_pipeline\n",
      "/home/qweddww123/farsite/TrainDataGen/WildfireShapefiles/2016/ar_pipeline/20160228_1000/MLinput/updated_Number_of_points.csv\n"
     ]
    },
    {
     "name": "stderr",
     "output_type": "stream",
     "text": [
      "rm: cannot remove '/home/qweddww123/farsite/TrainDataGen/WildfireShapefiles/2016/al_power_horn/20161015_1200/MLinput/updated_Number_of_points.csv': No such file or directory\n",
      "rm: cannot remove '/home/qweddww123/farsite/TrainDataGen/WildfireShapefiles/2016/ar_pipeline/20160228_1000/MLinput/updated_Number_of_points.csv': No such file or directory\n",
      "rm: cannot remove '/home/qweddww123/farsite/TrainDataGen/WildfireShapefiles/2016/ar_sweetwater/20160724_0000/MLinput/updated_Number_of_points.csv': No such file or directory\n"
     ]
    },
    {
     "name": "stdout",
     "output_type": "stream",
     "text": [
      "ar_sweetwater\n",
      "/home/qweddww123/farsite/TrainDataGen/WildfireShapefiles/2016/ar_sweetwater/20160724_0000/MLinput/updated_Number_of_points.csv\n",
      "ar_whitaker_point\n",
      "/home/qweddww123/farsite/TrainDataGen/WildfireShapefiles/2016/ar_whitaker_point/20161120_1330/MLinput/updated_Number_of_points.csv\n",
      "az_airstrip\n"
     ]
    },
    {
     "name": "stderr",
     "output_type": "stream",
     "text": [
      "rm: cannot remove '/home/qweddww123/farsite/TrainDataGen/WildfireShapefiles/2016/ar_whitaker_point/20161120_1330/MLinput/updated_Number_of_points.csv': No such file or directory\n"
     ]
    },
    {
     "name": "stdout",
     "output_type": "stream",
     "text": [
      "/home/qweddww123/farsite/TrainDataGen/WildfireShapefiles/2016/az_airstrip/20160705_1900/MLinput/updated_Number_of_points.csv\n",
      "az_baca\n"
     ]
    },
    {
     "name": "stderr",
     "output_type": "stream",
     "text": [
      "rm: cannot remove '/home/qweddww123/farsite/TrainDataGen/WildfireShapefiles/2016/az_airstrip/20160705_1900/MLinput/updated_Number_of_points.csv': No such file or directory\n"
     ]
    },
    {
     "name": "stdout",
     "output_type": "stream",
     "text": [
      "/home/qweddww123/farsite/TrainDataGen/WildfireShapefiles/2016/az_baca/20160710_0712/MLinput/updated_Number_of_points.csv\n",
      "az_baker_canyon\n",
      "\n",
      "az_baldwin\n"
     ]
    },
    {
     "name": "stderr",
     "output_type": "stream",
     "text": [
      "rm: cannot remove '/home/qweddww123/farsite/TrainDataGen/WildfireShapefiles/2016/az_baca/20160710_0712/MLinput/updated_Number_of_points.csv': No such file or directory\n"
     ]
    },
    {
     "name": "stdout",
     "output_type": "stream",
     "text": [
      "/home/qweddww123/farsite/TrainDataGen/WildfireShapefiles/2016/az_baldwin/20160724_0000/MLinput/updated_Number_of_points.csv\n",
      "az_bert\n"
     ]
    },
    {
     "name": "stderr",
     "output_type": "stream",
     "text": [
      "rm: cannot remove '/home/qweddww123/farsite/TrainDataGen/WildfireShapefiles/2016/az_baldwin/20160724_0000/MLinput/updated_Number_of_points.csv': No such file or directory\n"
     ]
    },
    {
     "name": "stdout",
     "output_type": "stream",
     "text": [
      "/home/qweddww123/farsite/TrainDataGen/WildfireShapefiles/2016/az_bert/20160601_2000/MLinput/updated_Number_of_points.csv\n",
      "az_black_peak\n",
      "\n",
      "az_brown\n"
     ]
    },
    {
     "name": "stderr",
     "output_type": "stream",
     "text": [
      "rm: cannot remove '/home/qweddww123/farsite/TrainDataGen/WildfireShapefiles/2016/az_bert/20160601_2000/MLinput/updated_Number_of_points.csv': No such file or directory\n"
     ]
    },
    {
     "name": "stdout",
     "output_type": "stream",
     "text": [
      "/home/qweddww123/farsite/TrainDataGen/WildfireShapefiles/2016/az_brown/20160618_2210/MLinput/updated_Number_of_points.csv\n",
      "az_burro\n"
     ]
    },
    {
     "name": "stderr",
     "output_type": "stream",
     "text": [
      "rm: cannot remove '/home/qweddww123/farsite/TrainDataGen/WildfireShapefiles/2016/az_brown/20160618_2210/MLinput/updated_Number_of_points.csv': No such file or directory\n"
     ]
    },
    {
     "name": "stdout",
     "output_type": "stream",
     "text": [
      "/home/qweddww123/farsite/TrainDataGen/WildfireShapefiles/2016/az_burro/20160622_0000/MLinput/updated_Number_of_points.csv\n",
      "az_cedar\n"
     ]
    },
    {
     "name": "stderr",
     "output_type": "stream",
     "text": [
      "rm: cannot remove '/home/qweddww123/farsite/TrainDataGen/WildfireShapefiles/2016/az_burro/20160622_0000/MLinput/updated_Number_of_points.csv': No such file or directory\n"
     ]
    },
    {
     "name": "stdout",
     "output_type": "stream",
     "text": [
      "/home/qweddww123/farsite/TrainDataGen/WildfireShapefiles/2016/az_cedar/20160615_1400/MLinput/updated_Number_of_points.csv\n",
      "az_choulic\n"
     ]
    },
    {
     "name": "stderr",
     "output_type": "stream",
     "text": [
      "rm: cannot remove '/home/qweddww123/farsite/TrainDataGen/WildfireShapefiles/2016/az_cedar/20160615_1400/MLinput/updated_Number_of_points.csv': No such file or directory\n"
     ]
    },
    {
     "name": "stdout",
     "output_type": "stream",
     "text": [
      "/home/qweddww123/farsite/TrainDataGen/WildfireShapefiles/2016/az_choulic/20160403_1030/MLinput/updated_Number_of_points.csv\n",
      "az_coco\n"
     ]
    },
    {
     "name": "stderr",
     "output_type": "stream",
     "text": [
      "rm: cannot remove '/home/qweddww123/farsite/TrainDataGen/WildfireShapefiles/2016/az_choulic/20160403_1030/MLinput/updated_Number_of_points.csv': No such file or directory\n"
     ]
    },
    {
     "name": "stdout",
     "output_type": "stream",
     "text": [
      "/home/qweddww123/farsite/TrainDataGen/WildfireShapefiles/2016/az_coco/20160728_1200/MLinput/updated_Number_of_points.csv\n",
      "az_cowboy\n"
     ]
    },
    {
     "name": "stderr",
     "output_type": "stream",
     "text": [
      "rm: cannot remove '/home/qweddww123/farsite/TrainDataGen/WildfireShapefiles/2016/az_coco/20160728_1200/MLinput/updated_Number_of_points.csv': No such file or directory\n"
     ]
    },
    {
     "name": "stdout",
     "output_type": "stream",
     "text": [
      "/home/qweddww123/farsite/TrainDataGen/WildfireShapefiles/2016/az_cowboy/20160524_2013/MLinput/updated_Number_of_points.csv\n",
      "az_cumero\n",
      "\n",
      "az_fill\n"
     ]
    },
    {
     "name": "stderr",
     "output_type": "stream",
     "text": [
      "rm: cannot remove '/home/qweddww123/farsite/TrainDataGen/WildfireShapefiles/2016/az_cowboy/20160524_2013/MLinput/updated_Number_of_points.csv': No such file or directory\n"
     ]
    },
    {
     "name": "stdout",
     "output_type": "stream",
     "text": [
      "/home/qweddww123/farsite/TrainDataGen/WildfireShapefiles/2016/az_fill/20160919_0000/MLinput/updated_Number_of_points.csv\n",
      "az_freeze\n"
     ]
    },
    {
     "name": "stderr",
     "output_type": "stream",
     "text": [
      "rm: cannot remove '/home/qweddww123/farsite/TrainDataGen/WildfireShapefiles/2016/az_fill/20160919_0000/MLinput/updated_Number_of_points.csv': No such file or directory\n"
     ]
    },
    {
     "name": "stdout",
     "output_type": "stream",
     "text": [
      "/home/qweddww123/farsite/TrainDataGen/WildfireShapefiles/2016/az_freeze/20160614_0000/MLinput/updated_Number_of_points.csv\n",
      "az_fresnal\n"
     ]
    },
    {
     "name": "stderr",
     "output_type": "stream",
     "text": [
      "rm: cannot remove '/home/qweddww123/farsite/TrainDataGen/WildfireShapefiles/2016/az_freeze/20160614_0000/MLinput/updated_Number_of_points.csv': No such file or directory\n",
      "rm: cannot remove '/home/qweddww123/farsite/TrainDataGen/WildfireShapefiles/2016/az_fresnal/20160605_1600/MLinput/updated_Number_of_points.csv': No such file or directory\n"
     ]
    },
    {
     "name": "stdout",
     "output_type": "stream",
     "text": [
      "/home/qweddww123/farsite/TrainDataGen/WildfireShapefiles/2016/az_fresnal/20160605_1600/MLinput/updated_Number_of_points.csv\n",
      "az_fuller\n",
      "/home/qweddww123/farsite/TrainDataGen/WildfireShapefiles/2016/az_fuller/20160711_0000/MLinput/updated_Number_of_points.csv\n",
      "az_fulton\n",
      "/home/qweddww123/farsite/TrainDataGen/WildfireShapefiles/2016/az_fulton/20160912_1800/MLinput/updated_Number_of_points.csv\n",
      "az_jack\n"
     ]
    },
    {
     "name": "stderr",
     "output_type": "stream",
     "text": [
      "rm: cannot remove '/home/qweddww123/farsite/TrainDataGen/WildfireShapefiles/2016/az_fuller/20160711_0000/MLinput/updated_Number_of_points.csv': No such file or directory\n",
      "rm: cannot remove '/home/qweddww123/farsite/TrainDataGen/WildfireShapefiles/2016/az_fulton/20160912_1800/MLinput/updated_Number_of_points.csv': No such file or directory\n"
     ]
    },
    {
     "name": "stdout",
     "output_type": "stream",
     "text": [
      "/home/qweddww123/farsite/TrainDataGen/WildfireShapefiles/2016/az_jack/20160529_0000/MLinput/updated_Number_of_points.csv\n",
      "az_juniper\n",
      "/home/qweddww123/farsite/TrainDataGen/WildfireShapefiles/2016/az_juniper/20160523_1130/MLinput/updated_Number_of_points.csv\n",
      "az_la_sierra\n",
      "\n",
      "az_lion_fta\n"
     ]
    },
    {
     "name": "stderr",
     "output_type": "stream",
     "text": [
      "rm: cannot remove '/home/qweddww123/farsite/TrainDataGen/WildfireShapefiles/2016/az_jack/20160529_0000/MLinput/updated_Number_of_points.csv': No such file or directory\n",
      "rm: cannot remove '/home/qweddww123/farsite/TrainDataGen/WildfireShapefiles/2016/az_juniper/20160523_1130/MLinput/updated_Number_of_points.csv': No such file or directory\n"
     ]
    },
    {
     "name": "stdout",
     "output_type": "stream",
     "text": [
      "/home/qweddww123/farsite/TrainDataGen/WildfireShapefiles/2016/az_lion_fta/20160513_0000/MLinput/updated_Number_of_points.csv\n",
      "az_maple\n"
     ]
    },
    {
     "name": "stderr",
     "output_type": "stream",
     "text": [
      "rm: cannot remove '/home/qweddww123/farsite/TrainDataGen/WildfireShapefiles/2016/az_lion_fta/20160513_0000/MLinput/updated_Number_of_points.csv': No such file or directory\n"
     ]
    },
    {
     "name": "stdout",
     "output_type": "stream",
     "text": [
      "/home/qweddww123/farsite/TrainDataGen/WildfireShapefiles/2016/az_maple/20160622_0000/MLinput/updated_Number_of_points.csv\n",
      "az_mormon\n",
      "/home/qweddww123/farsite/TrainDataGen/WildfireShapefiles/2016/az_mormon/20160524_2014/MLinput/updated_Number_of_points.csv\n"
     ]
    },
    {
     "name": "stderr",
     "output_type": "stream",
     "text": [
      "rm: cannot remove '/home/qweddww123/farsite/TrainDataGen/WildfireShapefiles/2016/az_maple/20160622_0000/MLinput/updated_Number_of_points.csv': No such file or directory\n",
      "rm: cannot remove '/home/qweddww123/farsite/TrainDataGen/WildfireShapefiles/2016/az_mormon/20160524_2014/MLinput/updated_Number_of_points.csv': No such file or directory\n"
     ]
    },
    {
     "name": "stdout",
     "output_type": "stream",
     "text": [
      "az_mule_ridge\n",
      "\n",
      "az_paddy_creek\n",
      "/home/qweddww123/farsite/TrainDataGen/WildfireShapefiles/2016/az_paddy_creek/20160526_0000/MLinput/updated_Number_of_points.csv\n",
      "az_peaks\n"
     ]
    },
    {
     "name": "stderr",
     "output_type": "stream",
     "text": [
      "rm: cannot remove '/home/qweddww123/farsite/TrainDataGen/WildfireShapefiles/2016/az_paddy_creek/20160526_0000/MLinput/updated_Number_of_points.csv': No such file or directory\n"
     ]
    },
    {
     "name": "stdout",
     "output_type": "stream",
     "text": [
      "/home/qweddww123/farsite/TrainDataGen/WildfireShapefiles/2016/az_peaks/20160622_1300/MLinput/updated_Number_of_points.csv\n",
      "az_pivot_rock\n",
      "/home/qweddww123/farsite/TrainDataGen/WildfireShapefiles/2016/az_pivot_rock/20160521_0000/MLinput/updated_Number_of_points.csv\n",
      "az_sam_jim\n"
     ]
    },
    {
     "name": "stderr",
     "output_type": "stream",
     "text": [
      "rm: cannot remove '/home/qweddww123/farsite/TrainDataGen/WildfireShapefiles/2016/az_peaks/20160622_1300/MLinput/updated_Number_of_points.csv': No such file or directory\n",
      "rm: cannot remove '/home/qweddww123/farsite/TrainDataGen/WildfireShapefiles/2016/az_pivot_rock/20160521_0000/MLinput/updated_Number_of_points.csv': No such file or directory\n"
     ]
    },
    {
     "name": "stdout",
     "output_type": "stream",
     "text": [
      "/home/qweddww123/farsite/TrainDataGen/WildfireShapefiles/2016/az_sam_jim/20160907_0000/MLinput/updated_Number_of_points.csv\n",
      "az_skeleton\n",
      "/home/qweddww123/farsite/TrainDataGen/WildfireShapefiles/2016/az_skeleton/20160628_0000/MLinput/updated_Number_of_points.csv\n",
      "az_sunflower\n"
     ]
    },
    {
     "name": "stderr",
     "output_type": "stream",
     "text": [
      "rm: cannot remove '/home/qweddww123/farsite/TrainDataGen/WildfireShapefiles/2016/az_sam_jim/20160907_0000/MLinput/updated_Number_of_points.csv': No such file or directory\n",
      "rm: cannot remove '/home/qweddww123/farsite/TrainDataGen/WildfireShapefiles/2016/az_skeleton/20160628_0000/MLinput/updated_Number_of_points.csv': No such file or directory\n"
     ]
    },
    {
     "name": "stdout",
     "output_type": "stream",
     "text": [
      "/home/qweddww123/farsite/TrainDataGen/WildfireShapefiles/2016/az_sunflower/20160724_0000/MLinput/updated_Number_of_points.csv\n",
      "az_tenderfoot\n"
     ]
    },
    {
     "name": "stderr",
     "output_type": "stream",
     "text": [
      "rm: cannot remove '/home/qweddww123/farsite/TrainDataGen/WildfireShapefiles/2016/az_sunflower/20160724_0000/MLinput/updated_Number_of_points.csv': No such file or directory\n"
     ]
    },
    {
     "name": "stdout",
     "output_type": "stream",
     "text": [
      "/home/qweddww123/farsite/TrainDataGen/WildfireShapefiles/2016/az_tenderfoot/20160608_2100/MLinput/updated_Number_of_points.csv\n",
      "az_turkey_track\n",
      "/home/qweddww123/farsite/TrainDataGen/WildfireShapefiles/2016/az_turkey_track/20160830_1200/MLinput/updated_Number_of_points.csv\n",
      "az_wildcat\n",
      "\n",
      "ca_ash\n",
      "/home/qweddww123/farsite/TrainDataGen/WildfireShapefiles/2016/ca_ash/20160615_0000/MLinput/updated_Number_of_points.csv\n"
     ]
    },
    {
     "name": "stderr",
     "output_type": "stream",
     "text": [
      "rm: cannot remove '/home/qweddww123/farsite/TrainDataGen/WildfireShapefiles/2016/az_tenderfoot/20160608_2100/MLinput/updated_Number_of_points.csv': No such file or directory\n",
      "rm: cannot remove '/home/qweddww123/farsite/TrainDataGen/WildfireShapefiles/2016/az_turkey_track/20160830_1200/MLinput/updated_Number_of_points.csv': No such file or directory\n",
      "rm: cannot remove '/home/qweddww123/farsite/TrainDataGen/WildfireShapefiles/2016/ca_ash/20160615_0000/MLinput/updated_Number_of_points.csv': No such file or directory\n"
     ]
    },
    {
     "name": "stdout",
     "output_type": "stream",
     "text": [
      "ca_bluecut\n",
      "\n",
      "ca_border_3\n",
      "\n",
      "ca_canyon\n",
      "\n",
      "ca_cedar_sqf\n",
      "/home/qweddww123/farsite/TrainDataGen/WildfireShapefiles/2016/ca_cedar_sqf/20160816_0000/MLinput/updated_Number_of_points.csv\n",
      "ca_chimney_cnd\n"
     ]
    },
    {
     "name": "stderr",
     "output_type": "stream",
     "text": [
      "rm: cannot remove '/home/qweddww123/farsite/TrainDataGen/WildfireShapefiles/2016/ca_cedar_sqf/20160816_0000/MLinput/updated_Number_of_points.csv': No such file or directory\n"
     ]
    },
    {
     "name": "stdout",
     "output_type": "stream",
     "text": [
      "/home/qweddww123/farsite/TrainDataGen/WildfireShapefiles/2016/ca_chimney_cnd/20160602_1833/MLinput/updated_Number_of_points.csv\n",
      "ca_chimney_slu\n"
     ]
    },
    {
     "name": "stderr",
     "output_type": "stream",
     "text": [
      "rm: cannot remove '/home/qweddww123/farsite/TrainDataGen/WildfireShapefiles/2016/ca_chimney_cnd/20160602_1833/MLinput/updated_Number_of_points.csv': No such file or directory\n"
     ]
    },
    {
     "name": "stdout",
     "output_type": "stream",
     "text": [
      "/home/qweddww123/farsite/TrainDataGen/WildfireShapefiles/2016/ca_chimney_slu/20160814_2232/MLinput/updated_Number_of_points.csv\n",
      "ca_clark\n"
     ]
    },
    {
     "name": "stderr",
     "output_type": "stream",
     "text": [
      "rm: cannot remove '/home/qweddww123/farsite/TrainDataGen/WildfireShapefiles/2016/ca_chimney_slu/20160814_2232/MLinput/updated_Number_of_points.csv': No such file or directory\n",
      "rm: cannot remove '/home/qweddww123/farsite/TrainDataGen/WildfireShapefiles/2016/ca_chimney_slu/20160814_2232/Number_of_points.csv': No such file or directory\n"
     ]
    },
    {
     "name": "stdout",
     "output_type": "stream",
     "text": [
      "/home/qweddww123/farsite/TrainDataGen/WildfireShapefiles/2016/ca_clark/20160805_1837/MLinput/updated_Number_of_points.csv\n",
      "ca_clayton\n"
     ]
    },
    {
     "name": "stderr",
     "output_type": "stream",
     "text": [
      "rm: cannot remove '/home/qweddww123/farsite/TrainDataGen/WildfireShapefiles/2016/ca_clark/20160805_1837/MLinput/updated_Number_of_points.csv': No such file or directory\n"
     ]
    },
    {
     "name": "stdout",
     "output_type": "stream",
     "text": [
      "/home/qweddww123/farsite/TrainDataGen/WildfireShapefiles/2016/ca_clayton/20160814_0430/MLinput/updated_Number_of_points.csv\n",
      "ca_cold\n"
     ]
    },
    {
     "name": "stderr",
     "output_type": "stream",
     "text": [
      "rm: cannot remove '/home/qweddww123/farsite/TrainDataGen/WildfireShapefiles/2016/ca_clayton/20160814_0430/MLinput/updated_Number_of_points.csv': No such file or directory\n"
     ]
    },
    {
     "name": "stdout",
     "output_type": "stream",
     "text": [
      "/home/qweddww123/farsite/TrainDataGen/WildfireShapefiles/2016/ca_cold/20160803_2243/MLinput/updated_Number_of_points.csv\n",
      "ca_coleman\n"
     ]
    },
    {
     "name": "stderr",
     "output_type": "stream",
     "text": [
      "rm: cannot remove '/home/qweddww123/farsite/TrainDataGen/WildfireShapefiles/2016/ca_cold/20160803_2243/MLinput/updated_Number_of_points.csv': No such file or directory\n"
     ]
    },
    {
     "name": "stdout",
     "output_type": "stream",
     "text": [
      "/home/qweddww123/farsite/TrainDataGen/WildfireShapefiles/2016/ca_coleman/20160606_0216/MLinput/updated_Number_of_points.csv\n",
      "ca_crown\n"
     ]
    },
    {
     "name": "stderr",
     "output_type": "stream",
     "text": [
      "rm: cannot remove '/home/qweddww123/farsite/TrainDataGen/WildfireShapefiles/2016/ca_coleman/20160606_0216/MLinput/updated_Number_of_points.csv': No such file or directory\n"
     ]
    },
    {
     "name": "stdout",
     "output_type": "stream",
     "text": [
      "/home/qweddww123/farsite/TrainDataGen/WildfireShapefiles/2016/ca_crown/20160917_0000/MLinput/updated_Number_of_points.csv\n",
      "ca_curry\n"
     ]
    },
    {
     "name": "stderr",
     "output_type": "stream",
     "text": [
      "rm: cannot remove '/home/qweddww123/farsite/TrainDataGen/WildfireShapefiles/2016/ca_crown/20160917_0000/MLinput/updated_Number_of_points.csv': No such file or directory\n"
     ]
    },
    {
     "name": "stdout",
     "output_type": "stream",
     "text": [
      "/home/qweddww123/farsite/TrainDataGen/WildfireShapefiles/2016/ca_curry/20160702_1122/MLinput/updated_Number_of_points.csv\n",
      "ca_deer\n"
     ]
    },
    {
     "name": "stderr",
     "output_type": "stream",
     "text": [
      "rm: cannot remove '/home/qweddww123/farsite/TrainDataGen/WildfireShapefiles/2016/ca_curry/20160702_1122/MLinput/updated_Number_of_points.csv': No such file or directory\n"
     ]
    },
    {
     "name": "stdout",
     "output_type": "stream",
     "text": [
      "/home/qweddww123/farsite/TrainDataGen/WildfireShapefiles/2016/ca_deer/20160702_2014/MLinput/updated_Number_of_points.csv\n",
      "ca_erskine\n",
      "\n",
      "ca_evergreen\n"
     ]
    },
    {
     "name": "stderr",
     "output_type": "stream",
     "text": [
      "rm: cannot remove '/home/qweddww123/farsite/TrainDataGen/WildfireShapefiles/2016/ca_deer/20160702_2014/MLinput/updated_Number_of_points.csv': No such file or directory\n"
     ]
    },
    {
     "name": "stdout",
     "output_type": "stream",
     "text": [
      "/home/qweddww123/farsite/TrainDataGen/WildfireShapefiles/2016/ca_evergreen/20160716_1800/MLinput/updated_Number_of_points.csv\n",
      "ca_fish\n"
     ]
    },
    {
     "name": "stderr",
     "output_type": "stream",
     "text": [
      "rm: cannot remove '/home/qweddww123/farsite/TrainDataGen/WildfireShapefiles/2016/ca_evergreen/20160716_1800/MLinput/updated_Number_of_points.csv': No such file or directory\n"
     ]
    },
    {
     "name": "stdout",
     "output_type": "stream",
     "text": [
      "/home/qweddww123/farsite/TrainDataGen/WildfireShapefiles/2016/ca_fish/20160620_2027/MLinput/updated_Number_of_points.csv\n",
      "ca_gap\n",
      "\n",
      "ca_goose\n",
      "\n",
      "ca_havila\n"
     ]
    },
    {
     "name": "stderr",
     "output_type": "stream",
     "text": [
      "rm: cannot remove '/home/qweddww123/farsite/TrainDataGen/WildfireShapefiles/2016/ca_fish/20160620_2027/MLinput/updated_Number_of_points.csv': No such file or directory\n"
     ]
    },
    {
     "name": "stdout",
     "output_type": "stream",
     "text": [
      "/home/qweddww123/farsite/TrainDataGen/WildfireShapefiles/2016/ca_havila/20160828_1937/MLinput/updated_Number_of_points.csv\n",
      "ca_hidden\n",
      "/home/qweddww123/farsite/TrainDataGen/WildfireShapefiles/2016/ca_hidden/20161115_1053/MLinput/updated_Number_of_points.csv\n"
     ]
    },
    {
     "name": "stderr",
     "output_type": "stream",
     "text": [
      "rm: cannot remove '/home/qweddww123/farsite/TrainDataGen/WildfireShapefiles/2016/ca_havila/20160828_1937/MLinput/updated_Number_of_points.csv': No such file or directory\n",
      "rm: cannot remove '/home/qweddww123/farsite/TrainDataGen/WildfireShapefiles/2016/ca_hidden/20161115_1053/MLinput/updated_Number_of_points.csv': No such file or directory\n"
     ]
    },
    {
     "name": "stdout",
     "output_type": "stream",
     "text": [
      "ca_holy\n",
      "\n",
      "ca_horseshoe\n",
      "/home/qweddww123/farsite/TrainDataGen/WildfireShapefiles/2016/ca_horseshoe/20160809_0000/MLinput/updated_Number_of_points.csv\n",
      "ca_jacobson\n",
      "/home/qweddww123/farsite/TrainDataGen/WildfireShapefiles/2016/ca_jacobson/20161022_1615/MLinput/updated_Number_of_points.csv\n"
     ]
    },
    {
     "name": "stderr",
     "output_type": "stream",
     "text": [
      "rm: cannot remove '/home/qweddww123/farsite/TrainDataGen/WildfireShapefiles/2016/ca_horseshoe/20160809_0000/MLinput/updated_Number_of_points.csv': No such file or directory\n",
      "rm: cannot remove '/home/qweddww123/farsite/TrainDataGen/WildfireShapefiles/2016/ca_jacobson/20161022_1615/MLinput/updated_Number_of_points.csv': No such file or directory\n"
     ]
    },
    {
     "name": "stdout",
     "output_type": "stream",
     "text": [
      "ca_lakes\n",
      "/home/qweddww123/farsite/TrainDataGen/WildfireShapefiles/2016/ca_lakes/20160910_0000/MLinput/updated_Number_of_points.csv\n"
     ]
    },
    {
     "name": "stderr",
     "output_type": "stream",
     "text": [
      "rm: cannot remove '/home/qweddww123/farsite/TrainDataGen/WildfireShapefiles/2016/ca_lakes/20160910_0000/MLinput/updated_Number_of_points.csv': No such file or directory\n",
      "rm: cannot remove '/home/qweddww123/farsite/TrainDataGen/WildfireShapefiles/2016/ca_lakes_ynp-0041_yose-kc3l/20160708_0000/MLinput/updated_Number_of_points.csv': No such file or directory\n"
     ]
    },
    {
     "name": "stdout",
     "output_type": "stream",
     "text": [
      "ca_lakes_ynp-0041_yose-kc3l\n",
      "/home/qweddww123/farsite/TrainDataGen/WildfireShapefiles/2016/ca_lakes_ynp-0041_yose-kc3l/20160708_0000/MLinput/updated_Number_of_points.csv\n",
      "ca_loma\n",
      "/home/qweddww123/farsite/TrainDataGen/WildfireShapefiles/2016/ca_loma/20160927_2332/MLinput/updated_Number_of_points.csv\n",
      "ca_marina\n"
     ]
    },
    {
     "name": "stderr",
     "output_type": "stream",
     "text": [
      "rm: cannot remove '/home/qweddww123/farsite/TrainDataGen/WildfireShapefiles/2016/ca_loma/20160927_2332/MLinput/updated_Number_of_points.csv': No such file or directory\n"
     ]
    },
    {
     "name": "stdout",
     "output_type": "stream",
     "text": [
      "/home/qweddww123/farsite/TrainDataGen/WildfireShapefiles/2016/ca_marina/20160626_0022/MLinput/updated_Number_of_points.csv\n",
      "ca_marshes\n"
     ]
    },
    {
     "name": "stderr",
     "output_type": "stream",
     "text": [
      "rm: cannot remove '/home/qweddww123/farsite/TrainDataGen/WildfireShapefiles/2016/ca_marina/20160626_0022/MLinput/updated_Number_of_points.csv': No such file or directory\n"
     ]
    },
    {
     "name": "stdout",
     "output_type": "stream",
     "text": [
      "/home/qweddww123/farsite/TrainDataGen/WildfireShapefiles/2016/ca_marshes/20160926_2211/MLinput/updated_Number_of_points.csv\n",
      "ca_meadow\n",
      "/home/qweddww123/farsite/TrainDataGen/WildfireShapefiles/2016/ca_meadow/20161111_1300/MLinput/updated_Number_of_points.csv\n",
      "ca_mineral\n"
     ]
    },
    {
     "name": "stderr",
     "output_type": "stream",
     "text": [
      "rm: cannot remove '/home/qweddww123/farsite/TrainDataGen/WildfireShapefiles/2016/ca_marshes/20160926_2211/MLinput/updated_Number_of_points.csv': No such file or directory\n",
      "rm: cannot remove '/home/qweddww123/farsite/TrainDataGen/WildfireShapefiles/2016/ca_meadow/20161111_1300/MLinput/updated_Number_of_points.csv': No such file or directory\n"
     ]
    },
    {
     "name": "stdout",
     "output_type": "stream",
     "text": [
      "\n",
      "ca_mokelumne\n",
      "/home/qweddww123/farsite/TrainDataGen/WildfireShapefiles/2016/ca_mokelumne/20160821_0000/MLinput/updated_Number_of_points.csv\n",
      "ca_old\n",
      "\n",
      "ca_onyx\n",
      "\n",
      "ca_owens_river\n",
      "\n",
      "ca_pilot\n",
      "\n",
      "ca_pine\n",
      "\n",
      "ca_pony\n",
      "\n",
      "ca_reservoir\n",
      "\n",
      "ca_rey\n",
      "\n",
      "ca_roblar\n",
      "\n",
      "ca_rock_creek\n"
     ]
    },
    {
     "name": "stderr",
     "output_type": "stream",
     "text": [
      "rm: cannot remove '/home/qweddww123/farsite/TrainDataGen/WildfireShapefiles/2016/ca_mokelumne/20160821_0000/MLinput/updated_Number_of_points.csv': No such file or directory\n"
     ]
    },
    {
     "name": "stdout",
     "output_type": "stream",
     "text": [
      "\n",
      "ca_sacata\n",
      "\n",
      "ca_saddle\n",
      "\n",
      "ca_sage\n",
      "\n",
      "ca_san_gabriel_complex_fish\n",
      "\n",
      "ca_san_gabriel_complex_reservoir\n",
      "\n",
      "ca_sand\n",
      "\n",
      "ca_sawmill\n",
      "\n",
      "ca_sherpa\n",
      "\n",
      "ca_slate\n",
      "\n",
      "ca_soberanes\n",
      "\n",
      "ca_soda\n",
      "\n",
      "ca_soup_2\n",
      "\n",
      "ca_soup_complex_soup\n",
      "\n",
      "ca_soup_complex_soup_2\n",
      "\n",
      "ca_spring\n",
      "\n",
      "ca_summit\n",
      "\n",
      "ca_tobin\n",
      "\n",
      "ca_trailhead\n",
      "\n",
      "ca_tulley\n",
      "\n",
      "ca_tully_2\n",
      "\n",
      "ca_washington\n",
      "\n",
      "ca_wheatland\n",
      "\n",
      "ca_wilderness\n",
      "\n",
      "ca_willard\n",
      "\n",
      "co_beaver_creek\n",
      "/home/qweddww123/farsite/TrainDataGen/WildfireShapefiles/2016/co_beaver_creek/20160620_1900/MLinput/updated_Number_of_points.csv\n",
      "co_beulah_hill\n"
     ]
    },
    {
     "name": "stderr",
     "output_type": "stream",
     "text": [
      "rm: cannot remove '/home/qweddww123/farsite/TrainDataGen/WildfireShapefiles/2016/co_beaver_creek/20160620_1900/MLinput/updated_Number_of_points.csv': No such file or directory\n"
     ]
    },
    {
     "name": "stdout",
     "output_type": "stream",
     "text": [
      "/home/qweddww123/farsite/TrainDataGen/WildfireShapefiles/2016/co_beulah_hill/20161004_2255/MLinput/updated_Number_of_points.csv\n",
      "co_blair\n",
      "\n",
      "co_calico\n",
      "/home/qweddww123/farsite/TrainDataGen/WildfireShapefiles/2016/co_calico/20160907_1900/MLinput/updated_Number_of_points.csv\n"
     ]
    },
    {
     "name": "stderr",
     "output_type": "stream",
     "text": [
      "rm: cannot remove '/home/qweddww123/farsite/TrainDataGen/WildfireShapefiles/2016/co_beulah_hill/20161004_2255/MLinput/updated_Number_of_points.csv': No such file or directory\n",
      "rm: cannot remove '/home/qweddww123/farsite/TrainDataGen/WildfireShapefiles/2016/co_calico/20160907_1900/MLinput/updated_Number_of_points.csv': No such file or directory\n"
     ]
    },
    {
     "name": "stdout",
     "output_type": "stream",
     "text": [
      "co_cold_springs\n",
      "/home/qweddww123/farsite/TrainDataGen/WildfireShapefiles/2016/co_cold_springs/20160710_1030/MLinput/updated_Number_of_points.csv\n",
      "co_freeman\n"
     ]
    },
    {
     "name": "stderr",
     "output_type": "stream",
     "text": [
      "rm: cannot remove '/home/qweddww123/farsite/TrainDataGen/WildfireShapefiles/2016/co_cold_springs/20160710_1030/MLinput/updated_Number_of_points.csv': No such file or directory\n"
     ]
    },
    {
     "name": "stdout",
     "output_type": "stream",
     "text": [
      "/home/qweddww123/farsite/TrainDataGen/WildfireShapefiles/2016/co_freeman/20161016_0900/MLinput/updated_Number_of_points.csv\n",
      "co_happy_hollow\n"
     ]
    },
    {
     "name": "stderr",
     "output_type": "stream",
     "text": [
      "rm: cannot remove '/home/qweddww123/farsite/TrainDataGen/WildfireShapefiles/2016/co_freeman/20161016_0900/MLinput/updated_Number_of_points.csv': No such file or directory\n"
     ]
    },
    {
     "name": "stdout",
     "output_type": "stream",
     "text": [
      "/home/qweddww123/farsite/TrainDataGen/WildfireShapefiles/2016/co_happy_hollow/20160814_2000/MLinput/updated_Number_of_points.csv\n",
      "co_hayden_pass\n"
     ]
    },
    {
     "name": "stderr",
     "output_type": "stream",
     "text": [
      "rm: cannot remove '/home/qweddww123/farsite/TrainDataGen/WildfireShapefiles/2016/co_happy_hollow/20160814_2000/MLinput/updated_Number_of_points.csv': No such file or directory\n"
     ]
    },
    {
     "name": "stdout",
     "output_type": "stream",
     "text": [
      "/home/qweddww123/farsite/TrainDataGen/WildfireShapefiles/2016/co_hayden_pass/20160711_2030/MLinput/updated_Number_of_points.csv\n",
      "co_junkins\n",
      "\n",
      "co_kelso\n",
      "/home/qweddww123/farsite/TrainDataGen/WildfireShapefiles/2016/co_kelso/20160615_0000/MLinput/updated_Number_of_points.csv\n",
      "co_long_draw\n",
      "/home/qweddww123/farsite/TrainDataGen/WildfireShapefiles/2016/co_long_draw/20160622_2021/MLinput/updated_Number_of_points.csv\n"
     ]
    },
    {
     "name": "stderr",
     "output_type": "stream",
     "text": [
      "rm: cannot remove '/home/qweddww123/farsite/TrainDataGen/WildfireShapefiles/2016/co_hayden_pass/20160711_2030/MLinput/updated_Number_of_points.csv': No such file or directory\n",
      "rm: cannot remove '/home/qweddww123/farsite/TrainDataGen/WildfireShapefiles/2016/co_kelso/20160615_0000/MLinput/updated_Number_of_points.csv': No such file or directory\n",
      "rm: cannot remove '/home/qweddww123/farsite/TrainDataGen/WildfireShapefiles/2016/co_long_draw/20160622_2021/MLinput/updated_Number_of_points.csv': No such file or directory\n"
     ]
    },
    {
     "name": "stdout",
     "output_type": "stream",
     "text": [
      "co_lost_solar\n",
      "/home/qweddww123/farsite/TrainDataGen/WildfireShapefiles/2016/co_lost_solar/20160812_1422/MLinput/updated_Number_of_points.csv\n",
      "co_old_stump\n",
      "/home/qweddww123/farsite/TrainDataGen/WildfireShapefiles/2016/co_old_stump/20160612_0700/MLinput/updated_Number_of_points.csv\n"
     ]
    },
    {
     "name": "stderr",
     "output_type": "stream",
     "text": [
      "rm: cannot remove '/home/qweddww123/farsite/TrainDataGen/WildfireShapefiles/2016/co_lost_solar/20160812_1422/MLinput/updated_Number_of_points.csv': No such file or directory\n",
      "rm: cannot remove '/home/qweddww123/farsite/TrainDataGen/WildfireShapefiles/2016/co_old_stump/20160612_0700/MLinput/updated_Number_of_points.csv': No such file or directory\n"
     ]
    },
    {
     "name": "stdout",
     "output_type": "stream",
     "text": [
      "co_pitch\n",
      "/home/qweddww123/farsite/TrainDataGen/WildfireShapefiles/2016/co_pitch/20160615_1100/MLinput/updated_Number_of_points.csv\n",
      "co_rosebud\n",
      "/home/qweddww123/farsite/TrainDataGen/WildfireShapefiles/2016/co_rosebud/20160629_0000/MLinput/updated_Number_of_points.csv\n",
      "co_silver_creek\n"
     ]
    },
    {
     "name": "stderr",
     "output_type": "stream",
     "text": [
      "rm: cannot remove '/home/qweddww123/farsite/TrainDataGen/WildfireShapefiles/2016/co_pitch/20160615_1100/MLinput/updated_Number_of_points.csv': No such file or directory\n",
      "rm: cannot remove '/home/qweddww123/farsite/TrainDataGen/WildfireShapefiles/2016/co_rosebud/20160629_0000/MLinput/updated_Number_of_points.csv': No such file or directory\n",
      "rm: cannot remove '/home/qweddww123/farsite/TrainDataGen/WildfireShapefiles/2016/co_silver_creek/20160821_1443/MLinput/updated_Number_of_points.csv': No such file or directory\n"
     ]
    },
    {
     "name": "stdout",
     "output_type": "stream",
     "text": [
      "/home/qweddww123/farsite/TrainDataGen/WildfireShapefiles/2016/co_silver_creek/20160821_1443/MLinput/updated_Number_of_points.csv\n",
      "co_spring_creek_2\n",
      "/home/qweddww123/farsite/TrainDataGen/WildfireShapefiles/2016/co_spring_creek_2/20160813_0607/MLinput/updated_Number_of_points.csv\n",
      "co_starwood\n"
     ]
    },
    {
     "name": "stderr",
     "output_type": "stream",
     "text": [
      "rm: cannot remove '/home/qweddww123/farsite/TrainDataGen/WildfireShapefiles/2016/co_spring_creek_2/20160813_0607/MLinput/updated_Number_of_points.csv': No such file or directory\n"
     ]
    },
    {
     "name": "stdout",
     "output_type": "stream",
     "text": [
      "/home/qweddww123/farsite/TrainDataGen/WildfireShapefiles/2016/co_starwood/20160904_1630/MLinput/updated_Number_of_points.csv\n",
      "fl_midnight\n"
     ]
    },
    {
     "name": "stderr",
     "output_type": "stream",
     "text": [
      "rm: cannot remove '/home/qweddww123/farsite/TrainDataGen/WildfireShapefiles/2016/co_starwood/20160904_1630/MLinput/updated_Number_of_points.csv': No such file or directory\n"
     ]
    },
    {
     "name": "stdout",
     "output_type": "stream",
     "text": [
      "/home/qweddww123/farsite/TrainDataGen/WildfireShapefiles/2016/fl_midnight/20160708_0800/MLinput/updated_Number_of_points.csv\n",
      "fl_tarpon\n"
     ]
    },
    {
     "name": "stderr",
     "output_type": "stream",
     "text": [
      "rm: cannot remove '/home/qweddww123/farsite/TrainDataGen/WildfireShapefiles/2016/fl_midnight/20160708_0800/MLinput/updated_Number_of_points.csv': No such file or directory\n"
     ]
    },
    {
     "name": "stdout",
     "output_type": "stream",
     "text": [
      "\n",
      "fl_taylor\n",
      "/home/qweddww123/farsite/TrainDataGen/WildfireShapefiles/2016/fl_taylor/20160713_1130/MLinput/updated_Number_of_points.csv\n",
      "ga_brow_fire\n",
      "/home/qweddww123/farsite/TrainDataGen/WildfireShapefiles/2016/ga_brow_fire/20161128_1800/MLinput/updated_Number_of_points.csv\n",
      "ga_burrell\n"
     ]
    },
    {
     "name": "stderr",
     "output_type": "stream",
     "text": [
      "rm: cannot remove '/home/qweddww123/farsite/TrainDataGen/WildfireShapefiles/2016/fl_taylor/20160713_1130/MLinput/updated_Number_of_points.csv': No such file or directory\n",
      "rm: cannot remove '/home/qweddww123/farsite/TrainDataGen/WildfireShapefiles/2016/ga_brow_fire/20161128_1800/MLinput/updated_Number_of_points.csv': No such file or directory\n"
     ]
    },
    {
     "name": "stdout",
     "output_type": "stream",
     "text": [
      "/home/qweddww123/farsite/TrainDataGen/WildfireShapefiles/2016/ga_burrell/20161110_1907/MLinput/updated_Number_of_points.csv\n",
      "ga_burrell_42\n",
      "/home/qweddww123/farsite/TrainDataGen/WildfireShapefiles/2016/ga_burrell_42/20161111_2138/MLinput/updated_Number_of_points.csv\n",
      "ga_chimney_top\n",
      "/home/qweddww123/farsite/TrainDataGen/WildfireShapefiles/2016/ga_chimney_top/20161026_2000/MLinput/updated_Number_of_points.csv\n",
      "ga_creek_road\n"
     ]
    },
    {
     "name": "stderr",
     "output_type": "stream",
     "text": [
      "rm: cannot remove '/home/qweddww123/farsite/TrainDataGen/WildfireShapefiles/2016/ga_burrell/20161110_1907/MLinput/updated_Number_of_points.csv': No such file or directory\n",
      "rm: cannot remove '/home/qweddww123/farsite/TrainDataGen/WildfireShapefiles/2016/ga_burrell_42/20161111_2138/MLinput/updated_Number_of_points.csv': No such file or directory\n",
      "rm: cannot remove '/home/qweddww123/farsite/TrainDataGen/WildfireShapefiles/2016/ga_chimney_top/20161026_2000/MLinput/updated_Number_of_points.csv': No such file or directory\n"
     ]
    },
    {
     "name": "stdout",
     "output_type": "stream",
     "text": [
      "/home/qweddww123/farsite/TrainDataGen/WildfireShapefiles/2016/ga_creek_road/20161118_1800/MLinput/updated_Number_of_points.csv\n",
      "ga_fox_mountain_fire\n"
     ]
    },
    {
     "name": "stderr",
     "output_type": "stream",
     "text": [
      "rm: cannot remove '/home/qweddww123/farsite/TrainDataGen/WildfireShapefiles/2016/ga_creek_road/20161118_1800/MLinput/updated_Number_of_points.csv': No such file or directory\n"
     ]
    },
    {
     "name": "stdout",
     "output_type": "stream",
     "text": [
      "/home/qweddww123/farsite/TrainDataGen/WildfireShapefiles/2016/ga_fox_mountain_fire/20161118_1800/MLinput/updated_Number_of_points.csv\n",
      "ga_irwin_mill\n",
      "/home/qweddww123/farsite/TrainDataGen/WildfireShapefiles/2016/ga_irwin_mill/20161118_1800/MLinput/updated_Number_of_points.csv\n",
      "ga_rock_mountain\n"
     ]
    },
    {
     "name": "stderr",
     "output_type": "stream",
     "text": [
      "rm: cannot remove '/home/qweddww123/farsite/TrainDataGen/WildfireShapefiles/2016/ga_fox_mountain_fire/20161118_1800/MLinput/updated_Number_of_points.csv': No such file or directory\n",
      "rm: cannot remove '/home/qweddww123/farsite/TrainDataGen/WildfireShapefiles/2016/ga_irwin_mill/20161118_1800/MLinput/updated_Number_of_points.csv': No such file or directory\n",
      "rm: cannot remove '/home/qweddww123/farsite/TrainDataGen/WildfireShapefiles/2016/ga_rock_mountain/20161110_1942/MLinput/updated_Number_of_points.csv': No such file or directory\n",
      "rm: cannot remove '/home/qweddww123/farsite/TrainDataGen/WildfireShapefiles/2016/ga_rocky_face/20161118_1800/MLinput/updated_Number_of_points.csv': No such file or directory\n",
      "rm: cannot remove '/home/qweddww123/farsite/TrainDataGen/WildfireShapefiles/2016/ga_rough_ridge/20161020_2100/MLinput/updated_Number_of_points.csv': No such file or directory\n"
     ]
    },
    {
     "name": "stdout",
     "output_type": "stream",
     "text": [
      "/home/qweddww123/farsite/TrainDataGen/WildfireShapefiles/2016/ga_rock_mountain/20161110_1942/MLinput/updated_Number_of_points.csv\n",
      "ga_rocky_face\n",
      "/home/qweddww123/farsite/TrainDataGen/WildfireShapefiles/2016/ga_rocky_face/20161118_1800/MLinput/updated_Number_of_points.csv\n",
      "ga_rough_ridge\n",
      "/home/qweddww123/farsite/TrainDataGen/WildfireShapefiles/2016/ga_rough_ridge/20161020_2100/MLinput/updated_Number_of_points.csv\n",
      "ga_tatum_gulf\n",
      "/home/qweddww123/farsite/TrainDataGen/WildfireShapefiles/2016/ga_tatum_gulf/20161113_2011/MLinput/updated_Number_of_points.csv\n",
      "ga_timber_ridge\n",
      "/home/qweddww123/farsite/TrainDataGen/WildfireShapefiles/2016/ga_timber_ridge/20161113_2309/MLinput/updated_Number_of_points.csv\n",
      "ga_treat_mountain\n"
     ]
    },
    {
     "name": "stderr",
     "output_type": "stream",
     "text": [
      "rm: cannot remove '/home/qweddww123/farsite/TrainDataGen/WildfireShapefiles/2016/ga_tatum_gulf/20161113_2011/MLinput/updated_Number_of_points.csv': No such file or directory\n",
      "rm: cannot remove '/home/qweddww123/farsite/TrainDataGen/WildfireShapefiles/2016/ga_timber_ridge/20161113_2309/MLinput/updated_Number_of_points.csv': No such file or directory\n"
     ]
    },
    {
     "name": "stdout",
     "output_type": "stream",
     "text": [
      "/home/qweddww123/farsite/TrainDataGen/WildfireShapefiles/2016/ga_treat_mountain/20161118_1800/MLinput/updated_Number_of_points.csv\n",
      "id_black\n",
      "/home/qweddww123/farsite/TrainDataGen/WildfireShapefiles/2016/id_black/20160817_0144/MLinput/updated_Number_of_points.csv\n",
      "id_boundary\n"
     ]
    },
    {
     "name": "stderr",
     "output_type": "stream",
     "text": [
      "rm: cannot remove '/home/qweddww123/farsite/TrainDataGen/WildfireShapefiles/2016/ga_treat_mountain/20161118_1800/MLinput/updated_Number_of_points.csv': No such file or directory\n",
      "rm: cannot remove '/home/qweddww123/farsite/TrainDataGen/WildfireShapefiles/2016/id_black/20160817_0144/MLinput/updated_Number_of_points.csv': No such file or directory\n"
     ]
    },
    {
     "name": "stdout",
     "output_type": "stream",
     "text": [
      "/home/qweddww123/farsite/TrainDataGen/WildfireShapefiles/2016/id_boundary/20160808_0600/MLinput/updated_Number_of_points.csv\n",
      "id_buck\n"
     ]
    },
    {
     "name": "stderr",
     "output_type": "stream",
     "text": [
      "rm: cannot remove '/home/qweddww123/farsite/TrainDataGen/WildfireShapefiles/2016/id_boundary/20160808_0600/MLinput/updated_Number_of_points.csv': No such file or directory\n"
     ]
    },
    {
     "name": "stdout",
     "output_type": "stream",
     "text": [
      "/home/qweddww123/farsite/TrainDataGen/WildfireShapefiles/2016/id_buck/20160704_0700/MLinput/updated_Number_of_points.csv\n",
      "id_cedar\n",
      "/home/qweddww123/farsite/TrainDataGen/WildfireShapefiles/2016/id_cedar/20160722_0107/MLinput/updated_Number_of_points.csv\n",
      "id_comet\n"
     ]
    },
    {
     "name": "stderr",
     "output_type": "stream",
     "text": [
      "rm: cannot remove '/home/qweddww123/farsite/TrainDataGen/WildfireShapefiles/2016/id_buck/20160704_0700/MLinput/updated_Number_of_points.csv': No such file or directory\n",
      "rm: cannot remove '/home/qweddww123/farsite/TrainDataGen/WildfireShapefiles/2016/id_cedar/20160722_0107/MLinput/updated_Number_of_points.csv': No such file or directory\n"
     ]
    },
    {
     "name": "stdout",
     "output_type": "stream",
     "text": [
      "/home/qweddww123/farsite/TrainDataGen/WildfireShapefiles/2016/id_comet/20160727_0800/MLinput/updated_Number_of_points.csv\n",
      "id_dry_creek\n"
     ]
    },
    {
     "name": "stderr",
     "output_type": "stream",
     "text": [
      "rm: cannot remove '/home/qweddww123/farsite/TrainDataGen/WildfireShapefiles/2016/id_comet/20160727_0800/MLinput/updated_Number_of_points.csv': No such file or directory\n"
     ]
    },
    {
     "name": "stdout",
     "output_type": "stream",
     "text": [
      "/home/qweddww123/farsite/TrainDataGen/WildfireShapefiles/2016/id_dry_creek/20160807_1330/MLinput/updated_Number_of_points.csv\n",
      "id_elk_ridge\n",
      "/home/qweddww123/farsite/TrainDataGen/WildfireShapefiles/2016/id_elk_ridge/20160820_2143/MLinput/updated_Number_of_points.csv\n",
      "id_fleck\n"
     ]
    },
    {
     "name": "stderr",
     "output_type": "stream",
     "text": [
      "rm: cannot remove '/home/qweddww123/farsite/TrainDataGen/WildfireShapefiles/2016/id_dry_creek/20160807_1330/MLinput/updated_Number_of_points.csv': No such file or directory\n",
      "rm: cannot remove '/home/qweddww123/farsite/TrainDataGen/WildfireShapefiles/2016/id_elk_ridge/20160820_2143/MLinput/updated_Number_of_points.csv': No such file or directory\n"
     ]
    },
    {
     "name": "stdout",
     "output_type": "stream",
     "text": [
      "/home/qweddww123/farsite/TrainDataGen/WildfireShapefiles/2016/id_fleck/20160717_0000/MLinput/updated_Number_of_points.csv\n",
      "id_freeman\n",
      "/home/qweddww123/farsite/TrainDataGen/WildfireShapefiles/2016/id_freeman/20160825_2051/MLinput/updated_Number_of_points.csv\n",
      "id_gleason\n"
     ]
    },
    {
     "name": "stderr",
     "output_type": "stream",
     "text": [
      "rm: cannot remove '/home/qweddww123/farsite/TrainDataGen/WildfireShapefiles/2016/id_fleck/20160717_0000/MLinput/updated_Number_of_points.csv': No such file or directory\n",
      "rm: cannot remove '/home/qweddww123/farsite/TrainDataGen/WildfireShapefiles/2016/id_freeman/20160825_2051/MLinput/updated_Number_of_points.csv': No such file or directory\n"
     ]
    },
    {
     "name": "stdout",
     "output_type": "stream",
     "text": [
      "/home/qweddww123/farsite/TrainDataGen/WildfireShapefiles/2016/id_gleason/20160821_1900/MLinput/updated_Number_of_points.csv\n",
      "id_granite\n",
      "/home/qweddww123/farsite/TrainDataGen/WildfireShapefiles/2016/id_granite/20160818_0000/MLinput/updated_Number_of_points.csv\n",
      "id_grape\n"
     ]
    },
    {
     "name": "stderr",
     "output_type": "stream",
     "text": [
      "rm: cannot remove '/home/qweddww123/farsite/TrainDataGen/WildfireShapefiles/2016/id_gleason/20160821_1900/MLinput/updated_Number_of_points.csv': No such file or directory\n",
      "rm: cannot remove '/home/qweddww123/farsite/TrainDataGen/WildfireShapefiles/2016/id_granite/20160818_0000/MLinput/updated_Number_of_points.csv': No such file or directory\n"
     ]
    },
    {
     "name": "stdout",
     "output_type": "stream",
     "text": [
      "/home/qweddww123/farsite/TrainDataGen/WildfireShapefiles/2016/id_grape/20160902_1800/MLinput/updated_Number_of_points.csv\n",
      "id_gun_club\n"
     ]
    },
    {
     "name": "stderr",
     "output_type": "stream",
     "text": [
      "rm: cannot remove '/home/qweddww123/farsite/TrainDataGen/WildfireShapefiles/2016/id_grape/20160902_1800/MLinput/updated_Number_of_points.csv': No such file or directory\n"
     ]
    },
    {
     "name": "stdout",
     "output_type": "stream",
     "text": [
      "/home/qweddww123/farsite/TrainDataGen/WildfireShapefiles/2016/id_gun_club/20160820_0810/MLinput/updated_Number_of_points.csv\n",
      "id_harlan_creek\n",
      "/home/qweddww123/farsite/TrainDataGen/WildfireShapefiles/2016/id_harlan_creek/20160823_0000/MLinput/updated_Number_of_points.csv\n",
      "id_henrys_creek\n",
      "\n",
      "id_john_doe\n"
     ]
    },
    {
     "name": "stderr",
     "output_type": "stream",
     "text": [
      "rm: cannot remove '/home/qweddww123/farsite/TrainDataGen/WildfireShapefiles/2016/id_gun_club/20160820_0810/MLinput/updated_Number_of_points.csv': No such file or directory\n",
      "rm: cannot remove '/home/qweddww123/farsite/TrainDataGen/WildfireShapefiles/2016/id_harlan_creek/20160823_0000/MLinput/updated_Number_of_points.csv': No such file or directory\n"
     ]
    },
    {
     "name": "stdout",
     "output_type": "stream",
     "text": [
      "/home/qweddww123/farsite/TrainDataGen/WildfireShapefiles/2016/id_john_doe/20160828_1912/MLinput/updated_Number_of_points.csv\n",
      "id_lanes_creek\n",
      "/home/qweddww123/farsite/TrainDataGen/WildfireShapefiles/2016/id_lanes_creek/20160716_0000/MLinput/updated_Number_of_points.csv\n",
      "id_lone_pine\n"
     ]
    },
    {
     "name": "stderr",
     "output_type": "stream",
     "text": [
      "rm: cannot remove '/home/qweddww123/farsite/TrainDataGen/WildfireShapefiles/2016/id_john_doe/20160828_1912/MLinput/updated_Number_of_points.csv': No such file or directory\n",
      "rm: cannot remove '/home/qweddww123/farsite/TrainDataGen/WildfireShapefiles/2016/id_lanes_creek/20160716_0000/MLinput/updated_Number_of_points.csv': No such file or directory\n"
     ]
    },
    {
     "name": "stdout",
     "output_type": "stream",
     "text": [
      "/home/qweddww123/farsite/TrainDataGen/WildfireShapefiles/2016/id_lone_pine/20160807_0900/MLinput/updated_Number_of_points.csv\n",
      "id_mac_rae\n"
     ]
    },
    {
     "name": "stderr",
     "output_type": "stream",
     "text": [
      "rm: cannot remove '/home/qweddww123/farsite/TrainDataGen/WildfireShapefiles/2016/id_lone_pine/20160807_0900/MLinput/updated_Number_of_points.csv': No such file or directory\n"
     ]
    },
    {
     "name": "stdout",
     "output_type": "stream",
     "text": [
      "/home/qweddww123/farsite/TrainDataGen/WildfireShapefiles/2016/id_mac_rae/20160809_0000/MLinput/updated_Number_of_points.csv\n",
      "id_mm14_highway21\n"
     ]
    },
    {
     "name": "stderr",
     "output_type": "stream",
     "text": [
      "rm: cannot remove '/home/qweddww123/farsite/TrainDataGen/WildfireShapefiles/2016/id_mac_rae/20160809_0000/MLinput/updated_Number_of_points.csv': No such file or directory\n"
     ]
    },
    {
     "name": "stdout",
     "output_type": "stream",
     "text": [
      "/home/qweddww123/farsite/TrainDataGen/WildfireShapefiles/2016/id_mm14_highway21/20160720_0900/MLinput/updated_Number_of_points.csv\n",
      "id_moose\n"
     ]
    },
    {
     "name": "stderr",
     "output_type": "stream",
     "text": [
      "rm: cannot remove '/home/qweddww123/farsite/TrainDataGen/WildfireShapefiles/2016/id_mm14_highway21/20160720_0900/MLinput/updated_Number_of_points.csv': No such file or directory\n"
     ]
    },
    {
     "name": "stdout",
     "output_type": "stream",
     "text": [
      "/home/qweddww123/farsite/TrainDataGen/WildfireShapefiles/2016/id_moose/20160820_2143/MLinput/updated_Number_of_points.csv\n",
      "id_pioneer\n"
     ]
    },
    {
     "name": "stderr",
     "output_type": "stream",
     "text": [
      "rm: cannot remove '/home/qweddww123/farsite/TrainDataGen/WildfireShapefiles/2016/id_moose/20160820_2143/MLinput/updated_Number_of_points.csv': No such file or directory\n"
     ]
    },
    {
     "name": "stdout",
     "output_type": "stream",
     "text": [
      "/home/qweddww123/farsite/TrainDataGen/WildfireShapefiles/2016/id_pioneer/20160720_0800/MLinput/updated_Number_of_points.csv\n",
      "id_roaring\n",
      "/home/qweddww123/farsite/TrainDataGen/WildfireShapefiles/2016/id_roaring/20160730_2229/MLinput/updated_Number_of_points.csv\n",
      "id_rough\n"
     ]
    },
    {
     "name": "stderr",
     "output_type": "stream",
     "text": [
      "rm: cannot remove '/home/qweddww123/farsite/TrainDataGen/WildfireShapefiles/2016/id_pioneer/20160720_0800/MLinput/updated_Number_of_points.csv': No such file or directory\n",
      "rm: cannot remove '/home/qweddww123/farsite/TrainDataGen/WildfireShapefiles/2016/id_roaring/20160730_2229/MLinput/updated_Number_of_points.csv': No such file or directory\n"
     ]
    },
    {
     "name": "stdout",
     "output_type": "stream",
     "text": [
      "/home/qweddww123/farsite/TrainDataGen/WildfireShapefiles/2016/id_rough/20160809_0157/MLinput/updated_Number_of_points.csv\n",
      "id_sixtytwo\n",
      "/home/qweddww123/farsite/TrainDataGen/WildfireShapefiles/2016/id_sixtytwo/20160825_2046/MLinput/updated_Number_of_points.csv\n",
      "id_stein\n"
     ]
    },
    {
     "name": "stderr",
     "output_type": "stream",
     "text": [
      "rm: cannot remove '/home/qweddww123/farsite/TrainDataGen/WildfireShapefiles/2016/id_rough/20160809_0157/MLinput/updated_Number_of_points.csv': No such file or directory\n",
      "rm: cannot remove '/home/qweddww123/farsite/TrainDataGen/WildfireShapefiles/2016/id_sixtytwo/20160825_2046/MLinput/updated_Number_of_points.csv': No such file or directory\n"
     ]
    },
    {
     "name": "stdout",
     "output_type": "stream",
     "text": [
      "/home/qweddww123/farsite/TrainDataGen/WildfireShapefiles/2016/id_stein/20160820_0017/MLinput/updated_Number_of_points.csv\n",
      "id_table_rock\n"
     ]
    },
    {
     "name": "stderr",
     "output_type": "stream",
     "text": [
      "rm: cannot remove '/home/qweddww123/farsite/TrainDataGen/WildfireShapefiles/2016/id_stein/20160820_0017/MLinput/updated_Number_of_points.csv': No such file or directory\n"
     ]
    },
    {
     "name": "stdout",
     "output_type": "stream",
     "text": [
      "/home/qweddww123/farsite/TrainDataGen/WildfireShapefiles/2016/id_table_rock/20160630_0000/MLinput/updated_Number_of_points.csv\n",
      "id_tie\n"
     ]
    },
    {
     "name": "stderr",
     "output_type": "stream",
     "text": [
      "rm: cannot remove '/home/qweddww123/farsite/TrainDataGen/WildfireShapefiles/2016/id_table_rock/20160630_0000/MLinput/updated_Number_of_points.csv': No such file or directory\n"
     ]
    },
    {
     "name": "stdout",
     "output_type": "stream",
     "text": [
      "/home/qweddww123/farsite/TrainDataGen/WildfireShapefiles/2016/id_tie/20160823_0000/MLinput/updated_Number_of_points.csv\n",
      "id_timbered_dome\n"
     ]
    },
    {
     "name": "stderr",
     "output_type": "stream",
     "text": [
      "rm: cannot remove '/home/qweddww123/farsite/TrainDataGen/WildfireShapefiles/2016/id_tie/20160823_0000/MLinput/updated_Number_of_points.csv': No such file or directory\n"
     ]
    },
    {
     "name": "stdout",
     "output_type": "stream",
     "text": [
      "/home/qweddww123/farsite/TrainDataGen/WildfireShapefiles/2016/id_timbered_dome/20160706_1200/MLinput/updated_Number_of_points.csv\n",
      "id_tincup_mountain\n",
      "/home/qweddww123/farsite/TrainDataGen/WildfireShapefiles/2016/id_tincup_mountain/20160905_0000/MLinput/updated_Number_of_points.csv\n",
      "ky_big_twin\n",
      "/home/qweddww123/farsite/TrainDataGen/WildfireShapefiles/2016/ky_big_twin/20161026_1800/MLinput/updated_Number_of_points.csv\n",
      "ky_eagles_nest\n"
     ]
    },
    {
     "name": "stderr",
     "output_type": "stream",
     "text": [
      "rm: cannot remove '/home/qweddww123/farsite/TrainDataGen/WildfireShapefiles/2016/id_timbered_dome/20160706_1200/MLinput/updated_Number_of_points.csv': No such file or directory\n",
      "rm: cannot remove '/home/qweddww123/farsite/TrainDataGen/WildfireShapefiles/2016/id_tincup_mountain/20160905_0000/MLinput/updated_Number_of_points.csv': No such file or directory\n",
      "rm: cannot remove '/home/qweddww123/farsite/TrainDataGen/WildfireShapefiles/2016/ky_big_twin/20161026_1800/MLinput/updated_Number_of_points.csv': No such file or directory\n"
     ]
    },
    {
     "name": "stdout",
     "output_type": "stream",
     "text": [
      "\n",
      "ky_jetts_creek_fire\n",
      "/home/qweddww123/farsite/TrainDataGen/WildfireShapefiles/2016/ky_jetts_creek_fire/20161108_1245/MLinput/updated_Number_of_points.csv\n",
      "ky_steel_trap\n",
      "/home/qweddww123/farsite/TrainDataGen/WildfireShapefiles/2016/ky_steel_trap/20161109_1600/MLinput/updated_Number_of_points.csv\n",
      "ky_taylor_ridge\n"
     ]
    },
    {
     "name": "stderr",
     "output_type": "stream",
     "text": [
      "rm: cannot remove '/home/qweddww123/farsite/TrainDataGen/WildfireShapefiles/2016/ky_jetts_creek_fire/20161108_1245/MLinput/updated_Number_of_points.csv': No such file or directory\n",
      "rm: cannot remove '/home/qweddww123/farsite/TrainDataGen/WildfireShapefiles/2016/ky_steel_trap/20161109_1600/MLinput/updated_Number_of_points.csv': No such file or directory\n"
     ]
    },
    {
     "name": "stdout",
     "output_type": "stream",
     "text": [
      "/home/qweddww123/farsite/TrainDataGen/WildfireShapefiles/2016/ky_taylor_ridge/20161101_1800/MLinput/updated_Number_of_points.csv\n",
      "ky_woodland\n",
      "/home/qweddww123/farsite/TrainDataGen/WildfireShapefiles/2016/ky_woodland/20161107_1400/MLinput/updated_Number_of_points.csv\n",
      "mi_wilwin_fire\n",
      "/home/qweddww123/farsite/TrainDataGen/WildfireShapefiles/2016/mi_wilwin_fire/20160704_1400/MLinput/updated_Number_of_points.csv\n",
      "mn_foss_lake\n"
     ]
    },
    {
     "name": "stderr",
     "output_type": "stream",
     "text": [
      "rm: cannot remove '/home/qweddww123/farsite/TrainDataGen/WildfireShapefiles/2016/ky_taylor_ridge/20161101_1800/MLinput/updated_Number_of_points.csv': No such file or directory\n",
      "rm: cannot remove '/home/qweddww123/farsite/TrainDataGen/WildfireShapefiles/2016/ky_woodland/20161107_1400/MLinput/updated_Number_of_points.csv': No such file or directory\n",
      "rm: cannot remove '/home/qweddww123/farsite/TrainDataGen/WildfireShapefiles/2016/mi_wilwin_fire/20160704_1400/MLinput/updated_Number_of_points.csv': No such file or directory\n"
     ]
    },
    {
     "name": "stdout",
     "output_type": "stream",
     "text": [
      "/home/qweddww123/farsite/TrainDataGen/WildfireShapefiles/2016/mn_foss_lake/20160521_0800/MLinput/updated_Number_of_points.csv\n",
      "mn_skibo\n",
      "\n",
      "mo_pole_hollow\n",
      "/home/qweddww123/farsite/TrainDataGen/WildfireShapefiles/2016/mo_pole_hollow/20160329_1132/MLinput/updated_Number_of_points.csv\n",
      "ms_grand_bature\n"
     ]
    },
    {
     "name": "stderr",
     "output_type": "stream",
     "text": [
      "rm: cannot remove '/home/qweddww123/farsite/TrainDataGen/WildfireShapefiles/2016/mn_foss_lake/20160521_0800/MLinput/updated_Number_of_points.csv': No such file or directory\n",
      "rm: cannot remove '/home/qweddww123/farsite/TrainDataGen/WildfireShapefiles/2016/mo_pole_hollow/20160329_1132/MLinput/updated_Number_of_points.csv': No such file or directory\n"
     ]
    },
    {
     "name": "stdout",
     "output_type": "stream",
     "text": [
      "/home/qweddww123/farsite/TrainDataGen/WildfireShapefiles/2016/ms_grand_bature/20160215_0930/MLinput/updated_Number_of_points.csv\n",
      "mt_blue_lake\n"
     ]
    },
    {
     "name": "stderr",
     "output_type": "stream",
     "text": [
      "rm: cannot remove '/home/qweddww123/farsite/TrainDataGen/WildfireShapefiles/2016/ms_grand_bature/20160215_0930/MLinput/updated_Number_of_points.csv': No such file or directory\n",
      "rm: cannot remove '/home/qweddww123/farsite/TrainDataGen/WildfireShapefiles/2016/ms_grand_bature/20160215_0930/Number_of_points.csv': No such file or directory\n"
     ]
    },
    {
     "name": "stdout",
     "output_type": "stream",
     "text": [
      "/home/qweddww123/farsite/TrainDataGen/WildfireShapefiles/2016/mt_blue_lake/20160723_2231/MLinput/updated_Number_of_points.csv\n",
      "mt_boundary\n",
      "/home/qweddww123/farsite/TrainDataGen/WildfireShapefiles/2016/mt_boundary/20160816_2131/MLinput/updated_Number_of_points.csv\n",
      "mt_butte\n",
      "\n",
      "mt_copper_king\n",
      "\n",
      "mt_elk_hill\n"
     ]
    },
    {
     "name": "stderr",
     "output_type": "stream",
     "text": [
      "rm: cannot remove '/home/qweddww123/farsite/TrainDataGen/WildfireShapefiles/2016/mt_blue_lake/20160723_2231/MLinput/updated_Number_of_points.csv': No such file or directory\n",
      "rm: cannot remove '/home/qweddww123/farsite/TrainDataGen/WildfireShapefiles/2016/mt_blue_lake/20160723_2231/Number_of_points.csv': No such file or directory\n",
      "rm: cannot remove '/home/qweddww123/farsite/TrainDataGen/WildfireShapefiles/2016/mt_boundary/20160816_2131/MLinput/updated_Number_of_points.csv': No such file or directory\n",
      "rm: cannot remove '/home/qweddww123/farsite/TrainDataGen/WildfireShapefiles/2016/mt_boundary/20160816_2131/Number_of_points.csv': No such file or directory\n"
     ]
    },
    {
     "name": "stdout",
     "output_type": "stream",
     "text": [
      "/home/qweddww123/farsite/TrainDataGen/WildfireShapefiles/2016/mt_elk_hill/20160409_1930/MLinput/updated_Number_of_points.csv\n",
      "mt_goat_mountain\n",
      "/home/qweddww123/farsite/TrainDataGen/WildfireShapefiles/2016/mt_goat_mountain/20160902_0000/MLinput/updated_Number_of_points.csv\n",
      "mt_harris\n"
     ]
    },
    {
     "name": "stderr",
     "output_type": "stream",
     "text": [
      "rm: cannot remove '/home/qweddww123/farsite/TrainDataGen/WildfireShapefiles/2016/mt_elk_hill/20160409_1930/MLinput/updated_Number_of_points.csv': No such file or directory\n",
      "rm: cannot remove '/home/qweddww123/farsite/TrainDataGen/WildfireShapefiles/2016/mt_elk_hill/20160409_1930/Number_of_points.csv': No such file or directory\n",
      "rm: cannot remove '/home/qweddww123/farsite/TrainDataGen/WildfireShapefiles/2016/mt_goat_mountain/20160902_0000/MLinput/updated_Number_of_points.csv': No such file or directory\n",
      "rm: cannot remove '/home/qweddww123/farsite/TrainDataGen/WildfireShapefiles/2016/mt_goat_mountain/20160902_0000/Number_of_points.csv': No such file or directory\n"
     ]
    },
    {
     "name": "stdout",
     "output_type": "stream",
     "text": [
      "\n",
      "mt_mud_draw\n",
      "/home/qweddww123/farsite/TrainDataGen/WildfireShapefiles/2016/mt_mud_draw/20160712_1800/MLinput/updated_Number_of_points.csv\n",
      "mt_nez_perce\n",
      "/home/qweddww123/farsite/TrainDataGen/WildfireShapefiles/2016/mt_nez_perce/20160825_0000/MLinput/updated_Number_of_points.csv\n",
      "mt_observation\n"
     ]
    },
    {
     "name": "stderr",
     "output_type": "stream",
     "text": [
      "rm: cannot remove '/home/qweddww123/farsite/TrainDataGen/WildfireShapefiles/2016/mt_mud_draw/20160712_1800/MLinput/updated_Number_of_points.csv': No such file or directory\n",
      "rm: cannot remove '/home/qweddww123/farsite/TrainDataGen/WildfireShapefiles/2016/mt_mud_draw/20160712_1800/Number_of_points.csv': No such file or directory\n",
      "rm: cannot remove '/home/qweddww123/farsite/TrainDataGen/WildfireShapefiles/2016/mt_nez_perce/20160825_0000/MLinput/updated_Number_of_points.csv': No such file or directory\n",
      "rm: cannot remove '/home/qweddww123/farsite/TrainDataGen/WildfireShapefiles/2016/mt_nez_perce/20160825_0000/Number_of_points.csv': No such file or directory\n"
     ]
    },
    {
     "name": "stdout",
     "output_type": "stream",
     "text": [
      "/home/qweddww123/farsite/TrainDataGen/WildfireShapefiles/2016/mt_observation/20160625_1600/MLinput/updated_Number_of_points.csv\n",
      "mt_piper\n",
      "/home/qweddww123/farsite/TrainDataGen/WildfireShapefiles/2016/mt_piper/20160806_2100/MLinput/updated_Number_of_points.csv\n",
      "mt_race_horse_gulch\n"
     ]
    },
    {
     "name": "stderr",
     "output_type": "stream",
     "text": [
      "rm: cannot remove '/home/qweddww123/farsite/TrainDataGen/WildfireShapefiles/2016/mt_observation/20160625_1600/MLinput/updated_Number_of_points.csv': No such file or directory\n",
      "rm: cannot remove '/home/qweddww123/farsite/TrainDataGen/WildfireShapefiles/2016/mt_observation/20160625_1600/Number_of_points.csv': No such file or directory\n",
      "rm: cannot remove '/home/qweddww123/farsite/TrainDataGen/WildfireShapefiles/2016/mt_piper/20160806_2100/MLinput/updated_Number_of_points.csv': No such file or directory\n",
      "rm: cannot remove '/home/qweddww123/farsite/TrainDataGen/WildfireShapefiles/2016/mt_piper/20160806_2100/Number_of_points.csv': No such file or directory\n"
     ]
    },
    {
     "name": "stdout",
     "output_type": "stream",
     "text": [
      "/home/qweddww123/farsite/TrainDataGen/WildfireShapefiles/2016/mt_race_horse_gulch/20160808_0900/MLinput/updated_Number_of_points.csv\n",
      "mt_rattlesnake\n"
     ]
    },
    {
     "name": "stderr",
     "output_type": "stream",
     "text": [
      "rm: cannot remove '/home/qweddww123/farsite/TrainDataGen/WildfireShapefiles/2016/mt_race_horse_gulch/20160808_0900/MLinput/updated_Number_of_points.csv': No such file or directory\n",
      "rm: cannot remove '/home/qweddww123/farsite/TrainDataGen/WildfireShapefiles/2016/mt_race_horse_gulch/20160808_0900/Number_of_points.csv': No such file or directory\n"
     ]
    },
    {
     "name": "stdout",
     "output_type": "stream",
     "text": [
      "/home/qweddww123/farsite/TrainDataGen/WildfireShapefiles/2016/mt_rattlesnake/20160902_1147/MLinput/updated_Number_of_points.csv\n",
      "mt_roaring_lion\n"
     ]
    },
    {
     "name": "stderr",
     "output_type": "stream",
     "text": [
      "rm: cannot remove '/home/qweddww123/farsite/TrainDataGen/WildfireShapefiles/2016/mt_rattlesnake/20160902_1147/MLinput/updated_Number_of_points.csv': No such file or directory\n",
      "rm: cannot remove '/home/qweddww123/farsite/TrainDataGen/WildfireShapefiles/2016/mt_rattlesnake/20160902_1147/Number_of_points.csv': No such file or directory\n"
     ]
    },
    {
     "name": "stdout",
     "output_type": "stream",
     "text": [
      "/home/qweddww123/farsite/TrainDataGen/WildfireShapefiles/2016/mt_roaring_lion/20160801_0307/MLinput/updated_Number_of_points.csv\n",
      "mt_wall\n"
     ]
    },
    {
     "name": "stderr",
     "output_type": "stream",
     "text": [
      "rm: cannot remove '/home/qweddww123/farsite/TrainDataGen/WildfireShapefiles/2016/mt_roaring_lion/20160801_0307/MLinput/updated_Number_of_points.csv': No such file or directory\n",
      "rm: cannot remove '/home/qweddww123/farsite/TrainDataGen/WildfireShapefiles/2016/mt_roaring_lion/20160801_0307/Number_of_points.csv': No such file or directory\n"
     ]
    },
    {
     "name": "stdout",
     "output_type": "stream",
     "text": [
      "/home/qweddww123/farsite/TrainDataGen/WildfireShapefiles/2016/mt_wall/20160620_1130/MLinput/updated_Number_of_points.csv\n",
      "nc_avey_branch\n",
      "/home/qweddww123/farsite/TrainDataGen/WildfireShapefiles/2016/nc_avey_branch/20161106_1800/MLinput/updated_Number_of_points.csv\n"
     ]
    },
    {
     "name": "stderr",
     "output_type": "stream",
     "text": [
      "rm: cannot remove '/home/qweddww123/farsite/TrainDataGen/WildfireShapefiles/2016/mt_wall/20160620_1130/MLinput/updated_Number_of_points.csv': No such file or directory\n",
      "rm: cannot remove '/home/qweddww123/farsite/TrainDataGen/WildfireShapefiles/2016/mt_wall/20160620_1130/Number_of_points.csv': No such file or directory\n",
      "rm: cannot remove '/home/qweddww123/farsite/TrainDataGen/WildfireShapefiles/2016/nc_avey_branch/20161106_1800/MLinput/updated_Number_of_points.csv': No such file or directory\n",
      "rm: cannot remove '/home/qweddww123/farsite/TrainDataGen/WildfireShapefiles/2016/nc_avey_branch/20161106_1800/Number_of_points.csv': No such file or directory\n"
     ]
    },
    {
     "name": "stdout",
     "output_type": "stream",
     "text": [
      "nc_boardtree\n",
      "/home/qweddww123/farsite/TrainDataGen/WildfireShapefiles/2016/nc_boardtree/20161115_1548/MLinput/updated_Number_of_points.csv\n",
      "nc_boteler\n",
      "/home/qweddww123/farsite/TrainDataGen/WildfireShapefiles/2016/nc_boteler/20161103_2143/MLinput/updated_Number_of_points.csv\n",
      "nc_buck_creek\n",
      "/home/qweddww123/farsite/TrainDataGen/WildfireShapefiles/2016/nc_buck_creek/20161107_1318/MLinput/updated_Number_of_points.csv\n",
      "nc_bullpen\n"
     ]
    },
    {
     "name": "stderr",
     "output_type": "stream",
     "text": [
      "rm: cannot remove '/home/qweddww123/farsite/TrainDataGen/WildfireShapefiles/2016/nc_boardtree/20161115_1548/MLinput/updated_Number_of_points.csv': No such file or directory\n",
      "rm: cannot remove '/home/qweddww123/farsite/TrainDataGen/WildfireShapefiles/2016/nc_boardtree/20161115_1548/Number_of_points.csv': No such file or directory\n",
      "rm: cannot remove '/home/qweddww123/farsite/TrainDataGen/WildfireShapefiles/2016/nc_boteler/20161103_2143/MLinput/updated_Number_of_points.csv': No such file or directory\n",
      "rm: cannot remove '/home/qweddww123/farsite/TrainDataGen/WildfireShapefiles/2016/nc_boteler/20161103_2143/Number_of_points.csv': No such file or directory\n",
      "rm: cannot remove '/home/qweddww123/farsite/TrainDataGen/WildfireShapefiles/2016/nc_buck_creek/20161107_1318/MLinput/updated_Number_of_points.csv': No such file or directory\n",
      "rm: cannot remove '/home/qweddww123/farsite/TrainDataGen/WildfireShapefiles/2016/nc_buck_creek/20161107_1318/Number_of_points.csv': No such file or directory\n",
      "rm: cannot remove '/home/qweddww123/farsite/TrainDataGen/WildfireShapefiles/2016/nc_bullpen/20161116_1806/MLinput/updated_Number_of_points.csv': No such file or directory\n",
      "rm: cannot remove '/home/qweddww123/farsite/TrainDataGen/WildfireShapefiles/2016/nc_bullpen/20161116_1806/Number_of_points.csv': No such file or directory\n"
     ]
    },
    {
     "name": "stdout",
     "output_type": "stream",
     "text": [
      "/home/qweddww123/farsite/TrainDataGen/WildfireShapefiles/2016/nc_bullpen/20161116_1806/MLinput/updated_Number_of_points.csv\n",
      "nc_camp_branch\n",
      "/home/qweddww123/farsite/TrainDataGen/WildfireShapefiles/2016/nc_camp_branch/20161124_2348/MLinput/updated_Number_of_points.csv\n",
      "nc_cathy_gap\n",
      "/home/qweddww123/farsite/TrainDataGen/WildfireShapefiles/2016/nc_cathy_gap/20161117_1550/MLinput/updated_Number_of_points.csv\n",
      "nc_charley_creek\n",
      "/home/qweddww123/farsite/TrainDataGen/WildfireShapefiles/2016/nc_charley_creek/20161110_2209/MLinput/updated_Number_of_points.csv\n"
     ]
    },
    {
     "name": "stderr",
     "output_type": "stream",
     "text": [
      "rm: cannot remove '/home/qweddww123/farsite/TrainDataGen/WildfireShapefiles/2016/nc_camp_branch/20161124_2348/MLinput/updated_Number_of_points.csv': No such file or directory\n",
      "rm: cannot remove '/home/qweddww123/farsite/TrainDataGen/WildfireShapefiles/2016/nc_camp_branch/20161124_2348/Number_of_points.csv': No such file or directory\n",
      "rm: cannot remove '/home/qweddww123/farsite/TrainDataGen/WildfireShapefiles/2016/nc_cathy_gap/20161117_1550/MLinput/updated_Number_of_points.csv': No such file or directory\n",
      "rm: cannot remove '/home/qweddww123/farsite/TrainDataGen/WildfireShapefiles/2016/nc_cathy_gap/20161117_1550/Number_of_points.csv': No such file or directory\n",
      "rm: cannot remove '/home/qweddww123/farsite/TrainDataGen/WildfireShapefiles/2016/nc_charley_creek/20161110_2209/MLinput/updated_Number_of_points.csv': No such file or directory\n",
      "rm: cannot remove '/home/qweddww123/farsite/TrainDataGen/WildfireShapefiles/2016/nc_charley_creek/20161110_2209/Number_of_points.csv': No such file or directory\n"
     ]
    },
    {
     "name": "stdout",
     "output_type": "stream",
     "text": [
      "nc_chestnut_knob\n",
      "/home/qweddww123/farsite/TrainDataGen/WildfireShapefiles/2016/nc_chestnut_knob/20161111_2232/MLinput/updated_Number_of_points.csv\n",
      "nc_clear_creek\n"
     ]
    },
    {
     "name": "stderr",
     "output_type": "stream",
     "text": [
      "rm: cannot remove '/home/qweddww123/farsite/TrainDataGen/WildfireShapefiles/2016/nc_chestnut_knob/20161111_2232/MLinput/updated_Number_of_points.csv': No such file or directory\n",
      "rm: cannot remove '/home/qweddww123/farsite/TrainDataGen/WildfireShapefiles/2016/nc_chestnut_knob/20161111_2232/Number_of_points.csv': No such file or directory\n",
      "rm: cannot remove '/home/qweddww123/farsite/TrainDataGen/WildfireShapefiles/2016/nc_clear_creek/20161121_0122/MLinput/updated_Number_of_points.csv': No such file or directory\n",
      "rm: cannot remove '/home/qweddww123/farsite/TrainDataGen/WildfireShapefiles/2016/nc_clear_creek/20161121_0122/Number_of_points.csv': No such file or directory\n"
     ]
    },
    {
     "name": "stdout",
     "output_type": "stream",
     "text": [
      "/home/qweddww123/farsite/TrainDataGen/WildfireShapefiles/2016/nc_clear_creek/20161121_0122/MLinput/updated_Number_of_points.csv\n",
      "nc_cliffside\n",
      "/home/qweddww123/farsite/TrainDataGen/WildfireShapefiles/2016/nc_cliffside/20161104_2350/MLinput/updated_Number_of_points.csv\n",
      "nc_dicks_creek\n",
      "/home/qweddww123/farsite/TrainDataGen/WildfireShapefiles/2016/nc_dicks_creek/20161024_1850/MLinput/updated_Number_of_points.csv\n",
      "nc_eastern_cherokee_complex_dobson_3\n"
     ]
    },
    {
     "name": "stderr",
     "output_type": "stream",
     "text": [
      "rm: cannot remove '/home/qweddww123/farsite/TrainDataGen/WildfireShapefiles/2016/nc_cliffside/20161104_2350/MLinput/updated_Number_of_points.csv': No such file or directory\n",
      "rm: cannot remove '/home/qweddww123/farsite/TrainDataGen/WildfireShapefiles/2016/nc_cliffside/20161104_2350/Number_of_points.csv': No such file or directory\n",
      "rm: cannot remove '/home/qweddww123/farsite/TrainDataGen/WildfireShapefiles/2016/nc_dicks_creek/20161024_1850/MLinput/updated_Number_of_points.csv': No such file or directory\n",
      "rm: cannot remove '/home/qweddww123/farsite/TrainDataGen/WildfireShapefiles/2016/nc_dicks_creek/20161024_1850/Number_of_points.csv': No such file or directory\n",
      "rm: cannot remove '/home/qweddww123/farsite/TrainDataGen/WildfireShapefiles/2016/nc_eastern_cherokee_complex_dobson_3/20161111_2138/MLinput/updated_Number_of_points.csv': No such file or directory\n",
      "rm: cannot remove '/home/qweddww123/farsite/TrainDataGen/WildfireShapefiles/2016/nc_eastern_cherokee_complex_dobson_3/20161111_2138/Number_of_points.csv': No such file or directory\n"
     ]
    },
    {
     "name": "stdout",
     "output_type": "stream",
     "text": [
      "/home/qweddww123/farsite/TrainDataGen/WildfireShapefiles/2016/nc_eastern_cherokee_complex_dobson_3/20161111_2138/MLinput/updated_Number_of_points.csv\n",
      "nc_eastern_cherokee_complex_washingtons_creek\n",
      "/home/qweddww123/farsite/TrainDataGen/WildfireShapefiles/2016/nc_eastern_cherokee_complex_washingtons_creek/20161108_1909/MLinput/updated_Number_of_points.csv\n",
      "nc_ferebee_memorial\n",
      "/home/qweddww123/farsite/TrainDataGen/WildfireShapefiles/2016/nc_ferebee_memorial/20161105_2309/MLinput/updated_Number_of_points.csv\n",
      "nc_grape_cove\n",
      "/home/qweddww123/farsite/TrainDataGen/WildfireShapefiles/2016/nc_grape_cove/20161104_2350/MLinput/updated_Number_of_points.csv\n",
      "nc_horton\n"
     ]
    },
    {
     "name": "stderr",
     "output_type": "stream",
     "text": [
      "rm: cannot remove '/home/qweddww123/farsite/TrainDataGen/WildfireShapefiles/2016/nc_eastern_cherokee_complex_washingtons_creek/20161108_1909/MLinput/updated_Number_of_points.csv': No such file or directory\n",
      "rm: cannot remove '/home/qweddww123/farsite/TrainDataGen/WildfireShapefiles/2016/nc_eastern_cherokee_complex_washingtons_creek/20161108_1909/Number_of_points.csv': No such file or directory\n",
      "rm: cannot remove '/home/qweddww123/farsite/TrainDataGen/WildfireShapefiles/2016/nc_ferebee_memorial/20161105_2309/MLinput/updated_Number_of_points.csv': No such file or directory\n",
      "rm: cannot remove '/home/qweddww123/farsite/TrainDataGen/WildfireShapefiles/2016/nc_ferebee_memorial/20161105_2309/Number_of_points.csv': No such file or directory\n",
      "rm: cannot remove '/home/qweddww123/farsite/TrainDataGen/WildfireShapefiles/2016/nc_grape_cove/20161104_2350/MLinput/updated_Number_of_points.csv': No such file or directory\n",
      "rm: cannot remove '/home/qweddww123/farsite/TrainDataGen/WildfireShapefiles/2016/nc_grape_cove/20161104_2350/Number_of_points.csv': No such file or directory\n",
      "rm: cannot remove '/home/qweddww123/farsite/TrainDataGen/WildfireShapefiles/2016/nc_howard_gap/20161115_1642/MLinput/updated_Number_of_points.csv': No such file or directory\n",
      "rm: cannot remove '/home/qweddww123/farsite/TrainDataGen/WildfireShapefiles/2016/nc_howard_gap/20161115_1642/Number_of_points.csv': No such file or directory\n"
     ]
    },
    {
     "name": "stdout",
     "output_type": "stream",
     "text": [
      "\n",
      "nc_howard_gap\n",
      "/home/qweddww123/farsite/TrainDataGen/WildfireShapefiles/2016/nc_howard_gap/20161115_1642/MLinput/updated_Number_of_points.csv\n",
      "nc_hwy_151\n",
      "/home/qweddww123/farsite/TrainDataGen/WildfireShapefiles/2016/nc_hwy_151/20161125_0237/MLinput/updated_Number_of_points.csv\n",
      "nc_jones_creek\n",
      "/home/qweddww123/farsite/TrainDataGen/WildfireShapefiles/2016/nc_jones_creek/20161122_0000/MLinput/updated_Number_of_points.csv\n",
      "nc_jones_gap\n",
      "/home/qweddww123/farsite/TrainDataGen/WildfireShapefiles/2016/nc_jones_gap/20161104_2350/MLinput/updated_Number_of_points.csv\n"
     ]
    },
    {
     "name": "stderr",
     "output_type": "stream",
     "text": [
      "rm: cannot remove '/home/qweddww123/farsite/TrainDataGen/WildfireShapefiles/2016/nc_hwy_151/20161125_0237/MLinput/updated_Number_of_points.csv': No such file or directory\n",
      "rm: cannot remove '/home/qweddww123/farsite/TrainDataGen/WildfireShapefiles/2016/nc_hwy_151/20161125_0237/Number_of_points.csv': No such file or directory\n",
      "rm: cannot remove '/home/qweddww123/farsite/TrainDataGen/WildfireShapefiles/2016/nc_jones_creek/20161122_0000/MLinput/updated_Number_of_points.csv': No such file or directory\n",
      "rm: cannot remove '/home/qweddww123/farsite/TrainDataGen/WildfireShapefiles/2016/nc_jones_creek/20161122_0000/Number_of_points.csv': No such file or directory\n",
      "rm: cannot remove '/home/qweddww123/farsite/TrainDataGen/WildfireShapefiles/2016/nc_jones_gap/20161104_2350/MLinput/updated_Number_of_points.csv': No such file or directory\n",
      "rm: cannot remove '/home/qweddww123/farsite/TrainDataGen/WildfireShapefiles/2016/nc_jones_gap/20161104_2350/Number_of_points.csv': No such file or directory\n",
      "rm: cannot remove '/home/qweddww123/farsite/TrainDataGen/WildfireShapefiles/2016/nc_knob/20161105_2309/MLinput/updated_Number_of_points.csv': No such file or directory\n"
     ]
    },
    {
     "name": "stdout",
     "output_type": "stream",
     "text": [
      "nc_knob\n",
      "/home/qweddww123/farsite/TrainDataGen/WildfireShapefiles/2016/nc_knob/20161105_2309/MLinput/updated_Number_of_points.csv\n",
      "nc_maple_springs\n",
      "/home/qweddww123/farsite/TrainDataGen/WildfireShapefiles/2016/nc_maple_springs/20161106_1915/MLinput/updated_Number_of_points.csv\n",
      "nc_may_branch\n",
      "/home/qweddww123/farsite/TrainDataGen/WildfireShapefiles/2016/nc_may_branch/20161104_2350/MLinput/updated_Number_of_points.csv\n"
     ]
    },
    {
     "name": "stderr",
     "output_type": "stream",
     "text": [
      "rm: cannot remove '/home/qweddww123/farsite/TrainDataGen/WildfireShapefiles/2016/nc_knob/20161105_2309/Number_of_points.csv': No such file or directory\n",
      "rm: cannot remove '/home/qweddww123/farsite/TrainDataGen/WildfireShapefiles/2016/nc_maple_springs/20161106_1915/MLinput/updated_Number_of_points.csv': No such file or directory\n",
      "rm: cannot remove '/home/qweddww123/farsite/TrainDataGen/WildfireShapefiles/2016/nc_maple_springs/20161106_1915/Number_of_points.csv': No such file or directory\n",
      "rm: cannot remove '/home/qweddww123/farsite/TrainDataGen/WildfireShapefiles/2016/nc_may_branch/20161104_2350/MLinput/updated_Number_of_points.csv': No such file or directory\n",
      "rm: cannot remove '/home/qweddww123/farsite/TrainDataGen/WildfireShapefiles/2016/nc_may_branch/20161104_2350/Number_of_points.csv': No such file or directory\n",
      "rm: cannot remove '/home/qweddww123/farsite/TrainDataGen/WildfireShapefiles/2016/nc_moses_creek/20161104_2350/MLinput/updated_Number_of_points.csv': No such file or directory\n",
      "rm: cannot remove '/home/qweddww123/farsite/TrainDataGen/WildfireShapefiles/2016/nc_moses_creek/20161104_2350/Number_of_points.csv': No such file or directory\n"
     ]
    },
    {
     "name": "stdout",
     "output_type": "stream",
     "text": [
      "nc_moses_creek\n",
      "/home/qweddww123/farsite/TrainDataGen/WildfireShapefiles/2016/nc_moses_creek/20161104_2350/MLinput/updated_Number_of_points.csv\n",
      "nc_moss_knob\n",
      "/home/qweddww123/farsite/TrainDataGen/WildfireShapefiles/2016/nc_moss_knob/20161106_1913/MLinput/updated_Number_of_points.csv\n",
      "nc_mulberry\n",
      "/home/qweddww123/farsite/TrainDataGen/WildfireShapefiles/2016/nc_mulberry/20161110_2209/MLinput/updated_Number_of_points.csv\n",
      "nc_muskrat\n"
     ]
    },
    {
     "name": "stderr",
     "output_type": "stream",
     "text": [
      "rm: cannot remove '/home/qweddww123/farsite/TrainDataGen/WildfireShapefiles/2016/nc_moss_knob/20161106_1913/MLinput/updated_Number_of_points.csv': No such file or directory\n",
      "rm: cannot remove '/home/qweddww123/farsite/TrainDataGen/WildfireShapefiles/2016/nc_moss_knob/20161106_1913/Number_of_points.csv': No such file or directory\n",
      "rm: cannot remove '/home/qweddww123/farsite/TrainDataGen/WildfireShapefiles/2016/nc_mulberry/20161110_2209/MLinput/updated_Number_of_points.csv': No such file or directory\n",
      "rm: cannot remove '/home/qweddww123/farsite/TrainDataGen/WildfireShapefiles/2016/nc_mulberry/20161110_2209/Number_of_points.csv': No such file or directory\n",
      "rm: cannot remove '/home/qweddww123/farsite/TrainDataGen/WildfireShapefiles/2016/nc_muskrat/20161112_1426/MLinput/updated_Number_of_points.csv': No such file or directory\n",
      "rm: cannot remove '/home/qweddww123/farsite/TrainDataGen/WildfireShapefiles/2016/nc_muskrat/20161112_1426/Number_of_points.csv': No such file or directory\n",
      "rm: cannot remove '/home/qweddww123/farsite/TrainDataGen/WildfireShapefiles/2016/nc_nick/20161122_0000/MLinput/updated_Number_of_points.csv': No such file or directory\n",
      "rm: cannot remove '/home/qweddww123/farsite/TrainDataGen/WildfireShapefiles/2016/nc_nick/20161122_0000/Number_of_points.csv': No such file or directory\n"
     ]
    },
    {
     "name": "stdout",
     "output_type": "stream",
     "text": [
      "/home/qweddww123/farsite/TrainDataGen/WildfireShapefiles/2016/nc_muskrat/20161112_1426/MLinput/updated_Number_of_points.csv\n",
      "nc_nick\n",
      "/home/qweddww123/farsite/TrainDataGen/WildfireShapefiles/2016/nc_nick/20161122_0000/MLinput/updated_Number_of_points.csv\n",
      "nc_old_roughy\n",
      "/home/qweddww123/farsite/TrainDataGen/WildfireShapefiles/2016/nc_old_roughy/20161109_2017/MLinput/updated_Number_of_points.csv\n",
      "nc_party_rock\n",
      "/home/qweddww123/farsite/TrainDataGen/WildfireShapefiles/2016/nc_party_rock/20161108_1800/MLinput/updated_Number_of_points.csv\n"
     ]
    },
    {
     "name": "stderr",
     "output_type": "stream",
     "text": [
      "rm: cannot remove '/home/qweddww123/farsite/TrainDataGen/WildfireShapefiles/2016/nc_old_roughy/20161109_2017/MLinput/updated_Number_of_points.csv': No such file or directory\n",
      "rm: cannot remove '/home/qweddww123/farsite/TrainDataGen/WildfireShapefiles/2016/nc_old_roughy/20161109_2017/Number_of_points.csv': No such file or directory\n",
      "rm: cannot remove '/home/qweddww123/farsite/TrainDataGen/WildfireShapefiles/2016/nc_party_rock/20161108_1800/MLinput/updated_Number_of_points.csv': No such file or directory\n",
      "rm: cannot remove '/home/qweddww123/farsite/TrainDataGen/WildfireShapefiles/2016/nc_party_rock/20161108_1800/Number_of_points.csv': No such file or directory\n",
      "rm: cannot remove '/home/qweddww123/farsite/TrainDataGen/WildfireShapefiles/2016/nc_ridge_gap/20161114_1751/MLinput/updated_Number_of_points.csv': No such file or directory\n",
      "rm: cannot remove '/home/qweddww123/farsite/TrainDataGen/WildfireShapefiles/2016/nc_ridge_gap/20161114_1751/Number_of_points.csv': No such file or directory\n"
     ]
    },
    {
     "name": "stdout",
     "output_type": "stream",
     "text": [
      "nc_ridge_gap\n",
      "/home/qweddww123/farsite/TrainDataGen/WildfireShapefiles/2016/nc_ridge_gap/20161114_1751/MLinput/updated_Number_of_points.csv\n",
      "nc_silver_mine\n",
      "/home/qweddww123/farsite/TrainDataGen/WildfireShapefiles/2016/nc_silver_mine/20160423_0000/MLinput/updated_Number_of_points.csv\n",
      "nc_tellico\n",
      "/home/qweddww123/farsite/TrainDataGen/WildfireShapefiles/2016/nc_tellico/20161104_2350/MLinput/updated_Number_of_points.csv\n",
      "nc_upper_creek\n",
      "/home/qweddww123/farsite/TrainDataGen/WildfireShapefiles/2016/nc_upper_creek/20160608_1600/MLinput/updated_Number_of_points.csv\n",
      "nc_whipping_creek_road\n"
     ]
    },
    {
     "name": "stderr",
     "output_type": "stream",
     "text": [
      "rm: cannot remove '/home/qweddww123/farsite/TrainDataGen/WildfireShapefiles/2016/nc_silver_mine/20160423_0000/MLinput/updated_Number_of_points.csv': No such file or directory\n",
      "rm: cannot remove '/home/qweddww123/farsite/TrainDataGen/WildfireShapefiles/2016/nc_silver_mine/20160423_0000/Number_of_points.csv': No such file or directory\n",
      "rm: cannot remove '/home/qweddww123/farsite/TrainDataGen/WildfireShapefiles/2016/nc_tellico/20161104_2350/MLinput/updated_Number_of_points.csv': No such file or directory\n",
      "rm: cannot remove '/home/qweddww123/farsite/TrainDataGen/WildfireShapefiles/2016/nc_tellico/20161104_2350/Number_of_points.csv': No such file or directory\n",
      "rm: cannot remove '/home/qweddww123/farsite/TrainDataGen/WildfireShapefiles/2016/nc_upper_creek/20160608_1600/MLinput/updated_Number_of_points.csv': No such file or directory\n",
      "rm: cannot remove '/home/qweddww123/farsite/TrainDataGen/WildfireShapefiles/2016/nc_upper_creek/20160608_1600/Number_of_points.csv': No such file or directory\n"
     ]
    },
    {
     "name": "stdout",
     "output_type": "stream",
     "text": [
      "/home/qweddww123/farsite/TrainDataGen/WildfireShapefiles/2016/nc_whipping_creek_road/20160419_1730/MLinput/updated_Number_of_points.csv\n",
      "nc_whitewater\n"
     ]
    },
    {
     "name": "stderr",
     "output_type": "stream",
     "text": [
      "rm: cannot remove '/home/qweddww123/farsite/TrainDataGen/WildfireShapefiles/2016/nc_whipping_creek_road/20160419_1730/MLinput/updated_Number_of_points.csv': No such file or directory\n",
      "rm: cannot remove '/home/qweddww123/farsite/TrainDataGen/WildfireShapefiles/2016/nc_whipping_creek_road/20160419_1730/Number_of_points.csv': No such file or directory\n"
     ]
    },
    {
     "name": "stdout",
     "output_type": "stream",
     "text": [
      "/home/qweddww123/farsite/TrainDataGen/WildfireShapefiles/2016/nc_whitewater/20161109_2109/MLinput/updated_Number_of_points.csv\n",
      "nc_wine_springs\n",
      "/home/qweddww123/farsite/TrainDataGen/WildfireShapefiles/2016/nc_wine_springs/20161104_2350/MLinput/updated_Number_of_points.csv\n",
      "nh_covered_bridge\n",
      "/home/qweddww123/farsite/TrainDataGen/WildfireShapefiles/2016/nh_covered_bridge/20161113_0000/MLinput/updated_Number_of_points.csv\n",
      "nm_big_hat\n"
     ]
    },
    {
     "name": "stderr",
     "output_type": "stream",
     "text": [
      "rm: cannot remove '/home/qweddww123/farsite/TrainDataGen/WildfireShapefiles/2016/nc_whitewater/20161109_2109/MLinput/updated_Number_of_points.csv': No such file or directory\n",
      "rm: cannot remove '/home/qweddww123/farsite/TrainDataGen/WildfireShapefiles/2016/nc_whitewater/20161109_2109/Number_of_points.csv': No such file or directory\n",
      "rm: cannot remove '/home/qweddww123/farsite/TrainDataGen/WildfireShapefiles/2016/nc_wine_springs/20161104_2350/MLinput/updated_Number_of_points.csv': No such file or directory\n",
      "rm: cannot remove '/home/qweddww123/farsite/TrainDataGen/WildfireShapefiles/2016/nc_wine_springs/20161104_2350/Number_of_points.csv': No such file or directory\n",
      "rm: cannot remove '/home/qweddww123/farsite/TrainDataGen/WildfireShapefiles/2016/nh_covered_bridge/20161113_0000/MLinput/updated_Number_of_points.csv': No such file or directory\n",
      "rm: cannot remove '/home/qweddww123/farsite/TrainDataGen/WildfireShapefiles/2016/nh_covered_bridge/20161113_0000/Number_of_points.csv': No such file or directory\n"
     ]
    },
    {
     "name": "stdout",
     "output_type": "stream",
     "text": [
      "/home/qweddww123/farsite/TrainDataGen/WildfireShapefiles/2016/nm_big_hat/20160706_0000/MLinput/updated_Number_of_points.csv\n",
      "nm_black\n",
      "/home/qweddww123/farsite/TrainDataGen/WildfireShapefiles/2016/nm_black/20160712_0300/MLinput/updated_Number_of_points.csv\n",
      "nm_black_range_complex_cooney\n"
     ]
    },
    {
     "name": "stderr",
     "output_type": "stream",
     "text": [
      "rm: cannot remove '/home/qweddww123/farsite/TrainDataGen/WildfireShapefiles/2016/nm_big_hat/20160706_0000/MLinput/updated_Number_of_points.csv': No such file or directory\n",
      "rm: cannot remove '/home/qweddww123/farsite/TrainDataGen/WildfireShapefiles/2016/nm_big_hat/20160706_0000/Number_of_points.csv': No such file or directory\n",
      "rm: cannot remove '/home/qweddww123/farsite/TrainDataGen/WildfireShapefiles/2016/nm_black/20160712_0300/MLinput/updated_Number_of_points.csv': No such file or directory\n",
      "rm: cannot remove '/home/qweddww123/farsite/TrainDataGen/WildfireShapefiles/2016/nm_black/20160712_0300/Number_of_points.csv': No such file or directory\n"
     ]
    },
    {
     "name": "stdout",
     "output_type": "stream",
     "text": [
      "/home/qweddww123/farsite/TrainDataGen/WildfireShapefiles/2016/nm_black_range_complex_cooney/20160712_1800/MLinput/updated_Number_of_points.csv\n",
      "nm_black_range_complex_kline\n",
      "/home/qweddww123/farsite/TrainDataGen/WildfireShapefiles/2016/nm_black_range_complex_kline/20160711_1600/MLinput/updated_Number_of_points.csv\n",
      "nm_brannon\n"
     ]
    },
    {
     "name": "stderr",
     "output_type": "stream",
     "text": [
      "rm: cannot remove '/home/qweddww123/farsite/TrainDataGen/WildfireShapefiles/2016/nm_black_range_complex_cooney/20160712_1800/MLinput/updated_Number_of_points.csv': No such file or directory\n",
      "rm: cannot remove '/home/qweddww123/farsite/TrainDataGen/WildfireShapefiles/2016/nm_black_range_complex_cooney/20160712_1800/Number_of_points.csv': No such file or directory\n",
      "rm: cannot remove '/home/qweddww123/farsite/TrainDataGen/WildfireShapefiles/2016/nm_black_range_complex_kline/20160711_1600/MLinput/updated_Number_of_points.csv': No such file or directory\n",
      "rm: cannot remove '/home/qweddww123/farsite/TrainDataGen/WildfireShapefiles/2016/nm_black_range_complex_kline/20160711_1600/Number_of_points.csv': No such file or directory\n"
     ]
    },
    {
     "name": "stdout",
     "output_type": "stream",
     "text": [
      "/home/qweddww123/farsite/TrainDataGen/WildfireShapefiles/2016/nm_brannon/20160713_0000/MLinput/updated_Number_of_points.csv\n",
      "nm_burnt\n",
      "/home/qweddww123/farsite/TrainDataGen/WildfireShapefiles/2016/nm_burnt/20160715_0000/MLinput/updated_Number_of_points.csv\n",
      "nm_dog_head\n"
     ]
    },
    {
     "name": "stderr",
     "output_type": "stream",
     "text": [
      "rm: cannot remove '/home/qweddww123/farsite/TrainDataGen/WildfireShapefiles/2016/nm_brannon/20160713_0000/MLinput/updated_Number_of_points.csv': No such file or directory\n",
      "rm: cannot remove '/home/qweddww123/farsite/TrainDataGen/WildfireShapefiles/2016/nm_brannon/20160713_0000/Number_of_points.csv': No such file or directory\n",
      "rm: cannot remove '/home/qweddww123/farsite/TrainDataGen/WildfireShapefiles/2016/nm_burnt/20160715_0000/MLinput/updated_Number_of_points.csv': No such file or directory\n",
      "rm: cannot remove '/home/qweddww123/farsite/TrainDataGen/WildfireShapefiles/2016/nm_burnt/20160715_0000/Number_of_points.csv': No such file or directory\n"
     ]
    },
    {
     "name": "stdout",
     "output_type": "stream",
     "text": [
      "/home/qweddww123/farsite/TrainDataGen/WildfireShapefiles/2016/nm_dog_head/20160615_0245/MLinput/updated_Number_of_points.csv\n",
      "nm_gilita_complex_405\n"
     ]
    },
    {
     "name": "stderr",
     "output_type": "stream",
     "text": [
      "rm: cannot remove '/home/qweddww123/farsite/TrainDataGen/WildfireShapefiles/2016/nm_dog_head/20160615_0245/MLinput/updated_Number_of_points.csv': No such file or directory\n",
      "rm: cannot remove '/home/qweddww123/farsite/TrainDataGen/WildfireShapefiles/2016/nm_dog_head/20160615_0245/Number_of_points.csv': No such file or directory\n"
     ]
    },
    {
     "name": "stdout",
     "output_type": "stream",
     "text": [
      "/home/qweddww123/farsite/TrainDataGen/WildfireShapefiles/2016/nm_gilita_complex_405/20160713_0800/MLinput/updated_Number_of_points.csv\n",
      "nm_lawyer\n"
     ]
    },
    {
     "name": "stderr",
     "output_type": "stream",
     "text": [
      "rm: cannot remove '/home/qweddww123/farsite/TrainDataGen/WildfireShapefiles/2016/nm_gilita_complex_405/20160713_0800/MLinput/updated_Number_of_points.csv': No such file or directory\n",
      "rm: cannot remove '/home/qweddww123/farsite/TrainDataGen/WildfireShapefiles/2016/nm_gilita_complex_405/20160713_0800/Number_of_points.csv': No such file or directory\n"
     ]
    },
    {
     "name": "stdout",
     "output_type": "stream",
     "text": [
      "/home/qweddww123/farsite/TrainDataGen/WildfireShapefiles/2016/nm_lawyer/20160811_1200/MLinput/updated_Number_of_points.csv\n",
      "nm_lefthook_canyon\n"
     ]
    },
    {
     "name": "stderr",
     "output_type": "stream",
     "text": [
      "rm: cannot remove '/home/qweddww123/farsite/TrainDataGen/WildfireShapefiles/2016/nm_lawyer/20160811_1200/MLinput/updated_Number_of_points.csv': No such file or directory\n",
      "rm: cannot remove '/home/qweddww123/farsite/TrainDataGen/WildfireShapefiles/2016/nm_lawyer/20160811_1200/Number_of_points.csv': No such file or directory\n"
     ]
    },
    {
     "name": "stdout",
     "output_type": "stream",
     "text": [
      "/home/qweddww123/farsite/TrainDataGen/WildfireShapefiles/2016/nm_lefthook_canyon/20160803_1100/MLinput/updated_Number_of_points.csv\n",
      "nm_mckenna\n"
     ]
    },
    {
     "name": "stderr",
     "output_type": "stream",
     "text": [
      "rm: cannot remove '/home/qweddww123/farsite/TrainDataGen/WildfireShapefiles/2016/nm_lefthook_canyon/20160803_1100/MLinput/updated_Number_of_points.csv': No such file or directory\n",
      "rm: cannot remove '/home/qweddww123/farsite/TrainDataGen/WildfireShapefiles/2016/nm_lefthook_canyon/20160803_1100/Number_of_points.csv': No such file or directory\n"
     ]
    },
    {
     "name": "stdout",
     "output_type": "stream",
     "text": [
      "/home/qweddww123/farsite/TrainDataGen/WildfireShapefiles/2016/nm_mckenna/20160507_1000/MLinput/updated_Number_of_points.csv\n",
      "nm_miller\n",
      "/home/qweddww123/farsite/TrainDataGen/WildfireShapefiles/2016/nm_miller/20160625_1100/MLinput/updated_Number_of_points.csv\n",
      "nm_north\n",
      "/home/qweddww123/farsite/TrainDataGen/WildfireShapefiles/2016/nm_north/20160522_0800/MLinput/updated_Number_of_points.csv\n",
      "nm_puertecito\n"
     ]
    },
    {
     "name": "stderr",
     "output_type": "stream",
     "text": [
      "rm: cannot remove '/home/qweddww123/farsite/TrainDataGen/WildfireShapefiles/2016/nm_mckenna/20160507_1000/MLinput/updated_Number_of_points.csv': No such file or directory\n",
      "rm: cannot remove '/home/qweddww123/farsite/TrainDataGen/WildfireShapefiles/2016/nm_mckenna/20160507_1000/Number_of_points.csv': No such file or directory\n",
      "rm: cannot remove '/home/qweddww123/farsite/TrainDataGen/WildfireShapefiles/2016/nm_miller/20160625_1100/MLinput/updated_Number_of_points.csv': No such file or directory\n",
      "rm: cannot remove '/home/qweddww123/farsite/TrainDataGen/WildfireShapefiles/2016/nm_miller/20160625_1100/Number_of_points.csv': No such file or directory\n",
      "rm: cannot remove '/home/qweddww123/farsite/TrainDataGen/WildfireShapefiles/2016/nm_north/20160522_0800/MLinput/updated_Number_of_points.csv': No such file or directory\n",
      "rm: cannot remove '/home/qweddww123/farsite/TrainDataGen/WildfireShapefiles/2016/nm_north/20160522_0800/Number_of_points.csv': No such file or directory\n"
     ]
    },
    {
     "name": "stdout",
     "output_type": "stream",
     "text": [
      "/home/qweddww123/farsite/TrainDataGen/WildfireShapefiles/2016/nm_puertecito/20160708_1130/MLinput/updated_Number_of_points.csv\n",
      "nm_school\n"
     ]
    },
    {
     "name": "stderr",
     "output_type": "stream",
     "text": [
      "rm: cannot remove '/home/qweddww123/farsite/TrainDataGen/WildfireShapefiles/2016/nm_puertecito/20160708_1130/MLinput/updated_Number_of_points.csv': No such file or directory\n",
      "rm: cannot remove '/home/qweddww123/farsite/TrainDataGen/WildfireShapefiles/2016/nm_puertecito/20160708_1130/Number_of_points.csv': No such file or directory\n"
     ]
    },
    {
     "name": "stdout",
     "output_type": "stream",
     "text": [
      "/home/qweddww123/farsite/TrainDataGen/WildfireShapefiles/2016/nm_school/20160713_0800/MLinput/updated_Number_of_points.csv\n",
      "nm_spur\n",
      "/home/qweddww123/farsite/TrainDataGen/WildfireShapefiles/2016/nm_spur/20160523_0000/MLinput/updated_Number_of_points.csv\n",
      "nm_timber\n"
     ]
    },
    {
     "name": "stderr",
     "output_type": "stream",
     "text": [
      "rm: cannot remove '/home/qweddww123/farsite/TrainDataGen/WildfireShapefiles/2016/nm_school/20160713_0800/MLinput/updated_Number_of_points.csv': No such file or directory\n",
      "rm: cannot remove '/home/qweddww123/farsite/TrainDataGen/WildfireShapefiles/2016/nm_school/20160713_0800/Number_of_points.csv': No such file or directory\n",
      "rm: cannot remove '/home/qweddww123/farsite/TrainDataGen/WildfireShapefiles/2016/nm_spur/20160523_0000/MLinput/updated_Number_of_points.csv': No such file or directory\n",
      "rm: cannot remove '/home/qweddww123/farsite/TrainDataGen/WildfireShapefiles/2016/nm_spur/20160523_0000/Number_of_points.csv': No such file or directory\n"
     ]
    },
    {
     "name": "stdout",
     "output_type": "stream",
     "text": [
      "/home/qweddww123/farsite/TrainDataGen/WildfireShapefiles/2016/nm_timber/20160713_0000/MLinput/updated_Number_of_points.csv\n",
      "nm_turkey\n",
      "/home/qweddww123/farsite/TrainDataGen/WildfireShapefiles/2016/nm_turkey/20160610_0000/MLinput/updated_Number_of_points.csv\n",
      "nv_horseshoe\n"
     ]
    },
    {
     "name": "stderr",
     "output_type": "stream",
     "text": [
      "rm: cannot remove '/home/qweddww123/farsite/TrainDataGen/WildfireShapefiles/2016/nm_timber/20160713_0000/MLinput/updated_Number_of_points.csv': No such file or directory\n",
      "rm: cannot remove '/home/qweddww123/farsite/TrainDataGen/WildfireShapefiles/2016/nm_timber/20160713_0000/Number_of_points.csv': No such file or directory\n",
      "rm: cannot remove '/home/qweddww123/farsite/TrainDataGen/WildfireShapefiles/2016/nm_turkey/20160610_0000/MLinput/updated_Number_of_points.csv': No such file or directory\n",
      "rm: cannot remove '/home/qweddww123/farsite/TrainDataGen/WildfireShapefiles/2016/nm_turkey/20160610_0000/Number_of_points.csv': No such file or directory\n"
     ]
    },
    {
     "name": "stdout",
     "output_type": "stream",
     "text": [
      "/home/qweddww123/farsite/TrainDataGen/WildfireShapefiles/2016/nv_horseshoe/20160629_1745/MLinput/updated_Number_of_points.csv\n",
      "nv_hot_pot\n",
      "\n",
      "nv_izzenhood\n"
     ]
    },
    {
     "name": "stderr",
     "output_type": "stream",
     "text": [
      "rm: cannot remove '/home/qweddww123/farsite/TrainDataGen/WildfireShapefiles/2016/nv_horseshoe/20160629_1745/MLinput/updated_Number_of_points.csv': No such file or directory\n",
      "rm: cannot remove '/home/qweddww123/farsite/TrainDataGen/WildfireShapefiles/2016/nv_horseshoe/20160629_1745/Number_of_points.csv': No such file or directory\n"
     ]
    },
    {
     "name": "stdout",
     "output_type": "stream",
     "text": [
      "/home/qweddww123/farsite/TrainDataGen/WildfireShapefiles/2016/nv_izzenhood/20160904_0000/MLinput/updated_Number_of_points.csv\n",
      "nv_little_den\n"
     ]
    },
    {
     "name": "stderr",
     "output_type": "stream",
     "text": [
      "rm: cannot remove '/home/qweddww123/farsite/TrainDataGen/WildfireShapefiles/2016/nv_izzenhood/20160904_0000/MLinput/updated_Number_of_points.csv': No such file or directory\n",
      "rm: cannot remove '/home/qweddww123/farsite/TrainDataGen/WildfireShapefiles/2016/nv_izzenhood/20160904_0000/Number_of_points.csv': No such file or directory\n"
     ]
    },
    {
     "name": "stdout",
     "output_type": "stream",
     "text": [
      "/home/qweddww123/farsite/TrainDataGen/WildfireShapefiles/2016/nv_little_den/20160721_0600/MLinput/updated_Number_of_points.csv\n",
      "nv_little_valley\n"
     ]
    },
    {
     "name": "stderr",
     "output_type": "stream",
     "text": [
      "rm: cannot remove '/home/qweddww123/farsite/TrainDataGen/WildfireShapefiles/2016/nv_little_den/20160721_0600/MLinput/updated_Number_of_points.csv': No such file or directory\n",
      "rm: cannot remove '/home/qweddww123/farsite/TrainDataGen/WildfireShapefiles/2016/nv_little_den/20160721_0600/Number_of_points.csv': No such file or directory\n"
     ]
    },
    {
     "name": "stdout",
     "output_type": "stream",
     "text": [
      "/home/qweddww123/farsite/TrainDataGen/WildfireShapefiles/2016/nv_little_valley/20161014_2123/MLinput/updated_Number_of_points.csv\n",
      "nv_lovell\n"
     ]
    },
    {
     "name": "stderr",
     "output_type": "stream",
     "text": [
      "rm: cannot remove '/home/qweddww123/farsite/TrainDataGen/WildfireShapefiles/2016/nv_little_valley/20161014_2123/MLinput/updated_Number_of_points.csv': No such file or directory\n",
      "rm: cannot remove '/home/qweddww123/farsite/TrainDataGen/WildfireShapefiles/2016/nv_little_valley/20161014_2123/Number_of_points.csv': No such file or directory\n"
     ]
    },
    {
     "name": "stdout",
     "output_type": "stream",
     "text": [
      "/home/qweddww123/farsite/TrainDataGen/WildfireShapefiles/2016/nv_lovell/20160626_1900/MLinput/updated_Number_of_points.csv\n",
      "nv_maggie\n"
     ]
    },
    {
     "name": "stderr",
     "output_type": "stream",
     "text": [
      "rm: cannot remove '/home/qweddww123/farsite/TrainDataGen/WildfireShapefiles/2016/nv_lovell/20160626_1900/MLinput/updated_Number_of_points.csv': No such file or directory\n",
      "rm: cannot remove '/home/qweddww123/farsite/TrainDataGen/WildfireShapefiles/2016/nv_lovell/20160626_1900/Number_of_points.csv': No such file or directory\n"
     ]
    },
    {
     "name": "stdout",
     "output_type": "stream",
     "text": [
      "/home/qweddww123/farsite/TrainDataGen/WildfireShapefiles/2016/nv_maggie/20160901_1700/MLinput/updated_Number_of_points.csv\n",
      "nv_overland\n"
     ]
    },
    {
     "name": "stderr",
     "output_type": "stream",
     "text": [
      "rm: cannot remove '/home/qweddww123/farsite/TrainDataGen/WildfireShapefiles/2016/nv_maggie/20160901_1700/MLinput/updated_Number_of_points.csv': No such file or directory\n",
      "rm: cannot remove '/home/qweddww123/farsite/TrainDataGen/WildfireShapefiles/2016/nv_maggie/20160901_1700/Number_of_points.csv': No such file or directory\n"
     ]
    },
    {
     "name": "stdout",
     "output_type": "stream",
     "text": [
      "/home/qweddww123/farsite/TrainDataGen/WildfireShapefiles/2016/nv_overland/20160808_1910/MLinput/updated_Number_of_points.csv\n",
      "nv_pinto\n"
     ]
    },
    {
     "name": "stderr",
     "output_type": "stream",
     "text": [
      "rm: cannot remove '/home/qweddww123/farsite/TrainDataGen/WildfireShapefiles/2016/nv_overland/20160808_1910/MLinput/updated_Number_of_points.csv': No such file or directory\n",
      "rm: cannot remove '/home/qweddww123/farsite/TrainDataGen/WildfireShapefiles/2016/nv_overland/20160808_1910/Number_of_points.csv': No such file or directory\n"
     ]
    },
    {
     "name": "stdout",
     "output_type": "stream",
     "text": [
      "/home/qweddww123/farsite/TrainDataGen/WildfireShapefiles/2016/nv_pinto/20160722_2056/MLinput/updated_Number_of_points.csv\n",
      "nv_strawberry\n"
     ]
    },
    {
     "name": "stderr",
     "output_type": "stream",
     "text": [
      "rm: cannot remove '/home/qweddww123/farsite/TrainDataGen/WildfireShapefiles/2016/nv_pinto/20160722_2056/MLinput/updated_Number_of_points.csv': No such file or directory\n",
      "rm: cannot remove '/home/qweddww123/farsite/TrainDataGen/WildfireShapefiles/2016/nv_pinto/20160722_2056/Number_of_points.csv': No such file or directory\n"
     ]
    },
    {
     "name": "stdout",
     "output_type": "stream",
     "text": [
      "/home/qweddww123/farsite/TrainDataGen/WildfireShapefiles/2016/nv_strawberry/20160810_0054/MLinput/updated_Number_of_points.csv\n",
      "nv_virginia_mountains_complex_anderson\n"
     ]
    },
    {
     "name": "stderr",
     "output_type": "stream",
     "text": [
      "rm: cannot remove '/home/qweddww123/farsite/TrainDataGen/WildfireShapefiles/2016/nv_strawberry/20160810_0054/MLinput/updated_Number_of_points.csv': No such file or directory\n",
      "rm: cannot remove '/home/qweddww123/farsite/TrainDataGen/WildfireShapefiles/2016/nv_strawberry/20160810_0054/Number_of_points.csv': No such file or directory\n"
     ]
    },
    {
     "name": "stdout",
     "output_type": "stream",
     "text": [
      "/home/qweddww123/farsite/TrainDataGen/WildfireShapefiles/2016/nv_virginia_mountains_complex_anderson/20160730_1400/MLinput/updated_Number_of_points.csv\n",
      "nv_virginia_mountains_complex_rock\n"
     ]
    },
    {
     "name": "stderr",
     "output_type": "stream",
     "text": [
      "rm: cannot remove '/home/qweddww123/farsite/TrainDataGen/WildfireShapefiles/2016/nv_virginia_mountains_complex_anderson/20160730_1400/MLinput/updated_Number_of_points.csv': No such file or directory\n",
      "rm: cannot remove '/home/qweddww123/farsite/TrainDataGen/WildfireShapefiles/2016/nv_virginia_mountains_complex_anderson/20160730_1400/Number_of_points.csv': No such file or directory\n"
     ]
    },
    {
     "name": "stdout",
     "output_type": "stream",
     "text": [
      "/home/qweddww123/farsite/TrainDataGen/WildfireShapefiles/2016/nv_virginia_mountains_complex_rock/20160730_2336/MLinput/updated_Number_of_points.csv\n",
      "nv_virginia_mountains_complex_sage\n"
     ]
    },
    {
     "name": "stderr",
     "output_type": "stream",
     "text": [
      "rm: cannot remove '/home/qweddww123/farsite/TrainDataGen/WildfireShapefiles/2016/nv_virginia_mountains_complex_rock/20160730_2336/MLinput/updated_Number_of_points.csv': No such file or directory\n",
      "rm: cannot remove '/home/qweddww123/farsite/TrainDataGen/WildfireShapefiles/2016/nv_virginia_mountains_complex_rock/20160730_2336/Number_of_points.csv': No such file or directory\n"
     ]
    },
    {
     "name": "stdout",
     "output_type": "stream",
     "text": [
      "/home/qweddww123/farsite/TrainDataGen/WildfireShapefiles/2016/nv_virginia_mountains_complex_sage/20160730_2336/MLinput/updated_Number_of_points.csv\n",
      "nv_virginia_mountains_complex_seven_lakes\n"
     ]
    },
    {
     "name": "stderr",
     "output_type": "stream",
     "text": [
      "rm: cannot remove '/home/qweddww123/farsite/TrainDataGen/WildfireShapefiles/2016/nv_virginia_mountains_complex_sage/20160730_2336/MLinput/updated_Number_of_points.csv': No such file or directory\n",
      "rm: cannot remove '/home/qweddww123/farsite/TrainDataGen/WildfireShapefiles/2016/nv_virginia_mountains_complex_sage/20160730_2336/Number_of_points.csv': No such file or directory\n"
     ]
    },
    {
     "name": "stdout",
     "output_type": "stream",
     "text": [
      "/home/qweddww123/farsite/TrainDataGen/WildfireShapefiles/2016/nv_virginia_mountains_complex_seven_lakes/20160730_2336/MLinput/updated_Number_of_points.csv\n",
      "nv_virginia_mountains_complex_tule\n",
      "\n",
      "or_0152_akawana_od\n"
     ]
    },
    {
     "name": "stderr",
     "output_type": "stream",
     "text": [
      "rm: cannot remove '/home/qweddww123/farsite/TrainDataGen/WildfireShapefiles/2016/nv_virginia_mountains_complex_seven_lakes/20160730_2336/MLinput/updated_Number_of_points.csv': No such file or directory\n",
      "rm: cannot remove '/home/qweddww123/farsite/TrainDataGen/WildfireShapefiles/2016/nv_virginia_mountains_complex_seven_lakes/20160730_2336/Number_of_points.csv': No such file or directory\n"
     ]
    },
    {
     "name": "stdout",
     "output_type": "stream",
     "text": [
      "/home/qweddww123/farsite/TrainDataGen/WildfireShapefiles/2016/or_0152_akawana_od/20160608_2136/MLinput/updated_Number_of_points.csv\n",
      "or_0162_rn_currie_canyon\n"
     ]
    },
    {
     "name": "stderr",
     "output_type": "stream",
     "text": [
      "rm: cannot remove '/home/qweddww123/farsite/TrainDataGen/WildfireShapefiles/2016/or_0152_akawana_od/20160608_2136/MLinput/updated_Number_of_points.csv': No such file or directory\n",
      "rm: cannot remove '/home/qweddww123/farsite/TrainDataGen/WildfireShapefiles/2016/or_0152_akawana_od/20160608_2136/Number_of_points.csv': No such file or directory\n"
     ]
    },
    {
     "name": "stdout",
     "output_type": "stream",
     "text": [
      "/home/qweddww123/farsite/TrainDataGen/WildfireShapefiles/2016/or_0162_rn_currie_canyon/20160609_1712/MLinput/updated_Number_of_points.csv\n",
      "or_0353_rn_scott_canyon\n",
      "\n",
      "or_2500_road\n",
      "\n",
      "or_bybee_creek\n"
     ]
    },
    {
     "name": "stderr",
     "output_type": "stream",
     "text": [
      "rm: cannot remove '/home/qweddww123/farsite/TrainDataGen/WildfireShapefiles/2016/or_0162_rn_currie_canyon/20160609_1712/MLinput/updated_Number_of_points.csv': No such file or directory\n",
      "rm: cannot remove '/home/qweddww123/farsite/TrainDataGen/WildfireShapefiles/2016/or_0162_rn_currie_canyon/20160609_1712/Number_of_points.csv': No such file or directory\n"
     ]
    },
    {
     "name": "stdout",
     "output_type": "stream",
     "text": [
      "/home/qweddww123/farsite/TrainDataGen/WildfireShapefiles/2016/or_bybee_creek/20160730_1900/MLinput/updated_Number_of_points.csv\n",
      "or_cherry_road\n",
      "\n",
      "or_cleveland_ridge\n"
     ]
    },
    {
     "name": "stderr",
     "output_type": "stream",
     "text": [
      "rm: cannot remove '/home/qweddww123/farsite/TrainDataGen/WildfireShapefiles/2016/or_bybee_creek/20160730_1900/MLinput/updated_Number_of_points.csv': No such file or directory\n",
      "rm: cannot remove '/home/qweddww123/farsite/TrainDataGen/WildfireShapefiles/2016/or_bybee_creek/20160730_1900/Number_of_points.csv': No such file or directory\n",
      "rm: cannot remove '/home/qweddww123/farsite/TrainDataGen/WildfireShapefiles/2016/or_cleveland_ridge/20160823_0000/MLinput/updated_Number_of_points.csv': No such file or directory\n",
      "rm: cannot remove '/home/qweddww123/farsite/TrainDataGen/WildfireShapefiles/2016/or_cleveland_ridge/20160823_0000/Number_of_points.csv': No such file or directory\n",
      "rm: cannot remove '/home/qweddww123/farsite/TrainDataGen/WildfireShapefiles/2016/or_draw/20160607_0900/MLinput/updated_Number_of_points.csv': No such file or directory\n",
      "rm: cannot remove '/home/qweddww123/farsite/TrainDataGen/WildfireShapefiles/2016/or_draw/20160607_0900/Number_of_points.csv': No such file or directory\n"
     ]
    },
    {
     "name": "stdout",
     "output_type": "stream",
     "text": [
      "/home/qweddww123/farsite/TrainDataGen/WildfireShapefiles/2016/or_cleveland_ridge/20160823_0000/MLinput/updated_Number_of_points.csv\n",
      "or_draw\n",
      "/home/qweddww123/farsite/TrainDataGen/WildfireShapefiles/2016/or_draw/20160607_0900/MLinput/updated_Number_of_points.csv\n",
      "or_gibbon\n",
      "/home/qweddww123/farsite/TrainDataGen/WildfireShapefiles/2016/or_gibbon/20160809_0000/MLinput/updated_Number_of_points.csv\n",
      "or_gold_canyon\n",
      "/home/qweddww123/farsite/TrainDataGen/WildfireShapefiles/2016/or_gold_canyon/20160902_0000/MLinput/updated_Number_of_points.csv\n",
      "or_high_pass_12_5\n"
     ]
    },
    {
     "name": "stderr",
     "output_type": "stream",
     "text": [
      "rm: cannot remove '/home/qweddww123/farsite/TrainDataGen/WildfireShapefiles/2016/or_gibbon/20160809_0000/MLinput/updated_Number_of_points.csv': No such file or directory\n",
      "rm: cannot remove '/home/qweddww123/farsite/TrainDataGen/WildfireShapefiles/2016/or_gibbon/20160809_0000/Number_of_points.csv': No such file or directory\n",
      "rm: cannot remove '/home/qweddww123/farsite/TrainDataGen/WildfireShapefiles/2016/or_gold_canyon/20160902_0000/MLinput/updated_Number_of_points.csv': No such file or directory\n",
      "rm: cannot remove '/home/qweddww123/farsite/TrainDataGen/WildfireShapefiles/2016/or_gold_canyon/20160902_0000/Number_of_points.csv': No such file or directory\n"
     ]
    },
    {
     "name": "stdout",
     "output_type": "stream",
     "text": [
      "/home/qweddww123/farsite/TrainDataGen/WildfireShapefiles/2016/or_high_pass_12_5/20160526_2140/MLinput/updated_Number_of_points.csv\n",
      "or_juntura_complex_rooster_comb\n"
     ]
    },
    {
     "name": "stderr",
     "output_type": "stream",
     "text": [
      "rm: cannot remove '/home/qweddww123/farsite/TrainDataGen/WildfireShapefiles/2016/or_high_pass_12_5/20160526_2140/MLinput/updated_Number_of_points.csv': No such file or directory\n",
      "rm: cannot remove '/home/qweddww123/farsite/TrainDataGen/WildfireShapefiles/2016/or_high_pass_12_5/20160526_2140/Number_of_points.csv': No such file or directory\n"
     ]
    },
    {
     "name": "stdout",
     "output_type": "stream",
     "text": [
      "/home/qweddww123/farsite/TrainDataGen/WildfireShapefiles/2016/or_juntura_complex_rooster_comb/20160808_1300/MLinput/updated_Number_of_points.csv\n",
      "or_juntura_complex_sheep_rock\n"
     ]
    },
    {
     "name": "stderr",
     "output_type": "stream",
     "text": [
      "rm: cannot remove '/home/qweddww123/farsite/TrainDataGen/WildfireShapefiles/2016/or_juntura_complex_rooster_comb/20160808_1300/MLinput/updated_Number_of_points.csv': No such file or directory\n",
      "rm: cannot remove '/home/qweddww123/farsite/TrainDataGen/WildfireShapefiles/2016/or_juntura_complex_rooster_comb/20160808_1300/Number_of_points.csv': No such file or directory\n"
     ]
    },
    {
     "name": "stdout",
     "output_type": "stream",
     "text": [
      "/home/qweddww123/farsite/TrainDataGen/WildfireShapefiles/2016/or_juntura_complex_sheep_rock/20160808_1300/MLinput/updated_Number_of_points.csv\n",
      "or_juntura_complex_simmons_gulch\n",
      "\n",
      "or_minam\n"
     ]
    },
    {
     "name": "stderr",
     "output_type": "stream",
     "text": [
      "rm: cannot remove '/home/qweddww123/farsite/TrainDataGen/WildfireShapefiles/2016/or_juntura_complex_sheep_rock/20160808_1300/MLinput/updated_Number_of_points.csv': No such file or directory\n",
      "rm: cannot remove '/home/qweddww123/farsite/TrainDataGen/WildfireShapefiles/2016/or_juntura_complex_sheep_rock/20160808_1300/Number_of_points.csv': No such file or directory\n"
     ]
    },
    {
     "name": "stdout",
     "output_type": "stream",
     "text": [
      "/home/qweddww123/farsite/TrainDataGen/WildfireShapefiles/2016/or_minam/20161002_1700/MLinput/updated_Number_of_points.csv\n",
      "or_mr_068_blue_top\n",
      "/home/qweddww123/farsite/TrainDataGen/WildfireShapefiles/2016/or_mr_068_blue_top/20160802_0000/MLinput/updated_Number_of_points.csv\n",
      "or_owyhee_canyon\n",
      "\n",
      "or_rail\n"
     ]
    },
    {
     "name": "stderr",
     "output_type": "stream",
     "text": [
      "rm: cannot remove '/home/qweddww123/farsite/TrainDataGen/WildfireShapefiles/2016/or_minam/20161002_1700/MLinput/updated_Number_of_points.csv': No such file or directory\n",
      "rm: cannot remove '/home/qweddww123/farsite/TrainDataGen/WildfireShapefiles/2016/or_minam/20161002_1700/Number_of_points.csv': No such file or directory\n",
      "rm: cannot remove '/home/qweddww123/farsite/TrainDataGen/WildfireShapefiles/2016/or_mr_068_blue_top/20160802_0000/MLinput/updated_Number_of_points.csv': No such file or directory\n",
      "rm: cannot remove '/home/qweddww123/farsite/TrainDataGen/WildfireShapefiles/2016/or_mr_068_blue_top/20160802_0000/Number_of_points.csv': No such file or directory\n"
     ]
    },
    {
     "name": "stdout",
     "output_type": "stream",
     "text": [
      "/home/qweddww123/farsite/TrainDataGen/WildfireShapefiles/2016/or_rail/20160801_0600/MLinput/updated_Number_of_points.csv\n",
      "or_rattlesnake\n"
     ]
    },
    {
     "name": "stderr",
     "output_type": "stream",
     "text": [
      "rm: cannot remove '/home/qweddww123/farsite/TrainDataGen/WildfireShapefiles/2016/or_rail/20160801_0600/MLinput/updated_Number_of_points.csv': No such file or directory\n",
      "rm: cannot remove '/home/qweddww123/farsite/TrainDataGen/WildfireShapefiles/2016/or_rail/20160801_0600/Number_of_points.csv': No such file or directory\n"
     ]
    },
    {
     "name": "stdout",
     "output_type": "stream",
     "text": [
      "/home/qweddww123/farsite/TrainDataGen/WildfireShapefiles/2016/or_rattlesnake/20160725_1730/MLinput/updated_Number_of_points.csv\n",
      "or_rim_reservoir\n"
     ]
    },
    {
     "name": "stderr",
     "output_type": "stream",
     "text": [
      "rm: cannot remove '/home/qweddww123/farsite/TrainDataGen/WildfireShapefiles/2016/or_rattlesnake/20160725_1730/MLinput/updated_Number_of_points.csv': No such file or directory\n",
      "rm: cannot remove '/home/qweddww123/farsite/TrainDataGen/WildfireShapefiles/2016/or_rattlesnake/20160725_1730/Number_of_points.csv': No such file or directory\n"
     ]
    },
    {
     "name": "stdout",
     "output_type": "stream",
     "text": [
      "/home/qweddww123/farsite/TrainDataGen/WildfireShapefiles/2016/or_rim_reservoir/20160818_0000/MLinput/updated_Number_of_points.csv\n",
      "or_withers\n"
     ]
    },
    {
     "name": "stderr",
     "output_type": "stream",
     "text": [
      "rm: cannot remove '/home/qweddww123/farsite/TrainDataGen/WildfireShapefiles/2016/or_rim_reservoir/20160818_0000/MLinput/updated_Number_of_points.csv': No such file or directory\n",
      "rm: cannot remove '/home/qweddww123/farsite/TrainDataGen/WildfireShapefiles/2016/or_rim_reservoir/20160818_0000/Number_of_points.csv': No such file or directory\n"
     ]
    },
    {
     "name": "stdout",
     "output_type": "stream",
     "text": [
      "/home/qweddww123/farsite/TrainDataGen/WildfireShapefiles/2016/or_withers/20160817_1855/MLinput/updated_Number_of_points.csv\n",
      "sc_pinnacle_mountain\n",
      "/home/qweddww123/farsite/TrainDataGen/WildfireShapefiles/2016/sc_pinnacle_mountain/20161111_2215/MLinput/updated_Number_of_points.csv\n",
      "sd_cold\n"
     ]
    },
    {
     "name": "stderr",
     "output_type": "stream",
     "text": [
      "rm: cannot remove '/home/qweddww123/farsite/TrainDataGen/WildfireShapefiles/2016/or_withers/20160817_1855/MLinput/updated_Number_of_points.csv': No such file or directory\n",
      "rm: cannot remove '/home/qweddww123/farsite/TrainDataGen/WildfireShapefiles/2016/or_withers/20160817_1855/Number_of_points.csv': No such file or directory\n",
      "rm: cannot remove '/home/qweddww123/farsite/TrainDataGen/WildfireShapefiles/2016/sc_pinnacle_mountain/20161111_2215/MLinput/updated_Number_of_points.csv': No such file or directory\n",
      "rm: cannot remove '/home/qweddww123/farsite/TrainDataGen/WildfireShapefiles/2016/sc_pinnacle_mountain/20161111_2215/Number_of_points.csv': No such file or directory\n"
     ]
    },
    {
     "name": "stdout",
     "output_type": "stream",
     "text": [
      "/home/qweddww123/farsite/TrainDataGen/WildfireShapefiles/2016/sd_cold/20160403_0103/MLinput/updated_Number_of_points.csv\n",
      "sd_crow_peak\n",
      "/home/qweddww123/farsite/TrainDataGen/WildfireShapefiles/2016/sd_crow_peak/20160625_0900/MLinput/updated_Number_of_points.csv\n",
      "tn_bald_knob\n"
     ]
    },
    {
     "name": "stderr",
     "output_type": "stream",
     "text": [
      "rm: cannot remove '/home/qweddww123/farsite/TrainDataGen/WildfireShapefiles/2016/sd_cold/20160403_0103/MLinput/updated_Number_of_points.csv': No such file or directory\n",
      "rm: cannot remove '/home/qweddww123/farsite/TrainDataGen/WildfireShapefiles/2016/sd_cold/20160403_0103/Number_of_points.csv': No such file or directory\n",
      "rm: cannot remove '/home/qweddww123/farsite/TrainDataGen/WildfireShapefiles/2016/sd_crow_peak/20160625_0900/MLinput/updated_Number_of_points.csv': No such file or directory\n",
      "rm: cannot remove '/home/qweddww123/farsite/TrainDataGen/WildfireShapefiles/2016/sd_crow_peak/20160625_0900/Number_of_points.csv': No such file or directory\n"
     ]
    },
    {
     "name": "stdout",
     "output_type": "stream",
     "text": [
      "/home/qweddww123/farsite/TrainDataGen/WildfireShapefiles/2016/tn_bald_knob/20161122_0021/MLinput/updated_Number_of_points.csv\n",
      "tn_beech_grove_road\n",
      "/home/qweddww123/farsite/TrainDataGen/WildfireShapefiles/2016/tn_beech_grove_road/20161124_2355/MLinput/updated_Number_of_points.csv\n",
      "tn_bench_bluff\n"
     ]
    },
    {
     "name": "stderr",
     "output_type": "stream",
     "text": [
      "rm: cannot remove '/home/qweddww123/farsite/TrainDataGen/WildfireShapefiles/2016/tn_bald_knob/20161122_0021/MLinput/updated_Number_of_points.csv': No such file or directory\n",
      "rm: cannot remove '/home/qweddww123/farsite/TrainDataGen/WildfireShapefiles/2016/tn_bald_knob/20161122_0021/Number_of_points.csv': No such file or directory\n",
      "rm: cannot remove '/home/qweddww123/farsite/TrainDataGen/WildfireShapefiles/2016/tn_beech_grove_road/20161124_2355/MLinput/updated_Number_of_points.csv': No such file or directory\n",
      "rm: cannot remove '/home/qweddww123/farsite/TrainDataGen/WildfireShapefiles/2016/tn_beech_grove_road/20161124_2355/Number_of_points.csv': No such file or directory\n"
     ]
    },
    {
     "name": "stdout",
     "output_type": "stream",
     "text": [
      "/home/qweddww123/farsite/TrainDataGen/WildfireShapefiles/2016/tn_bench_bluff/20161115_2227/MLinput/updated_Number_of_points.csv\n",
      "tn_big_poplar\n",
      "/home/qweddww123/farsite/TrainDataGen/WildfireShapefiles/2016/tn_big_poplar/20161118_2122/MLinput/updated_Number_of_points.csv\n",
      "tn_cave_cove\n"
     ]
    },
    {
     "name": "stderr",
     "output_type": "stream",
     "text": [
      "rm: cannot remove '/home/qweddww123/farsite/TrainDataGen/WildfireShapefiles/2016/tn_bench_bluff/20161115_2227/MLinput/updated_Number_of_points.csv': No such file or directory\n",
      "rm: cannot remove '/home/qweddww123/farsite/TrainDataGen/WildfireShapefiles/2016/tn_bench_bluff/20161115_2227/Number_of_points.csv': No such file or directory\n",
      "rm: cannot remove '/home/qweddww123/farsite/TrainDataGen/WildfireShapefiles/2016/tn_big_poplar/20161118_2122/MLinput/updated_Number_of_points.csv': No such file or directory\n",
      "rm: cannot remove '/home/qweddww123/farsite/TrainDataGen/WildfireShapefiles/2016/tn_big_poplar/20161118_2122/Number_of_points.csv': No such file or directory\n"
     ]
    },
    {
     "name": "stdout",
     "output_type": "stream",
     "text": [
      "/home/qweddww123/farsite/TrainDataGen/WildfireShapefiles/2016/tn_cave_cove/20161117_2008/MLinput/updated_Number_of_points.csv\n",
      "tn_chimney_rock\n",
      "/home/qweddww123/farsite/TrainDataGen/WildfireShapefiles/2016/tn_chimney_rock/20161127_0041/MLinput/updated_Number_of_points.csv\n",
      "tn_chimney_tops_2\n",
      "\n",
      "tn_cobbly_nob\n",
      "/home/qweddww123/farsite/TrainDataGen/WildfireShapefiles/2016/tn_cobbly_nob/20161201_2322/MLinput/updated_Number_of_points.csv\n"
     ]
    },
    {
     "name": "stderr",
     "output_type": "stream",
     "text": [
      "rm: cannot remove '/home/qweddww123/farsite/TrainDataGen/WildfireShapefiles/2016/tn_cave_cove/20161117_2008/MLinput/updated_Number_of_points.csv': No such file or directory\n",
      "rm: cannot remove '/home/qweddww123/farsite/TrainDataGen/WildfireShapefiles/2016/tn_cave_cove/20161117_2008/Number_of_points.csv': No such file or directory\n",
      "rm: cannot remove '/home/qweddww123/farsite/TrainDataGen/WildfireShapefiles/2016/tn_chimney_rock/20161127_0041/MLinput/updated_Number_of_points.csv': No such file or directory\n",
      "rm: cannot remove '/home/qweddww123/farsite/TrainDataGen/WildfireShapefiles/2016/tn_chimney_rock/20161127_0041/Number_of_points.csv': No such file or directory\n",
      "rm: cannot remove '/home/qweddww123/farsite/TrainDataGen/WildfireShapefiles/2016/tn_cobbly_nob/20161201_2322/MLinput/updated_Number_of_points.csv': No such file or directory\n",
      "rm: cannot remove '/home/qweddww123/farsite/TrainDataGen/WildfireShapefiles/2016/tn_cobbly_nob/20161201_2322/Number_of_points.csv': No such file or directory\n"
     ]
    },
    {
     "name": "stdout",
     "output_type": "stream",
     "text": [
      "tn_cool_branch_road\n",
      "/home/qweddww123/farsite/TrainDataGen/WildfireShapefiles/2016/tn_cool_branch_road/20161119_0001/MLinput/updated_Number_of_points.csv\n",
      "tn_east_miller_cove\n"
     ]
    },
    {
     "name": "stderr",
     "output_type": "stream",
     "text": [
      "rm: cannot remove '/home/qweddww123/farsite/TrainDataGen/WildfireShapefiles/2016/tn_cool_branch_road/20161119_0001/MLinput/updated_Number_of_points.csv': No such file or directory\n",
      "rm: cannot remove '/home/qweddww123/farsite/TrainDataGen/WildfireShapefiles/2016/tn_cool_branch_road/20161119_0001/Number_of_points.csv': No such file or directory\n",
      "rm: cannot remove '/home/qweddww123/farsite/TrainDataGen/WildfireShapefiles/2016/tn_east_miller_cove/20161118_2238/MLinput/updated_Number_of_points.csv': No such file or directory\n",
      "rm: cannot remove '/home/qweddww123/farsite/TrainDataGen/WildfireShapefiles/2016/tn_east_miller_cove/20161118_2238/Number_of_points.csv': No such file or directory\n",
      "rm: cannot remove '/home/qweddww123/farsite/TrainDataGen/WildfireShapefiles/2016/tn_flippers_bend/20161106_2044/MLinput/updated_Number_of_points.csv': No such file or directory\n"
     ]
    },
    {
     "name": "stdout",
     "output_type": "stream",
     "text": [
      "/home/qweddww123/farsite/TrainDataGen/WildfireShapefiles/2016/tn_east_miller_cove/20161118_2238/MLinput/updated_Number_of_points.csv\n",
      "tn_flippers_bend\n",
      "/home/qweddww123/farsite/TrainDataGen/WildfireShapefiles/2016/tn_flippers_bend/20161106_2044/MLinput/updated_Number_of_points.csv\n",
      "tn_halls_top\n",
      "/home/qweddww123/farsite/TrainDataGen/WildfireShapefiles/2016/tn_halls_top/20160405_2000/MLinput/updated_Number_of_points.csv\n",
      "tn_happy_valley_ridge\n"
     ]
    },
    {
     "name": "stderr",
     "output_type": "stream",
     "text": [
      "rm: cannot remove '/home/qweddww123/farsite/TrainDataGen/WildfireShapefiles/2016/tn_flippers_bend/20161106_2044/Number_of_points.csv': No such file or directory\n",
      "rm: cannot remove '/home/qweddww123/farsite/TrainDataGen/WildfireShapefiles/2016/tn_halls_top/20160405_2000/MLinput/updated_Number_of_points.csv': No such file or directory\n",
      "rm: cannot remove '/home/qweddww123/farsite/TrainDataGen/WildfireShapefiles/2016/tn_halls_top/20160405_2000/Number_of_points.csv': No such file or directory\n",
      "rm: cannot remove '/home/qweddww123/farsite/TrainDataGen/WildfireShapefiles/2016/tn_happy_valley_ridge/20160917_0000/MLinput/updated_Number_of_points.csv': No such file or directory\n",
      "rm: cannot remove '/home/qweddww123/farsite/TrainDataGen/WildfireShapefiles/2016/tn_happy_valley_ridge/20160917_0000/Number_of_points.csv': No such file or directory\n"
     ]
    },
    {
     "name": "stdout",
     "output_type": "stream",
     "text": [
      "/home/qweddww123/farsite/TrainDataGen/WildfireShapefiles/2016/tn_happy_valley_ridge/20160917_0000/MLinput/updated_Number_of_points.csv\n",
      "tn_hobbstown\n",
      "/home/qweddww123/farsite/TrainDataGen/WildfireShapefiles/2016/tn_hobbstown/20161116_2219/MLinput/updated_Number_of_points.csv\n",
      "tn_ivydale_trail_2\n",
      "/home/qweddww123/farsite/TrainDataGen/WildfireShapefiles/2016/tn_ivydale_trail_2/20161127_0032/MLinput/updated_Number_of_points.csv\n"
     ]
    },
    {
     "name": "stderr",
     "output_type": "stream",
     "text": [
      "rm: cannot remove '/home/qweddww123/farsite/TrainDataGen/WildfireShapefiles/2016/tn_hobbstown/20161116_2219/MLinput/updated_Number_of_points.csv': No such file or directory\n",
      "rm: cannot remove '/home/qweddww123/farsite/TrainDataGen/WildfireShapefiles/2016/tn_hobbstown/20161116_2219/Number_of_points.csv': No such file or directory\n",
      "rm: cannot remove '/home/qweddww123/farsite/TrainDataGen/WildfireShapefiles/2016/tn_ivydale_trail_2/20161127_0032/MLinput/updated_Number_of_points.csv': No such file or directory\n",
      "rm: cannot remove '/home/qweddww123/farsite/TrainDataGen/WildfireShapefiles/2016/tn_ivydale_trail_2/20161127_0032/Number_of_points.csv': No such file or directory\n",
      "rm: cannot remove '/home/qweddww123/farsite/TrainDataGen/WildfireShapefiles/2016/tn_lee_valley/20161120_2353/MLinput/updated_Number_of_points.csv': No such file or directory\n",
      "rm: cannot remove '/home/qweddww123/farsite/TrainDataGen/WildfireShapefiles/2016/tn_lee_valley/20161120_2353/Number_of_points.csv': No such file or directory\n"
     ]
    },
    {
     "name": "stdout",
     "output_type": "stream",
     "text": [
      "tn_lee_valley\n",
      "/home/qweddww123/farsite/TrainDataGen/WildfireShapefiles/2016/tn_lee_valley/20161120_2353/MLinput/updated_Number_of_points.csv\n",
      "tn_little_brushy_road\n",
      "/home/qweddww123/farsite/TrainDataGen/WildfireShapefiles/2016/tn_little_brushy_road/20161125_0003/MLinput/updated_Number_of_points.csv\n",
      "tn_lookout_mountain_1\n"
     ]
    },
    {
     "name": "stderr",
     "output_type": "stream",
     "text": [
      "rm: cannot remove '/home/qweddww123/farsite/TrainDataGen/WildfireShapefiles/2016/tn_little_brushy_road/20161125_0003/MLinput/updated_Number_of_points.csv': No such file or directory\n",
      "rm: cannot remove '/home/qweddww123/farsite/TrainDataGen/WildfireShapefiles/2016/tn_little_brushy_road/20161125_0003/Number_of_points.csv': No such file or directory\n",
      "rm: cannot remove '/home/qweddww123/farsite/TrainDataGen/WildfireShapefiles/2016/tn_lookout_mountain_1/20160717_1946/MLinput/updated_Number_of_points.csv': No such file or directory\n",
      "rm: cannot remove '/home/qweddww123/farsite/TrainDataGen/WildfireShapefiles/2016/tn_lookout_mountain_1/20160717_1946/Number_of_points.csv': No such file or directory\n",
      "rm: cannot remove '/home/qweddww123/farsite/TrainDataGen/WildfireShapefiles/2016/tn_mowbray/20161107_1905/MLinput/updated_Number_of_points.csv': No such file or directory\n",
      "rm: cannot remove '/home/qweddww123/farsite/TrainDataGen/WildfireShapefiles/2016/tn_mowbray/20161107_1905/Number_of_points.csv': No such file or directory\n"
     ]
    },
    {
     "name": "stdout",
     "output_type": "stream",
     "text": [
      "/home/qweddww123/farsite/TrainDataGen/WildfireShapefiles/2016/tn_lookout_mountain_1/20160717_1946/MLinput/updated_Number_of_points.csv\n",
      "tn_mile_marker_156\n",
      "\n",
      "tn_mowbray\n",
      "/home/qweddww123/farsite/TrainDataGen/WildfireShapefiles/2016/tn_mowbray/20161107_1905/MLinput/updated_Number_of_points.csv\n",
      "tn_neddy_mountain_road\n",
      "/home/qweddww123/farsite/TrainDataGen/WildfireShapefiles/2016/tn_neddy_mountain_road/20161113_2329/MLinput/updated_Number_of_points.csv\n",
      "tn_old_mountain_road\n",
      "/home/qweddww123/farsite/TrainDataGen/WildfireShapefiles/2016/tn_old_mountain_road/20161118_2358/MLinput/updated_Number_of_points.csv\n"
     ]
    },
    {
     "name": "stderr",
     "output_type": "stream",
     "text": [
      "rm: cannot remove '/home/qweddww123/farsite/TrainDataGen/WildfireShapefiles/2016/tn_neddy_mountain_road/20161113_2329/MLinput/updated_Number_of_points.csv': No such file or directory\n",
      "rm: cannot remove '/home/qweddww123/farsite/TrainDataGen/WildfireShapefiles/2016/tn_neddy_mountain_road/20161113_2329/Number_of_points.csv': No such file or directory\n",
      "rm: cannot remove '/home/qweddww123/farsite/TrainDataGen/WildfireShapefiles/2016/tn_old_mountain_road/20161118_2358/MLinput/updated_Number_of_points.csv': No such file or directory\n",
      "rm: cannot remove '/home/qweddww123/farsite/TrainDataGen/WildfireShapefiles/2016/tn_old_mountain_road/20161118_2358/Number_of_points.csv': No such file or directory\n",
      "rm: cannot remove '/home/qweddww123/farsite/TrainDataGen/WildfireShapefiles/2016/tn_pinball/20160621_0800/MLinput/updated_Number_of_points.csv': No such file or directory\n",
      "rm: cannot remove '/home/qweddww123/farsite/TrainDataGen/WildfireShapefiles/2016/tn_pinball/20160621_0800/Number_of_points.csv': No such file or directory\n"
     ]
    },
    {
     "name": "stdout",
     "output_type": "stream",
     "text": [
      "tn_pinball\n",
      "/home/qweddww123/farsite/TrainDataGen/WildfireShapefiles/2016/tn_pinball/20160621_0800/MLinput/updated_Number_of_points.csv\n",
      "tn_poe_road\n",
      "/home/qweddww123/farsite/TrainDataGen/WildfireShapefiles/2016/tn_poe_road/20161111_2020/MLinput/updated_Number_of_points.csv\n",
      "tn_quarry_creek\n"
     ]
    },
    {
     "name": "stderr",
     "output_type": "stream",
     "text": [
      "rm: cannot remove '/home/qweddww123/farsite/TrainDataGen/WildfireShapefiles/2016/tn_poe_road/20161111_2020/MLinput/updated_Number_of_points.csv': No such file or directory\n",
      "rm: cannot remove '/home/qweddww123/farsite/TrainDataGen/WildfireShapefiles/2016/tn_poe_road/20161111_2020/Number_of_points.csv': No such file or directory\n",
      "rm: cannot remove '/home/qweddww123/farsite/TrainDataGen/WildfireShapefiles/2016/tn_quarry_creek/20161116_1941/MLinput/updated_Number_of_points.csv': No such file or directory\n",
      "rm: cannot remove '/home/qweddww123/farsite/TrainDataGen/WildfireShapefiles/2016/tn_quarry_creek/20161116_1941/Number_of_points.csv': No such file or directory\n",
      "rm: cannot remove '/home/qweddww123/farsite/TrainDataGen/WildfireShapefiles/2016/tn_rattlesnake_hollow/20161025_0000/MLinput/updated_Number_of_points.csv': No such file or directory\n",
      "rm: cannot remove '/home/qweddww123/farsite/TrainDataGen/WildfireShapefiles/2016/tn_rattlesnake_hollow/20161025_0000/Number_of_points.csv': No such file or directory\n"
     ]
    },
    {
     "name": "stdout",
     "output_type": "stream",
     "text": [
      "/home/qweddww123/farsite/TrainDataGen/WildfireShapefiles/2016/tn_quarry_creek/20161116_1941/MLinput/updated_Number_of_points.csv\n",
      "tn_rattlesnake_hollow\n",
      "/home/qweddww123/farsite/TrainDataGen/WildfireShapefiles/2016/tn_rattlesnake_hollow/20161025_0000/MLinput/updated_Number_of_points.csv\n",
      "tn_sciota_road\n",
      "/home/qweddww123/farsite/TrainDataGen/WildfireShapefiles/2016/tn_sciota_road/20160330_1600/MLinput/updated_Number_of_points.csv\n",
      "tn_signal_mtn\n"
     ]
    },
    {
     "name": "stderr",
     "output_type": "stream",
     "text": [
      "rm: cannot remove '/home/qweddww123/farsite/TrainDataGen/WildfireShapefiles/2016/tn_sciota_road/20160330_1600/MLinput/updated_Number_of_points.csv': No such file or directory\n",
      "rm: cannot remove '/home/qweddww123/farsite/TrainDataGen/WildfireShapefiles/2016/tn_sciota_road/20160330_1600/Number_of_points.csv': No such file or directory\n",
      "rm: cannot remove '/home/qweddww123/farsite/TrainDataGen/WildfireShapefiles/2016/tn_signal_mtn/20161110_2043/MLinput/updated_Number_of_points.csv': No such file or directory\n",
      "rm: cannot remove '/home/qweddww123/farsite/TrainDataGen/WildfireShapefiles/2016/tn_signal_mtn/20161110_2043/Number_of_points.csv': No such file or directory\n",
      "rm: cannot remove '/home/qweddww123/farsite/TrainDataGen/WildfireShapefiles/2016/tn_stoney_fork_road_3/20161122_2300/MLinput/updated_Number_of_points.csv': No such file or directory\n",
      "rm: cannot remove '/home/qweddww123/farsite/TrainDataGen/WildfireShapefiles/2016/tn_stoney_fork_road_3/20161122_2300/Number_of_points.csv': No such file or directory\n",
      "rm: cannot remove '/home/qweddww123/farsite/TrainDataGen/WildfireShapefiles/2016/tn_white_oak_circle/20161115_2340/MLinput/updated_Number_of_points.csv': No such file or directory\n"
     ]
    },
    {
     "name": "stdout",
     "output_type": "stream",
     "text": [
      "/home/qweddww123/farsite/TrainDataGen/WildfireShapefiles/2016/tn_signal_mtn/20161110_2043/MLinput/updated_Number_of_points.csv\n",
      "tn_stinking_creek\n",
      "\n",
      "tn_stoney_fork_road_3\n",
      "/home/qweddww123/farsite/TrainDataGen/WildfireShapefiles/2016/tn_stoney_fork_road_3/20161122_2300/MLinput/updated_Number_of_points.csv\n",
      "tn_white_oak_circle\n",
      "/home/qweddww123/farsite/TrainDataGen/WildfireShapefiles/2016/tn_white_oak_circle/20161115_2340/MLinput/updated_Number_of_points.csv\n",
      "tn_wolf_creek\n"
     ]
    },
    {
     "name": "stderr",
     "output_type": "stream",
     "text": [
      "rm: cannot remove '/home/qweddww123/farsite/TrainDataGen/WildfireShapefiles/2016/tn_white_oak_circle/20161115_2340/Number_of_points.csv': No such file or directory\n",
      "rm: cannot remove '/home/qweddww123/farsite/TrainDataGen/WildfireShapefiles/2016/tn_wolf_creek/20161030_0000/MLinput/updated_Number_of_points.csv': No such file or directory\n",
      "rm: cannot remove '/home/qweddww123/farsite/TrainDataGen/WildfireShapefiles/2016/tn_wolf_creek/20161030_0000/Number_of_points.csv': No such file or directory\n"
     ]
    },
    {
     "name": "stdout",
     "output_type": "stream",
     "text": [
      "/home/qweddww123/farsite/TrainDataGen/WildfireShapefiles/2016/tn_wolf_creek/20161030_0000/MLinput/updated_Number_of_points.csv\n",
      "tx_coyote\n",
      "/home/qweddww123/farsite/TrainDataGen/WildfireShapefiles/2016/tx_coyote/20160508_1700/MLinput/updated_Number_of_points.csv\n",
      "tx_powerline\n"
     ]
    },
    {
     "name": "stderr",
     "output_type": "stream",
     "text": [
      "rm: cannot remove '/home/qweddww123/farsite/TrainDataGen/WildfireShapefiles/2016/tx_coyote/20160508_1700/MLinput/updated_Number_of_points.csv': No such file or directory\n",
      "rm: cannot remove '/home/qweddww123/farsite/TrainDataGen/WildfireShapefiles/2016/tx_coyote/20160508_1700/Number_of_points.csv': No such file or directory\n"
     ]
    },
    {
     "name": "stdout",
     "output_type": "stream",
     "text": [
      "/home/qweddww123/farsite/TrainDataGen/WildfireShapefiles/2016/tx_powerline/20160203_1700/MLinput/updated_Number_of_points.csv\n",
      "ut_aspen\n",
      "/home/qweddww123/farsite/TrainDataGen/WildfireShapefiles/2016/ut_aspen/20160619_2321/MLinput/updated_Number_of_points.csv\n"
     ]
    },
    {
     "name": "stderr",
     "output_type": "stream",
     "text": [
      "rm: cannot remove '/home/qweddww123/farsite/TrainDataGen/WildfireShapefiles/2016/tx_powerline/20160203_1700/MLinput/updated_Number_of_points.csv': No such file or directory\n",
      "rm: cannot remove '/home/qweddww123/farsite/TrainDataGen/WildfireShapefiles/2016/tx_powerline/20160203_1700/Number_of_points.csv': No such file or directory\n",
      "rm: cannot remove '/home/qweddww123/farsite/TrainDataGen/WildfireShapefiles/2016/ut_aspen/20160619_2321/MLinput/updated_Number_of_points.csv': No such file or directory\n",
      "rm: cannot remove '/home/qweddww123/farsite/TrainDataGen/WildfireShapefiles/2016/ut_aspen/20160619_2321/Number_of_points.csv': No such file or directory\n"
     ]
    },
    {
     "name": "stdout",
     "output_type": "stream",
     "text": [
      "ut_box_canyon\n",
      "/home/qweddww123/farsite/TrainDataGen/WildfireShapefiles/2016/ut_box_canyon/20160730_2042/MLinput/updated_Number_of_points.csv\n",
      "ut_briggs\n"
     ]
    },
    {
     "name": "stderr",
     "output_type": "stream",
     "text": [
      "rm: cannot remove '/home/qweddww123/farsite/TrainDataGen/WildfireShapefiles/2016/ut_box_canyon/20160730_2042/MLinput/updated_Number_of_points.csv': No such file or directory\n",
      "rm: cannot remove '/home/qweddww123/farsite/TrainDataGen/WildfireShapefiles/2016/ut_box_canyon/20160730_2042/Number_of_points.csv': No such file or directory\n"
     ]
    },
    {
     "name": "stdout",
     "output_type": "stream",
     "text": [
      "/home/qweddww123/farsite/TrainDataGen/WildfireShapefiles/2016/ut_briggs/20160816_0000/MLinput/updated_Number_of_points.csv\n",
      "ut_broad_mouth\n",
      "\n",
      "ut_choke_cherry\n"
     ]
    },
    {
     "name": "stderr",
     "output_type": "stream",
     "text": [
      "rm: cannot remove '/home/qweddww123/farsite/TrainDataGen/WildfireShapefiles/2016/ut_briggs/20160816_0000/MLinput/updated_Number_of_points.csv': No such file or directory\n",
      "rm: cannot remove '/home/qweddww123/farsite/TrainDataGen/WildfireShapefiles/2016/ut_briggs/20160816_0000/Number_of_points.csv': No such file or directory\n"
     ]
    },
    {
     "name": "stdout",
     "output_type": "stream",
     "text": [
      "/home/qweddww123/farsite/TrainDataGen/WildfireShapefiles/2016/ut_choke_cherry/20160718_1808/MLinput/updated_Number_of_points.csv\n",
      "ut_cove\n"
     ]
    },
    {
     "name": "stderr",
     "output_type": "stream",
     "text": [
      "rm: cannot remove '/home/qweddww123/farsite/TrainDataGen/WildfireShapefiles/2016/ut_choke_cherry/20160718_1808/MLinput/updated_Number_of_points.csv': No such file or directory\n",
      "rm: cannot remove '/home/qweddww123/farsite/TrainDataGen/WildfireShapefiles/2016/ut_choke_cherry/20160718_1808/Number_of_points.csv': No such file or directory\n"
     ]
    },
    {
     "name": "stdout",
     "output_type": "stream",
     "text": [
      "/home/qweddww123/farsite/TrainDataGen/WildfireShapefiles/2016/ut_cove/20160712_0000/MLinput/updated_Number_of_points.csv\n",
      "ut_falling_rock\n",
      "/home/qweddww123/farsite/TrainDataGen/WildfireShapefiles/2016/ut_falling_rock/20160829_1300/MLinput/updated_Number_of_points.csv\n"
     ]
    },
    {
     "name": "stderr",
     "output_type": "stream",
     "text": [
      "rm: cannot remove '/home/qweddww123/farsite/TrainDataGen/WildfireShapefiles/2016/ut_cove/20160712_0000/MLinput/updated_Number_of_points.csv': No such file or directory\n",
      "rm: cannot remove '/home/qweddww123/farsite/TrainDataGen/WildfireShapefiles/2016/ut_cove/20160712_0000/Number_of_points.csv': No such file or directory\n",
      "rm: cannot remove '/home/qweddww123/farsite/TrainDataGen/WildfireShapefiles/2016/ut_falling_rock/20160829_1300/MLinput/updated_Number_of_points.csv': No such file or directory\n",
      "rm: cannot remove '/home/qweddww123/farsite/TrainDataGen/WildfireShapefiles/2016/ut_falling_rock/20160829_1300/Number_of_points.csv': No such file or directory\n"
     ]
    },
    {
     "name": "stdout",
     "output_type": "stream",
     "text": [
      "ut_fly_canyon\n",
      "/home/qweddww123/farsite/TrainDataGen/WildfireShapefiles/2016/ut_fly_canyon/20160911_0800/MLinput/updated_Number_of_points.csv\n",
      "ut_grimms\n"
     ]
    },
    {
     "name": "stderr",
     "output_type": "stream",
     "text": [
      "rm: cannot remove '/home/qweddww123/farsite/TrainDataGen/WildfireShapefiles/2016/ut_fly_canyon/20160911_0800/MLinput/updated_Number_of_points.csv': No such file or directory\n",
      "rm: cannot remove '/home/qweddww123/farsite/TrainDataGen/WildfireShapefiles/2016/ut_fly_canyon/20160911_0800/Number_of_points.csv': No such file or directory\n"
     ]
    },
    {
     "name": "stdout",
     "output_type": "stream",
     "text": [
      "/home/qweddww123/farsite/TrainDataGen/WildfireShapefiles/2016/ut_grimms/20160810_2000/MLinput/updated_Number_of_points.csv\n",
      "ut_hicks_creek\n"
     ]
    },
    {
     "name": "stderr",
     "output_type": "stream",
     "text": [
      "rm: cannot remove '/home/qweddww123/farsite/TrainDataGen/WildfireShapefiles/2016/ut_grimms/20160810_2000/MLinput/updated_Number_of_points.csv': No such file or directory\n",
      "rm: cannot remove '/home/qweddww123/farsite/TrainDataGen/WildfireShapefiles/2016/ut_grimms/20160810_2000/Number_of_points.csv': No such file or directory\n"
     ]
    },
    {
     "name": "stdout",
     "output_type": "stream",
     "text": [
      "/home/qweddww123/farsite/TrainDataGen/WildfireShapefiles/2016/ut_hicks_creek/20161017_1530/MLinput/updated_Number_of_points.csv\n",
      "ut_jocks_canyon\n",
      "/home/qweddww123/farsite/TrainDataGen/WildfireShapefiles/2016/ut_jocks_canyon/20160917_1000/MLinput/updated_Number_of_points.csv\n",
      "ut_lower_ebbs\n"
     ]
    },
    {
     "name": "stderr",
     "output_type": "stream",
     "text": [
      "rm: cannot remove '/home/qweddww123/farsite/TrainDataGen/WildfireShapefiles/2016/ut_hicks_creek/20161017_1530/MLinput/updated_Number_of_points.csv': No such file or directory\n",
      "rm: cannot remove '/home/qweddww123/farsite/TrainDataGen/WildfireShapefiles/2016/ut_hicks_creek/20161017_1530/Number_of_points.csv': No such file or directory\n",
      "rm: cannot remove '/home/qweddww123/farsite/TrainDataGen/WildfireShapefiles/2016/ut_jocks_canyon/20160917_1000/MLinput/updated_Number_of_points.csv': No such file or directory\n",
      "rm: cannot remove '/home/qweddww123/farsite/TrainDataGen/WildfireShapefiles/2016/ut_jocks_canyon/20160917_1000/Number_of_points.csv': No such file or directory\n"
     ]
    },
    {
     "name": "stdout",
     "output_type": "stream",
     "text": [
      "/home/qweddww123/farsite/TrainDataGen/WildfireShapefiles/2016/ut_lower_ebbs/20160724_2320/MLinput/updated_Number_of_points.csv\n",
      "ut_main_canyon\n",
      "/home/qweddww123/farsite/TrainDataGen/WildfireShapefiles/2016/ut_main_canyon/20160910_2000/MLinput/updated_Number_of_points.csv\n",
      "ut_mineral_fork\n"
     ]
    },
    {
     "name": "stderr",
     "output_type": "stream",
     "text": [
      "rm: cannot remove '/home/qweddww123/farsite/TrainDataGen/WildfireShapefiles/2016/ut_lower_ebbs/20160724_2320/MLinput/updated_Number_of_points.csv': No such file or directory\n",
      "rm: cannot remove '/home/qweddww123/farsite/TrainDataGen/WildfireShapefiles/2016/ut_lower_ebbs/20160724_2320/Number_of_points.csv': No such file or directory\n",
      "rm: cannot remove '/home/qweddww123/farsite/TrainDataGen/WildfireShapefiles/2016/ut_main_canyon/20160910_2000/MLinput/updated_Number_of_points.csv': No such file or directory\n",
      "rm: cannot remove '/home/qweddww123/farsite/TrainDataGen/WildfireShapefiles/2016/ut_main_canyon/20160910_2000/Number_of_points.csv': No such file or directory\n"
     ]
    },
    {
     "name": "stdout",
     "output_type": "stream",
     "text": [
      "/home/qweddww123/farsite/TrainDataGen/WildfireShapefiles/2016/ut_mineral_fork/20160810_0930/MLinput/updated_Number_of_points.csv\n",
      "ut_outlook\n",
      "/home/qweddww123/farsite/TrainDataGen/WildfireShapefiles/2016/ut_outlook/20160715_1800/MLinput/updated_Number_of_points.csv\n",
      "ut_pack\n"
     ]
    },
    {
     "name": "stderr",
     "output_type": "stream",
     "text": [
      "rm: cannot remove '/home/qweddww123/farsite/TrainDataGen/WildfireShapefiles/2016/ut_mineral_fork/20160810_0930/MLinput/updated_Number_of_points.csv': No such file or directory\n",
      "rm: cannot remove '/home/qweddww123/farsite/TrainDataGen/WildfireShapefiles/2016/ut_mineral_fork/20160810_0930/Number_of_points.csv': No such file or directory\n",
      "rm: cannot remove '/home/qweddww123/farsite/TrainDataGen/WildfireShapefiles/2016/ut_outlook/20160715_1800/MLinput/updated_Number_of_points.csv': No such file or directory\n",
      "rm: cannot remove '/home/qweddww123/farsite/TrainDataGen/WildfireShapefiles/2016/ut_outlook/20160715_1800/Number_of_points.csv': No such file or directory\n"
     ]
    },
    {
     "name": "stdout",
     "output_type": "stream",
     "text": [
      "/home/qweddww123/farsite/TrainDataGen/WildfireShapefiles/2016/ut_pack/20160918_0000/MLinput/updated_Number_of_points.csv\n",
      "ut_peterson_hollow\n",
      "/home/qweddww123/farsite/TrainDataGen/WildfireShapefiles/2016/ut_peterson_hollow/20160822_2038/MLinput/updated_Number_of_points.csv\n",
      "ut_pine_canyon\n"
     ]
    },
    {
     "name": "stderr",
     "output_type": "stream",
     "text": [
      "rm: cannot remove '/home/qweddww123/farsite/TrainDataGen/WildfireShapefiles/2016/ut_pack/20160918_0000/MLinput/updated_Number_of_points.csv': No such file or directory\n",
      "rm: cannot remove '/home/qweddww123/farsite/TrainDataGen/WildfireShapefiles/2016/ut_pack/20160918_0000/Number_of_points.csv': No such file or directory\n",
      "rm: cannot remove '/home/qweddww123/farsite/TrainDataGen/WildfireShapefiles/2016/ut_peterson_hollow/20160822_2038/MLinput/updated_Number_of_points.csv': No such file or directory\n",
      "rm: cannot remove '/home/qweddww123/farsite/TrainDataGen/WildfireShapefiles/2016/ut_peterson_hollow/20160822_2038/Number_of_points.csv': No such file or directory\n"
     ]
    },
    {
     "name": "stdout",
     "output_type": "stream",
     "text": [
      "/home/qweddww123/farsite/TrainDataGen/WildfireShapefiles/2016/ut_pine_canyon/20160615_2253/MLinput/updated_Number_of_points.csv\n",
      "ut_porcupine\n",
      "/home/qweddww123/farsite/TrainDataGen/WildfireShapefiles/2016/ut_porcupine/20160801_1100/MLinput/updated_Number_of_points.csv\n",
      "ut_red_ledge\n"
     ]
    },
    {
     "name": "stderr",
     "output_type": "stream",
     "text": [
      "rm: cannot remove '/home/qweddww123/farsite/TrainDataGen/WildfireShapefiles/2016/ut_pine_canyon/20160615_2253/MLinput/updated_Number_of_points.csv': No such file or directory\n",
      "rm: cannot remove '/home/qweddww123/farsite/TrainDataGen/WildfireShapefiles/2016/ut_pine_canyon/20160615_2253/Number_of_points.csv': No such file or directory\n",
      "rm: cannot remove '/home/qweddww123/farsite/TrainDataGen/WildfireShapefiles/2016/ut_porcupine/20160801_1100/MLinput/updated_Number_of_points.csv': No such file or directory\n",
      "rm: cannot remove '/home/qweddww123/farsite/TrainDataGen/WildfireShapefiles/2016/ut_porcupine/20160801_1100/Number_of_points.csv': No such file or directory\n"
     ]
    },
    {
     "name": "stdout",
     "output_type": "stream",
     "text": [
      "/home/qweddww123/farsite/TrainDataGen/WildfireShapefiles/2016/ut_red_ledge/20160711_2000/MLinput/updated_Number_of_points.csv\n",
      "ut_saddle\n",
      "/home/qweddww123/farsite/TrainDataGen/WildfireShapefiles/2016/ut_saddle/20160616_0915/MLinput/updated_Number_of_points.csv\n",
      "ut_sawmill\n"
     ]
    },
    {
     "name": "stderr",
     "output_type": "stream",
     "text": [
      "rm: cannot remove '/home/qweddww123/farsite/TrainDataGen/WildfireShapefiles/2016/ut_red_ledge/20160711_2000/MLinput/updated_Number_of_points.csv': No such file or directory\n",
      "rm: cannot remove '/home/qweddww123/farsite/TrainDataGen/WildfireShapefiles/2016/ut_red_ledge/20160711_2000/Number_of_points.csv': No such file or directory\n",
      "rm: cannot remove '/home/qweddww123/farsite/TrainDataGen/WildfireShapefiles/2016/ut_saddle/20160616_0915/MLinput/updated_Number_of_points.csv': No such file or directory\n",
      "rm: cannot remove '/home/qweddww123/farsite/TrainDataGen/WildfireShapefiles/2016/ut_saddle/20160616_0915/Number_of_points.csv': No such file or directory\n"
     ]
    },
    {
     "name": "stdout",
     "output_type": "stream",
     "text": [
      "/home/qweddww123/farsite/TrainDataGen/WildfireShapefiles/2016/ut_sawmill/20160917_1000/MLinput/updated_Number_of_points.csv\n",
      "ut_sheep_creek\n"
     ]
    },
    {
     "name": "stderr",
     "output_type": "stream",
     "text": [
      "rm: cannot remove '/home/qweddww123/farsite/TrainDataGen/WildfireShapefiles/2016/ut_sawmill/20160917_1000/MLinput/updated_Number_of_points.csv': No such file or directory\n",
      "rm: cannot remove '/home/qweddww123/farsite/TrainDataGen/WildfireShapefiles/2016/ut_sawmill/20160917_1000/Number_of_points.csv': No such file or directory\n"
     ]
    },
    {
     "name": "stdout",
     "output_type": "stream",
     "text": [
      "/home/qweddww123/farsite/TrainDataGen/WildfireShapefiles/2016/ut_sheep_creek/20160802_0000/MLinput/updated_Number_of_points.csv\n",
      "ut_twin_peak\n",
      "/home/qweddww123/farsite/TrainDataGen/WildfireShapefiles/2016/ut_twin_peak/20160826_1800/MLinput/updated_Number_of_points.csv\n",
      "ut_two_tom\n"
     ]
    },
    {
     "name": "stderr",
     "output_type": "stream",
     "text": [
      "rm: cannot remove '/home/qweddww123/farsite/TrainDataGen/WildfireShapefiles/2016/ut_sheep_creek/20160802_0000/MLinput/updated_Number_of_points.csv': No such file or directory\n",
      "rm: cannot remove '/home/qweddww123/farsite/TrainDataGen/WildfireShapefiles/2016/ut_sheep_creek/20160802_0000/Number_of_points.csv': No such file or directory\n",
      "rm: cannot remove '/home/qweddww123/farsite/TrainDataGen/WildfireShapefiles/2016/ut_twin_peak/20160826_1800/MLinput/updated_Number_of_points.csv': No such file or directory\n",
      "rm: cannot remove '/home/qweddww123/farsite/TrainDataGen/WildfireShapefiles/2016/ut_twin_peak/20160826_1800/Number_of_points.csv': No such file or directory\n"
     ]
    },
    {
     "name": "stdout",
     "output_type": "stream",
     "text": [
      "/home/qweddww123/farsite/TrainDataGen/WildfireShapefiles/2016/ut_two_tom/20160919_1900/MLinput/updated_Number_of_points.csv\n",
      "ut_west_government_creek\n"
     ]
    },
    {
     "name": "stderr",
     "output_type": "stream",
     "text": [
      "rm: cannot remove '/home/qweddww123/farsite/TrainDataGen/WildfireShapefiles/2016/ut_two_tom/20160919_1900/MLinput/updated_Number_of_points.csv': No such file or directory\n",
      "rm: cannot remove '/home/qweddww123/farsite/TrainDataGen/WildfireShapefiles/2016/ut_two_tom/20160919_1900/Number_of_points.csv': No such file or directory\n"
     ]
    },
    {
     "name": "stdout",
     "output_type": "stream",
     "text": [
      "/home/qweddww123/farsite/TrainDataGen/WildfireShapefiles/2016/ut_west_government_creek/20160904_0325/MLinput/updated_Number_of_points.csv\n",
      "ut_willow_creek\n",
      "/home/qweddww123/farsite/TrainDataGen/WildfireShapefiles/2016/ut_willow_creek/20160828_1730/MLinput/updated_Number_of_points.csv\n"
     ]
    },
    {
     "name": "stderr",
     "output_type": "stream",
     "text": [
      "rm: cannot remove '/home/qweddww123/farsite/TrainDataGen/WildfireShapefiles/2016/ut_west_government_creek/20160904_0325/MLinput/updated_Number_of_points.csv': No such file or directory\n",
      "rm: cannot remove '/home/qweddww123/farsite/TrainDataGen/WildfireShapefiles/2016/ut_west_government_creek/20160904_0325/Number_of_points.csv': No such file or directory\n",
      "rm: cannot remove '/home/qweddww123/farsite/TrainDataGen/WildfireShapefiles/2016/ut_willow_creek/20160828_1730/MLinput/updated_Number_of_points.csv': No such file or directory\n",
      "rm: cannot remove '/home/qweddww123/farsite/TrainDataGen/WildfireShapefiles/2016/ut_willow_creek/20160828_1730/Number_of_points.csv': No such file or directory\n"
     ]
    },
    {
     "name": "stdout",
     "output_type": "stream",
     "text": [
      "va_cellar_mountain\n",
      "/home/qweddww123/farsite/TrainDataGen/WildfireShapefiles/2016/va_cellar_mountain/20160317_2000/MLinput/updated_Number_of_points.csv\n",
      "va_mount_pleasant\n"
     ]
    },
    {
     "name": "stderr",
     "output_type": "stream",
     "text": [
      "rm: cannot remove '/home/qweddww123/farsite/TrainDataGen/WildfireShapefiles/2016/va_cellar_mountain/20160317_2000/MLinput/updated_Number_of_points.csv': No such file or directory\n",
      "rm: cannot remove '/home/qweddww123/farsite/TrainDataGen/WildfireShapefiles/2016/va_cellar_mountain/20160317_2000/Number_of_points.csv': No such file or directory\n",
      "rm: cannot remove '/home/qweddww123/farsite/TrainDataGen/WildfireShapefiles/2016/va_mount_pleasant/20161121_0000/MLinput/updated_Number_of_points.csv': No such file or directory\n",
      "rm: cannot remove '/home/qweddww123/farsite/TrainDataGen/WildfireShapefiles/2016/va_mount_pleasant/20161121_0000/Number_of_points.csv': No such file or directory\n"
     ]
    },
    {
     "name": "stdout",
     "output_type": "stream",
     "text": [
      "/home/qweddww123/farsite/TrainDataGen/WildfireShapefiles/2016/va_mount_pleasant/20161121_0000/MLinput/updated_Number_of_points.csv\n",
      "va_raven_rock\n",
      "/home/qweddww123/farsite/TrainDataGen/WildfireShapefiles/2016/va_raven_rock/20161106_1929/MLinput/updated_Number_of_points.csv\n",
      "va_rocky_mtn_fire\n",
      "\n",
      "wa_buck_creek\n",
      "\n",
      "wa_cayuse_mt\n"
     ]
    },
    {
     "name": "stderr",
     "output_type": "stream",
     "text": [
      "rm: cannot remove '/home/qweddww123/farsite/TrainDataGen/WildfireShapefiles/2016/va_raven_rock/20161106_1929/MLinput/updated_Number_of_points.csv': No such file or directory\n",
      "rm: cannot remove '/home/qweddww123/farsite/TrainDataGen/WildfireShapefiles/2016/va_raven_rock/20161106_1929/Number_of_points.csv': No such file or directory\n",
      "rm: cannot remove '/home/qweddww123/farsite/TrainDataGen/WildfireShapefiles/2016/wa_cox_valley/20160801_0205/MLinput/updated_Number_of_points.csv': No such file or directory\n",
      "rm: cannot remove '/home/qweddww123/farsite/TrainDataGen/WildfireShapefiles/2016/wa_cox_valley/20160801_0205/Number_of_points.csv': No such file or directory\n"
     ]
    },
    {
     "name": "stdout",
     "output_type": "stream",
     "text": [
      "\n",
      "wa_cayuse_mtn\n",
      "\n",
      "wa_cox_valley\n",
      "/home/qweddww123/farsite/TrainDataGen/WildfireShapefiles/2016/wa_cox_valley/20160801_0205/MLinput/updated_Number_of_points.csv\n",
      "wa_deep_north\n",
      "/home/qweddww123/farsite/TrainDataGen/WildfireShapefiles/2016/wa_deep_north/20160823_1155/MLinput/updated_Number_of_points.csv\n",
      "wa_godkin\n",
      "/home/qweddww123/farsite/TrainDataGen/WildfireShapefiles/2016/wa_godkin/20160730_1730/MLinput/updated_Number_of_points.csv\n",
      "wa_halfway\n"
     ]
    },
    {
     "name": "stderr",
     "output_type": "stream",
     "text": [
      "rm: cannot remove '/home/qweddww123/farsite/TrainDataGen/WildfireShapefiles/2016/wa_deep_north/20160823_1155/MLinput/updated_Number_of_points.csv': No such file or directory\n",
      "rm: cannot remove '/home/qweddww123/farsite/TrainDataGen/WildfireShapefiles/2016/wa_deep_north/20160823_1155/Number_of_points.csv': No such file or directory\n",
      "rm: cannot remove '/home/qweddww123/farsite/TrainDataGen/WildfireShapefiles/2016/wa_godkin/20160730_1730/MLinput/updated_Number_of_points.csv': No such file or directory\n",
      "rm: cannot remove '/home/qweddww123/farsite/TrainDataGen/WildfireShapefiles/2016/wa_godkin/20160730_1730/Number_of_points.csv': No such file or directory\n"
     ]
    },
    {
     "name": "stdout",
     "output_type": "stream",
     "text": [
      "/home/qweddww123/farsite/TrainDataGen/WildfireShapefiles/2016/wa_halfway/20160801_0000/MLinput/updated_Number_of_points.csv\n",
      "wa_hart\n"
     ]
    },
    {
     "name": "stderr",
     "output_type": "stream",
     "text": [
      "rm: cannot remove '/home/qweddww123/farsite/TrainDataGen/WildfireShapefiles/2016/wa_halfway/20160801_0000/MLinput/updated_Number_of_points.csv': No such file or directory\n",
      "rm: cannot remove '/home/qweddww123/farsite/TrainDataGen/WildfireShapefiles/2016/wa_halfway/20160801_0000/Number_of_points.csv': No such file or directory\n"
     ]
    },
    {
     "name": "stdout",
     "output_type": "stream",
     "text": [
      "/home/qweddww123/farsite/TrainDataGen/WildfireShapefiles/2016/wa_hart/20160823_2113/MLinput/updated_Number_of_points.csv\n",
      "wa_hayes_two\n",
      "/home/qweddww123/farsite/TrainDataGen/WildfireShapefiles/2016/wa_hayes_two/20160801_0205/MLinput/updated_Number_of_points.csv\n",
      "wa_hot_shot\n"
     ]
    },
    {
     "name": "stderr",
     "output_type": "stream",
     "text": [
      "rm: cannot remove '/home/qweddww123/farsite/TrainDataGen/WildfireShapefiles/2016/wa_hart/20160823_2113/MLinput/updated_Number_of_points.csv': No such file or directory\n",
      "rm: cannot remove '/home/qweddww123/farsite/TrainDataGen/WildfireShapefiles/2016/wa_hart/20160823_2113/Number_of_points.csv': No such file or directory\n",
      "rm: cannot remove '/home/qweddww123/farsite/TrainDataGen/WildfireShapefiles/2016/wa_hayes_two/20160801_0205/MLinput/updated_Number_of_points.csv': No such file or directory\n",
      "rm: cannot remove '/home/qweddww123/farsite/TrainDataGen/WildfireShapefiles/2016/wa_hayes_two/20160801_0205/Number_of_points.csv': No such file or directory\n"
     ]
    },
    {
     "name": "stdout",
     "output_type": "stream",
     "text": [
      "/home/qweddww123/farsite/TrainDataGen/WildfireShapefiles/2016/wa_hot_shot/20160514_0000/MLinput/updated_Number_of_points.csv\n",
      "wa_ignar_creek\n",
      "/home/qweddww123/farsite/TrainDataGen/WildfireShapefiles/2016/wa_ignar_creek/20160820_1921/MLinput/updated_Number_of_points.csv\n",
      "wa_kewa_fire\n"
     ]
    },
    {
     "name": "stderr",
     "output_type": "stream",
     "text": [
      "rm: cannot remove '/home/qweddww123/farsite/TrainDataGen/WildfireShapefiles/2016/wa_hot_shot/20160514_0000/MLinput/updated_Number_of_points.csv': No such file or directory\n",
      "rm: cannot remove '/home/qweddww123/farsite/TrainDataGen/WildfireShapefiles/2016/wa_hot_shot/20160514_0000/Number_of_points.csv': No such file or directory\n",
      "rm: cannot remove '/home/qweddww123/farsite/TrainDataGen/WildfireShapefiles/2016/wa_ignar_creek/20160820_1921/MLinput/updated_Number_of_points.csv': No such file or directory\n",
      "rm: cannot remove '/home/qweddww123/farsite/TrainDataGen/WildfireShapefiles/2016/wa_ignar_creek/20160820_1921/Number_of_points.csv': No such file or directory\n"
     ]
    },
    {
     "name": "stdout",
     "output_type": "stream",
     "text": [
      "/home/qweddww123/farsite/TrainDataGen/WildfireShapefiles/2016/wa_kewa_fire/20160802_1758/MLinput/updated_Number_of_points.csv\n",
      "wa_lower_crab_creek\n",
      "\n",
      "wa_proctor_creek_62_rd\n"
     ]
    },
    {
     "name": "stderr",
     "output_type": "stream",
     "text": [
      "rm: cannot remove '/home/qweddww123/farsite/TrainDataGen/WildfireShapefiles/2016/wa_kewa_fire/20160802_1758/MLinput/updated_Number_of_points.csv': No such file or directory\n",
      "rm: cannot remove '/home/qweddww123/farsite/TrainDataGen/WildfireShapefiles/2016/wa_kewa_fire/20160802_1758/Number_of_points.csv': No such file or directory\n"
     ]
    },
    {
     "name": "stdout",
     "output_type": "stream",
     "text": [
      "/home/qweddww123/farsite/TrainDataGen/WildfireShapefiles/2016/wa_proctor_creek_62_rd/20160514_0000/MLinput/updated_Number_of_points.csv\n",
      "wa_range_12\n",
      "\n",
      "wa_rock_creek\n"
     ]
    },
    {
     "name": "stderr",
     "output_type": "stream",
     "text": [
      "rm: cannot remove '/home/qweddww123/farsite/TrainDataGen/WildfireShapefiles/2016/wa_proctor_creek_62_rd/20160514_0000/MLinput/updated_Number_of_points.csv': No such file or directory\n",
      "rm: cannot remove '/home/qweddww123/farsite/TrainDataGen/WildfireShapefiles/2016/wa_proctor_creek_62_rd/20160514_0000/Number_of_points.csv': No such file or directory\n"
     ]
    },
    {
     "name": "stdout",
     "output_type": "stream",
     "text": [
      "/home/qweddww123/farsite/TrainDataGen/WildfireShapefiles/2016/wa_rock_creek/20160910_1856/MLinput/updated_Number_of_points.csv\n",
      "wa_saul\n",
      "/home/qweddww123/farsite/TrainDataGen/WildfireShapefiles/2016/wa_saul/20160823_1700/MLinput/updated_Number_of_points.csv\n",
      "wa_spokane_complex_wellesley\n"
     ]
    },
    {
     "name": "stderr",
     "output_type": "stream",
     "text": [
      "rm: cannot remove '/home/qweddww123/farsite/TrainDataGen/WildfireShapefiles/2016/wa_rock_creek/20160910_1856/MLinput/updated_Number_of_points.csv': No such file or directory\n",
      "rm: cannot remove '/home/qweddww123/farsite/TrainDataGen/WildfireShapefiles/2016/wa_rock_creek/20160910_1856/Number_of_points.csv': No such file or directory\n",
      "rm: cannot remove '/home/qweddww123/farsite/TrainDataGen/WildfireShapefiles/2016/wa_saul/20160823_1700/MLinput/updated_Number_of_points.csv': No such file or directory\n",
      "rm: cannot remove '/home/qweddww123/farsite/TrainDataGen/WildfireShapefiles/2016/wa_saul/20160823_1700/Number_of_points.csv': No such file or directory\n"
     ]
    },
    {
     "name": "stdout",
     "output_type": "stream",
     "text": [
      "/home/qweddww123/farsite/TrainDataGen/WildfireShapefiles/2016/wa_spokane_complex_wellesley/20160822_2300/MLinput/updated_Number_of_points.csv\n",
      "wa_spokane_complex_yale\n"
     ]
    },
    {
     "name": "stderr",
     "output_type": "stream",
     "text": [
      "rm: cannot remove '/home/qweddww123/farsite/TrainDataGen/WildfireShapefiles/2016/wa_spokane_complex_wellesley/20160822_2300/MLinput/updated_Number_of_points.csv': No such file or directory\n",
      "rm: cannot remove '/home/qweddww123/farsite/TrainDataGen/WildfireShapefiles/2016/wa_spokane_complex_wellesley/20160822_2300/Number_of_points.csv': No such file or directory\n"
     ]
    },
    {
     "name": "stdout",
     "output_type": "stream",
     "text": [
      "/home/qweddww123/farsite/TrainDataGen/WildfireShapefiles/2016/wa_spokane_complex_yale/20160822_2300/MLinput/updated_Number_of_points.csv\n",
      "wa_suncrest\n",
      "/home/qweddww123/farsite/TrainDataGen/WildfireShapefiles/2016/wa_suncrest/20160828_1900/MLinput/updated_Number_of_points.csv\n"
     ]
    },
    {
     "name": "stderr",
     "output_type": "stream",
     "text": [
      "rm: cannot remove '/home/qweddww123/farsite/TrainDataGen/WildfireShapefiles/2016/wa_spokane_complex_yale/20160822_2300/MLinput/updated_Number_of_points.csv': No such file or directory\n",
      "rm: cannot remove '/home/qweddww123/farsite/TrainDataGen/WildfireShapefiles/2016/wa_spokane_complex_yale/20160822_2300/Number_of_points.csv': No such file or directory\n",
      "rm: cannot remove '/home/qweddww123/farsite/TrainDataGen/WildfireShapefiles/2016/wa_suncrest/20160828_1900/MLinput/updated_Number_of_points.csv': No such file or directory\n",
      "rm: cannot remove '/home/qweddww123/farsite/TrainDataGen/WildfireShapefiles/2016/wa_suncrest/20160828_1900/Number_of_points.csv': No such file or directory\n"
     ]
    },
    {
     "name": "stdout",
     "output_type": "stream",
     "text": [
      "wv_south_fire\n",
      "/home/qweddww123/farsite/TrainDataGen/WildfireShapefiles/2016/wv_south_fire/20161121_2200/MLinput/updated_Number_of_points.csv\n",
      "wy_arden\n"
     ]
    },
    {
     "name": "stderr",
     "output_type": "stream",
     "text": [
      "rm: cannot remove '/home/qweddww123/farsite/TrainDataGen/WildfireShapefiles/2016/wv_south_fire/20161121_2200/MLinput/updated_Number_of_points.csv': No such file or directory\n",
      "rm: cannot remove '/home/qweddww123/farsite/TrainDataGen/WildfireShapefiles/2016/wv_south_fire/20161121_2200/Number_of_points.csv': No such file or directory\n"
     ]
    },
    {
     "name": "stdout",
     "output_type": "stream",
     "text": [
      "/home/qweddww123/farsite/TrainDataGen/WildfireShapefiles/2016/wy_arden/20160720_2343/MLinput/updated_Number_of_points.csv\n",
      "wy_berry\n",
      "/home/qweddww123/farsite/TrainDataGen/WildfireShapefiles/2016/wy_berry/20160727_2100/MLinput/updated_Number_of_points.csv\n",
      "wy_broadway\n",
      "/home/qweddww123/farsite/TrainDataGen/WildfireShapefiles/2016/wy_broadway/20160817_0221/MLinput/updated_Number_of_points.csv\n",
      "wy_buffalo\n"
     ]
    },
    {
     "name": "stderr",
     "output_type": "stream",
     "text": [
      "rm: cannot remove '/home/qweddww123/farsite/TrainDataGen/WildfireShapefiles/2016/wy_arden/20160720_2343/MLinput/updated_Number_of_points.csv': No such file or directory\n",
      "rm: cannot remove '/home/qweddww123/farsite/TrainDataGen/WildfireShapefiles/2016/wy_arden/20160720_2343/Number_of_points.csv': No such file or directory\n",
      "rm: cannot remove '/home/qweddww123/farsite/TrainDataGen/WildfireShapefiles/2016/wy_berry/20160727_2100/MLinput/updated_Number_of_points.csv': No such file or directory\n",
      "rm: cannot remove '/home/qweddww123/farsite/TrainDataGen/WildfireShapefiles/2016/wy_berry/20160727_2100/Number_of_points.csv': No such file or directory\n",
      "rm: cannot remove '/home/qweddww123/farsite/TrainDataGen/WildfireShapefiles/2016/wy_broadway/20160817_0221/MLinput/updated_Number_of_points.csv': No such file or directory\n",
      "rm: cannot remove '/home/qweddww123/farsite/TrainDataGen/WildfireShapefiles/2016/wy_broadway/20160817_0221/Number_of_points.csv': No such file or directory\n"
     ]
    },
    {
     "name": "stdout",
     "output_type": "stream",
     "text": [
      "/home/qweddww123/farsite/TrainDataGen/WildfireShapefiles/2016/wy_buffalo/20160814_2145/MLinput/updated_Number_of_points.csv\n",
      "wy_carrot\n",
      "/home/qweddww123/farsite/TrainDataGen/WildfireShapefiles/2016/wy_carrot/20160822_0000/MLinput/updated_Number_of_points.csv\n",
      "wy_cedar_draw_2\n"
     ]
    },
    {
     "name": "stderr",
     "output_type": "stream",
     "text": [
      "rm: cannot remove '/home/qweddww123/farsite/TrainDataGen/WildfireShapefiles/2016/wy_buffalo/20160814_2145/MLinput/updated_Number_of_points.csv': No such file or directory\n",
      "rm: cannot remove '/home/qweddww123/farsite/TrainDataGen/WildfireShapefiles/2016/wy_buffalo/20160814_2145/Number_of_points.csv': No such file or directory\n",
      "rm: cannot remove '/home/qweddww123/farsite/TrainDataGen/WildfireShapefiles/2016/wy_carrot/20160822_0000/MLinput/updated_Number_of_points.csv': No such file or directory\n",
      "rm: cannot remove '/home/qweddww123/farsite/TrainDataGen/WildfireShapefiles/2016/wy_carrot/20160822_0000/Number_of_points.csv': No such file or directory\n"
     ]
    },
    {
     "name": "stdout",
     "output_type": "stream",
     "text": [
      "/home/qweddww123/farsite/TrainDataGen/WildfireShapefiles/2016/wy_cedar_draw_2/20160723_2300/MLinput/updated_Number_of_points.csv\n",
      "wy_cliff_creek\n"
     ]
    },
    {
     "name": "stderr",
     "output_type": "stream",
     "text": [
      "rm: cannot remove '/home/qweddww123/farsite/TrainDataGen/WildfireShapefiles/2016/wy_cedar_draw_2/20160723_2300/MLinput/updated_Number_of_points.csv': No such file or directory\n",
      "rm: cannot remove '/home/qweddww123/farsite/TrainDataGen/WildfireShapefiles/2016/wy_cedar_draw_2/20160723_2300/Number_of_points.csv': No such file or directory\n"
     ]
    },
    {
     "name": "stdout",
     "output_type": "stream",
     "text": [
      "/home/qweddww123/farsite/TrainDataGen/WildfireShapefiles/2016/wy_cliff_creek/20160718_0800/MLinput/updated_Number_of_points.csv\n",
      "wy_cottonwood_creek\n"
     ]
    },
    {
     "name": "stderr",
     "output_type": "stream",
     "text": [
      "rm: cannot remove '/home/qweddww123/farsite/TrainDataGen/WildfireShapefiles/2016/wy_cliff_creek/20160718_0800/MLinput/updated_Number_of_points.csv': No such file or directory\n",
      "rm: cannot remove '/home/qweddww123/farsite/TrainDataGen/WildfireShapefiles/2016/wy_cliff_creek/20160718_0800/Number_of_points.csv': No such file or directory\n"
     ]
    },
    {
     "name": "stdout",
     "output_type": "stream",
     "text": [
      "/home/qweddww123/farsite/TrainDataGen/WildfireShapefiles/2016/wy_cottonwood_creek/20160706_1200/MLinput/updated_Number_of_points.csv\n",
      "wy_deer_creek\n"
     ]
    },
    {
     "name": "stderr",
     "output_type": "stream",
     "text": [
      "rm: cannot remove '/home/qweddww123/farsite/TrainDataGen/WildfireShapefiles/2016/wy_cottonwood_creek/20160706_1200/MLinput/updated_Number_of_points.csv': No such file or directory\n",
      "rm: cannot remove '/home/qweddww123/farsite/TrainDataGen/WildfireShapefiles/2016/wy_cottonwood_creek/20160706_1200/Number_of_points.csv': No such file or directory\n"
     ]
    },
    {
     "name": "stdout",
     "output_type": "stream",
     "text": [
      "/home/qweddww123/farsite/TrainDataGen/WildfireShapefiles/2016/wy_deer_creek/20160620_1500/MLinput/updated_Number_of_points.csv\n",
      "wy_fawn\n",
      "/home/qweddww123/farsite/TrainDataGen/WildfireShapefiles/2016/wy_fawn/20160806_2055/MLinput/updated_Number_of_points.csv\n"
     ]
    },
    {
     "name": "stderr",
     "output_type": "stream",
     "text": [
      "rm: cannot remove '/home/qweddww123/farsite/TrainDataGen/WildfireShapefiles/2016/wy_deer_creek/20160620_1500/MLinput/updated_Number_of_points.csv': No such file or directory\n",
      "rm: cannot remove '/home/qweddww123/farsite/TrainDataGen/WildfireShapefiles/2016/wy_deer_creek/20160620_1500/Number_of_points.csv': No such file or directory\n",
      "rm: cannot remove '/home/qweddww123/farsite/TrainDataGen/WildfireShapefiles/2016/wy_fawn/20160806_2055/MLinput/updated_Number_of_points.csv': No such file or directory\n",
      "rm: cannot remove '/home/qweddww123/farsite/TrainDataGen/WildfireShapefiles/2016/wy_fawn/20160806_2055/Number_of_points.csv': No such file or directory\n"
     ]
    },
    {
     "name": "stdout",
     "output_type": "stream",
     "text": [
      "wy_hatchery\n",
      "\n",
      "wy_hunter_peak\n",
      "\n",
      "wy_kara_creek\n",
      "\n",
      "wy_lava_mountain\n",
      "/home/qweddww123/farsite/TrainDataGen/WildfireShapefiles/2016/wy_lava_mountain/20160717_0000/MLinput/updated_Number_of_points.csv\n",
      "wy_maple\n"
     ]
    },
    {
     "name": "stderr",
     "output_type": "stream",
     "text": [
      "rm: cannot remove '/home/qweddww123/farsite/TrainDataGen/WildfireShapefiles/2016/wy_lava_mountain/20160717_0000/MLinput/updated_Number_of_points.csv': No such file or directory\n",
      "rm: cannot remove '/home/qweddww123/farsite/TrainDataGen/WildfireShapefiles/2016/wy_lava_mountain/20160717_0000/Number_of_points.csv': No such file or directory\n",
      "rm: cannot remove '/home/qweddww123/farsite/TrainDataGen/WildfireShapefiles/2016/wy_maple/20160811_1719/MLinput/updated_Number_of_points.csv': No such file or directory\n",
      "rm: cannot remove '/home/qweddww123/farsite/TrainDataGen/WildfireShapefiles/2016/wy_maple/20160811_1719/Number_of_points.csv': No such file or directory\n"
     ]
    },
    {
     "name": "stdout",
     "output_type": "stream",
     "text": [
      "/home/qweddww123/farsite/TrainDataGen/WildfireShapefiles/2016/wy_maple/20160811_1719/MLinput/updated_Number_of_points.csv\n",
      "wy_one_mile\n",
      "/home/qweddww123/farsite/TrainDataGen/WildfireShapefiles/2016/wy_one_mile/20160629_1100/MLinput/updated_Number_of_points.csv\n",
      "wy_shoshone_lake\n"
     ]
    },
    {
     "name": "stderr",
     "output_type": "stream",
     "text": [
      "rm: cannot remove '/home/qweddww123/farsite/TrainDataGen/WildfireShapefiles/2016/wy_one_mile/20160629_1100/MLinput/updated_Number_of_points.csv': No such file or directory\n",
      "rm: cannot remove '/home/qweddww123/farsite/TrainDataGen/WildfireShapefiles/2016/wy_one_mile/20160629_1100/Number_of_points.csv': No such file or directory\n",
      "rm: cannot remove '/home/qweddww123/farsite/TrainDataGen/WildfireShapefiles/2016/wy_shoshone_lake/20160719_0000/MLinput/updated_Number_of_points.csv': No such file or directory\n",
      "rm: cannot remove '/home/qweddww123/farsite/TrainDataGen/WildfireShapefiles/2016/wy_shoshone_lake/20160719_0000/Number_of_points.csv': No such file or directory\n",
      "rm: cannot remove '/home/qweddww123/farsite/TrainDataGen/WildfireShapefiles/2016/wy_simpson/20160822_2200/MLinput/updated_Number_of_points.csv': No such file or directory\n",
      "rm: cannot remove '/home/qweddww123/farsite/TrainDataGen/WildfireShapefiles/2016/wy_simpson/20160822_2200/Number_of_points.csv': No such file or directory\n"
     ]
    },
    {
     "name": "stdout",
     "output_type": "stream",
     "text": [
      "/home/qweddww123/farsite/TrainDataGen/WildfireShapefiles/2016/wy_shoshone_lake/20160719_0000/MLinput/updated_Number_of_points.csv\n",
      "wy_simpson\n",
      "/home/qweddww123/farsite/TrainDataGen/WildfireShapefiles/2016/wy_simpson/20160822_2200/MLinput/updated_Number_of_points.csv\n",
      "wy_snake\n",
      "/home/qweddww123/farsite/TrainDataGen/WildfireShapefiles/2016/wy_snake/20160911_0930/MLinput/updated_Number_of_points.csv\n",
      "wy_tatanka_complex_buffalo\n"
     ]
    },
    {
     "name": "stderr",
     "output_type": "stream",
     "text": [
      "rm: cannot remove '/home/qweddww123/farsite/TrainDataGen/WildfireShapefiles/2016/wy_snake/20160911_0930/MLinput/updated_Number_of_points.csv': No such file or directory\n",
      "rm: cannot remove '/home/qweddww123/farsite/TrainDataGen/WildfireShapefiles/2016/wy_snake/20160911_0930/Number_of_points.csv': No such file or directory\n",
      "rm: cannot remove '/home/qweddww123/farsite/TrainDataGen/WildfireShapefiles/2016/wy_tatanka_complex_buffalo/20160815_1827/MLinput/updated_Number_of_points.csv': No such file or directory\n",
      "rm: cannot remove '/home/qweddww123/farsite/TrainDataGen/WildfireShapefiles/2016/wy_tatanka_complex_buffalo/20160815_1827/Number_of_points.csv': No such file or directory\n",
      "rm: cannot remove '/home/qweddww123/farsite/TrainDataGen/WildfireShapefiles/2016/wy_tatanka_complex_central/20160829_0018/MLinput/updated_Number_of_points.csv': No such file or directory\n"
     ]
    },
    {
     "name": "stdout",
     "output_type": "stream",
     "text": [
      "/home/qweddww123/farsite/TrainDataGen/WildfireShapefiles/2016/wy_tatanka_complex_buffalo/20160815_1827/MLinput/updated_Number_of_points.csv\n",
      "wy_tatanka_complex_central\n",
      "/home/qweddww123/farsite/TrainDataGen/WildfireShapefiles/2016/wy_tatanka_complex_central/20160829_0018/MLinput/updated_Number_of_points.csv\n",
      "wy_tatanka_complex_fawn\n"
     ]
    },
    {
     "name": "stderr",
     "output_type": "stream",
     "text": [
      "rm: cannot remove '/home/qweddww123/farsite/TrainDataGen/WildfireShapefiles/2016/wy_tatanka_complex_central/20160829_0018/Number_of_points.csv': No such file or directory\n"
     ]
    },
    {
     "name": "stdout",
     "output_type": "stream",
     "text": [
      "/home/qweddww123/farsite/TrainDataGen/WildfireShapefiles/2016/wy_tatanka_complex_fawn/20160815_1827/MLinput/updated_Number_of_points.csv\n",
      "wy_tatanka_complex_maple\n"
     ]
    },
    {
     "name": "stderr",
     "output_type": "stream",
     "text": [
      "rm: cannot remove '/home/qweddww123/farsite/TrainDataGen/WildfireShapefiles/2016/wy_tatanka_complex_fawn/20160815_1827/MLinput/updated_Number_of_points.csv': No such file or directory\n",
      "rm: cannot remove '/home/qweddww123/farsite/TrainDataGen/WildfireShapefiles/2016/wy_tatanka_complex_fawn/20160815_1827/Number_of_points.csv': No such file or directory\n"
     ]
    },
    {
     "name": "stdout",
     "output_type": "stream",
     "text": [
      "/home/qweddww123/farsite/TrainDataGen/WildfireShapefiles/2016/wy_tatanka_complex_maple/20160815_1827/MLinput/updated_Number_of_points.csv\n",
      "wy_tokewanna\n"
     ]
    },
    {
     "name": "stderr",
     "output_type": "stream",
     "text": [
      "rm: cannot remove '/home/qweddww123/farsite/TrainDataGen/WildfireShapefiles/2016/wy_tatanka_complex_maple/20160815_1827/MLinput/updated_Number_of_points.csv': No such file or directory\n",
      "rm: cannot remove '/home/qweddww123/farsite/TrainDataGen/WildfireShapefiles/2016/wy_tatanka_complex_maple/20160815_1827/Number_of_points.csv': No such file or directory\n"
     ]
    },
    {
     "name": "stdout",
     "output_type": "stream",
     "text": [
      "/home/qweddww123/farsite/TrainDataGen/WildfireShapefiles/2016/wy_tokewanna/20160730_0154/MLinput/updated_Number_of_points.csv\n",
      "wy_twin_lakes\n"
     ]
    },
    {
     "name": "stderr",
     "output_type": "stream",
     "text": [
      "rm: cannot remove '/home/qweddww123/farsite/TrainDataGen/WildfireShapefiles/2016/wy_tokewanna/20160730_0154/MLinput/updated_Number_of_points.csv': No such file or directory\n",
      "rm: cannot remove '/home/qweddww123/farsite/TrainDataGen/WildfireShapefiles/2016/wy_tokewanna/20160730_0154/Number_of_points.csv': No such file or directory\n"
     ]
    },
    {
     "name": "stdout",
     "output_type": "stream",
     "text": [
      "/home/qweddww123/farsite/TrainDataGen/WildfireShapefiles/2016/wy_twin_lakes/20160811_0125/MLinput/updated_Number_of_points.csv\n",
      "wy_whit\n",
      "\n",
      "2019 ***************************************************************************************************************\n",
      "ar_potato_hill\n",
      "/home/qweddww123/farsite/TrainDataGen/WildfireShapefiles/2019/ar_potato_hill/20190406_0000/MLinput/updated_Number_of_points.csv\n",
      "az_benton_cnf\n",
      "\n",
      "az_bermuda\n"
     ]
    },
    {
     "name": "stderr",
     "output_type": "stream",
     "text": [
      "rm: cannot remove '/home/qweddww123/farsite/TrainDataGen/WildfireShapefiles/2016/wy_twin_lakes/20160811_0125/MLinput/updated_Number_of_points.csv': No such file or directory\n",
      "rm: cannot remove '/home/qweddww123/farsite/TrainDataGen/WildfireShapefiles/2016/wy_twin_lakes/20160811_0125/Number_of_points.csv': No such file or directory\n",
      "rm: cannot remove '/home/qweddww123/farsite/TrainDataGen/WildfireShapefiles/2019/ar_potato_hill/20190406_0000/MLinput/updated_Number_of_points.csv': No such file or directory\n",
      "rm: cannot remove '/home/qweddww123/farsite/TrainDataGen/WildfireShapefiles/2019/ar_potato_hill/20190406_0000/Number_of_points.csv': No such file or directory\n"
     ]
    },
    {
     "name": "stdout",
     "output_type": "stream",
     "text": [
      "/home/qweddww123/farsite/TrainDataGen/WildfireShapefiles/2019/az_bermuda/20190218_1000/MLinput/updated_Number_of_points.csv\n",
      "az_blue_river\n"
     ]
    },
    {
     "name": "stderr",
     "output_type": "stream",
     "text": [
      "rm: cannot remove '/home/qweddww123/farsite/TrainDataGen/WildfireShapefiles/2019/az_bermuda/20190218_1000/MLinput/updated_Number_of_points.csv': No such file or directory\n",
      "rm: cannot remove '/home/qweddww123/farsite/TrainDataGen/WildfireShapefiles/2019/az_bermuda/20190218_1000/Number_of_points.csv': No such file or directory\n"
     ]
    },
    {
     "name": "stdout",
     "output_type": "stream",
     "text": [
      "/home/qweddww123/farsite/TrainDataGen/WildfireShapefiles/2019/az_blue_river/20190701_1600/MLinput/updated_Number_of_points.csv\n",
      "az_boulin\n"
     ]
    },
    {
     "name": "stderr",
     "output_type": "stream",
     "text": [
      "rm: cannot remove '/home/qweddww123/farsite/TrainDataGen/WildfireShapefiles/2019/az_blue_river/20190701_1600/MLinput/updated_Number_of_points.csv': No such file or directory\n",
      "rm: cannot remove '/home/qweddww123/farsite/TrainDataGen/WildfireShapefiles/2019/az_blue_river/20190701_1600/Number_of_points.csv': No such file or directory\n"
     ]
    },
    {
     "name": "stdout",
     "output_type": "stream",
     "text": [
      "/home/qweddww123/farsite/TrainDataGen/WildfireShapefiles/2019/az_boulin/20190813_0000/MLinput/updated_Number_of_points.csv\n",
      "az_bronco_gulch\n"
     ]
    },
    {
     "name": "stderr",
     "output_type": "stream",
     "text": [
      "rm: cannot remove '/home/qweddww123/farsite/TrainDataGen/WildfireShapefiles/2019/az_boulin/20190813_0000/MLinput/updated_Number_of_points.csv': No such file or directory\n",
      "rm: cannot remove '/home/qweddww123/farsite/TrainDataGen/WildfireShapefiles/2019/az_boulin/20190813_0000/Number_of_points.csv': No such file or directory\n"
     ]
    },
    {
     "name": "stdout",
     "output_type": "stream",
     "text": [
      "/home/qweddww123/farsite/TrainDataGen/WildfireShapefiles/2019/az_bronco_gulch/20190716_1030/MLinput/updated_Number_of_points.csv\n",
      "az_bylas\n"
     ]
    },
    {
     "name": "stderr",
     "output_type": "stream",
     "text": [
      "rm: cannot remove '/home/qweddww123/farsite/TrainDataGen/WildfireShapefiles/2019/az_bronco_gulch/20190716_1030/MLinput/updated_Number_of_points.csv': No such file or directory\n",
      "rm: cannot remove '/home/qweddww123/farsite/TrainDataGen/WildfireShapefiles/2019/az_bronco_gulch/20190716_1030/Number_of_points.csv': No such file or directory\n"
     ]
    },
    {
     "name": "stdout",
     "output_type": "stream",
     "text": [
      "/home/qweddww123/farsite/TrainDataGen/WildfireShapefiles/2019/az_bylas/20190609_1200/MLinput/updated_Number_of_points.csv\n",
      "az_castle\n"
     ]
    },
    {
     "name": "stderr",
     "output_type": "stream",
     "text": [
      "rm: cannot remove '/home/qweddww123/farsite/TrainDataGen/WildfireShapefiles/2019/az_bylas/20190609_1200/MLinput/updated_Number_of_points.csv': No such file or directory\n",
      "rm: cannot remove '/home/qweddww123/farsite/TrainDataGen/WildfireShapefiles/2019/az_bylas/20190609_1200/Number_of_points.csv': No such file or directory\n"
     ]
    },
    {
     "name": "stdout",
     "output_type": "stream",
     "text": [
      "/home/qweddww123/farsite/TrainDataGen/WildfireShapefiles/2019/az_castle/20190716_0000/MLinput/updated_Number_of_points.csv\n",
      "az_cellar\n"
     ]
    },
    {
     "name": "stderr",
     "output_type": "stream",
     "text": [
      "rm: cannot remove '/home/qweddww123/farsite/TrainDataGen/WildfireShapefiles/2019/az_castle/20190716_0000/MLinput/updated_Number_of_points.csv': No such file or directory\n",
      "rm: cannot remove '/home/qweddww123/farsite/TrainDataGen/WildfireShapefiles/2019/az_castle/20190716_0000/Number_of_points.csv': No such file or directory\n"
     ]
    },
    {
     "name": "stdout",
     "output_type": "stream",
     "text": [
      "/home/qweddww123/farsite/TrainDataGen/WildfireShapefiles/2019/az_cellar/20190715_0000/MLinput/updated_Number_of_points.csv\n",
      "az_champion\n"
     ]
    },
    {
     "name": "stderr",
     "output_type": "stream",
     "text": [
      "rm: cannot remove '/home/qweddww123/farsite/TrainDataGen/WildfireShapefiles/2019/az_cellar/20190715_0000/MLinput/updated_Number_of_points.csv': No such file or directory\n",
      "rm: cannot remove '/home/qweddww123/farsite/TrainDataGen/WildfireShapefiles/2019/az_cellar/20190715_0000/Number_of_points.csv': No such file or directory\n"
     ]
    },
    {
     "name": "stdout",
     "output_type": "stream",
     "text": [
      "/home/qweddww123/farsite/TrainDataGen/WildfireShapefiles/2019/az_champion/20190902_0700/MLinput/updated_Number_of_points.csv\n",
      "az_coldwater\n"
     ]
    },
    {
     "name": "stderr",
     "output_type": "stream",
     "text": [
      "rm: cannot remove '/home/qweddww123/farsite/TrainDataGen/WildfireShapefiles/2019/az_champion/20190902_0700/MLinput/updated_Number_of_points.csv': No such file or directory\n",
      "rm: cannot remove '/home/qweddww123/farsite/TrainDataGen/WildfireShapefiles/2019/az_champion/20190902_0700/Number_of_points.csv': No such file or directory\n"
     ]
    },
    {
     "name": "stdout",
     "output_type": "stream",
     "text": [
      "/home/qweddww123/farsite/TrainDataGen/WildfireShapefiles/2019/az_coldwater/20190607_0700/MLinput/updated_Number_of_points.csv\n",
      "az_coleman\n",
      "/home/qweddww123/farsite/TrainDataGen/WildfireShapefiles/2019/az_coleman/20190702_1600/MLinput/updated_Number_of_points.csv\n",
      "az_deer\n"
     ]
    },
    {
     "name": "stderr",
     "output_type": "stream",
     "text": [
      "rm: cannot remove '/home/qweddww123/farsite/TrainDataGen/WildfireShapefiles/2019/az_coldwater/20190607_0700/MLinput/updated_Number_of_points.csv': No such file or directory\n",
      "rm: cannot remove '/home/qweddww123/farsite/TrainDataGen/WildfireShapefiles/2019/az_coldwater/20190607_0700/Number_of_points.csv': No such file or directory\n",
      "rm: cannot remove '/home/qweddww123/farsite/TrainDataGen/WildfireShapefiles/2019/az_coleman/20190702_1600/MLinput/updated_Number_of_points.csv': No such file or directory\n",
      "rm: cannot remove '/home/qweddww123/farsite/TrainDataGen/WildfireShapefiles/2019/az_coleman/20190702_1600/Number_of_points.csv': No such file or directory\n"
     ]
    },
    {
     "name": "stdout",
     "output_type": "stream",
     "text": [
      "/home/qweddww123/farsite/TrainDataGen/WildfireShapefiles/2019/az_deer/20190531_0000/MLinput/updated_Number_of_points.csv\n",
      "az_gap\n",
      "\n",
      "az_grassy\n"
     ]
    },
    {
     "name": "stderr",
     "output_type": "stream",
     "text": [
      "rm: cannot remove '/home/qweddww123/farsite/TrainDataGen/WildfireShapefiles/2019/az_deer/20190531_0000/MLinput/updated_Number_of_points.csv': No such file or directory\n",
      "rm: cannot remove '/home/qweddww123/farsite/TrainDataGen/WildfireShapefiles/2019/az_deer/20190531_0000/Number_of_points.csv': No such file or directory\n"
     ]
    },
    {
     "name": "stdout",
     "output_type": "stream",
     "text": [
      "/home/qweddww123/farsite/TrainDataGen/WildfireShapefiles/2019/az_grassy/20190716_1930/MLinput/updated_Number_of_points.csv\n",
      "az_huck\n"
     ]
    },
    {
     "name": "stderr",
     "output_type": "stream",
     "text": [
      "rm: cannot remove '/home/qweddww123/farsite/TrainDataGen/WildfireShapefiles/2019/az_grassy/20190716_1930/MLinput/updated_Number_of_points.csv': No such file or directory\n",
      "rm: cannot remove '/home/qweddww123/farsite/TrainDataGen/WildfireShapefiles/2019/az_grassy/20190716_1930/Number_of_points.csv': No such file or directory\n"
     ]
    },
    {
     "name": "stdout",
     "output_type": "stream",
     "text": [
      "/home/qweddww123/farsite/TrainDataGen/WildfireShapefiles/2019/az_huck/20190724_1000/MLinput/updated_Number_of_points.csv\n",
      "az_ikes\n"
     ]
    },
    {
     "name": "stderr",
     "output_type": "stream",
     "text": [
      "rm: cannot remove '/home/qweddww123/farsite/TrainDataGen/WildfireShapefiles/2019/az_huck/20190724_1000/MLinput/updated_Number_of_points.csv': No such file or directory\n",
      "rm: cannot remove '/home/qweddww123/farsite/TrainDataGen/WildfireShapefiles/2019/az_huck/20190724_1000/Number_of_points.csv': No such file or directory\n"
     ]
    },
    {
     "name": "stdout",
     "output_type": "stream",
     "text": [
      "/home/qweddww123/farsite/TrainDataGen/WildfireShapefiles/2019/az_ikes/20190730_0600/MLinput/updated_Number_of_points.csv\n",
      "az_johnson\n",
      "/home/qweddww123/farsite/TrainDataGen/WildfireShapefiles/2019/az_johnson/20190922_2000/MLinput/updated_Number_of_points.csv\n",
      "az_maroon\n"
     ]
    },
    {
     "name": "stderr",
     "output_type": "stream",
     "text": [
      "rm: cannot remove '/home/qweddww123/farsite/TrainDataGen/WildfireShapefiles/2019/az_ikes/20190730_0600/MLinput/updated_Number_of_points.csv': No such file or directory\n",
      "rm: cannot remove '/home/qweddww123/farsite/TrainDataGen/WildfireShapefiles/2019/az_ikes/20190730_0600/Number_of_points.csv': No such file or directory\n",
      "rm: cannot remove '/home/qweddww123/farsite/TrainDataGen/WildfireShapefiles/2019/az_johnson/20190922_2000/MLinput/updated_Number_of_points.csv': No such file or directory\n",
      "rm: cannot remove '/home/qweddww123/farsite/TrainDataGen/WildfireShapefiles/2019/az_johnson/20190922_2000/Number_of_points.csv': No such file or directory\n"
     ]
    },
    {
     "name": "stdout",
     "output_type": "stream",
     "text": [
      "/home/qweddww123/farsite/TrainDataGen/WildfireShapefiles/2019/az_maroon/20190520_0000/MLinput/updated_Number_of_points.csv\n",
      "az_mountain\n"
     ]
    },
    {
     "name": "stderr",
     "output_type": "stream",
     "text": [
      "rm: cannot remove '/home/qweddww123/farsite/TrainDataGen/WildfireShapefiles/2019/az_maroon/20190520_0000/MLinput/updated_Number_of_points.csv': No such file or directory\n",
      "rm: cannot remove '/home/qweddww123/farsite/TrainDataGen/WildfireShapefiles/2019/az_maroon/20190520_0000/Number_of_points.csv': No such file or directory\n"
     ]
    },
    {
     "name": "stdout",
     "output_type": "stream",
     "text": [
      "/home/qweddww123/farsite/TrainDataGen/WildfireShapefiles/2019/az_mountain/20190607_2230/MLinput/updated_Number_of_points.csv\n",
      "az_museum\n"
     ]
    },
    {
     "name": "stderr",
     "output_type": "stream",
     "text": [
      "rm: cannot remove '/home/qweddww123/farsite/TrainDataGen/WildfireShapefiles/2019/az_mountain/20190607_2230/MLinput/updated_Number_of_points.csv': No such file or directory\n",
      "rm: cannot remove '/home/qweddww123/farsite/TrainDataGen/WildfireShapefiles/2019/az_mountain/20190607_2230/Number_of_points.csv': No such file or directory\n"
     ]
    },
    {
     "name": "stdout",
     "output_type": "stream",
     "text": [
      "/home/qweddww123/farsite/TrainDataGen/WildfireShapefiles/2019/az_museum/20190722_0315/MLinput/updated_Number_of_points.csv\n",
      "az_newman\n"
     ]
    },
    {
     "name": "stderr",
     "output_type": "stream",
     "text": [
      "rm: cannot remove '/home/qweddww123/farsite/TrainDataGen/WildfireShapefiles/2019/az_museum/20190722_0315/MLinput/updated_Number_of_points.csv': No such file or directory\n",
      "rm: cannot remove '/home/qweddww123/farsite/TrainDataGen/WildfireShapefiles/2019/az_museum/20190722_0315/Number_of_points.csv': No such file or directory\n"
     ]
    },
    {
     "name": "stdout",
     "output_type": "stream",
     "text": [
      "/home/qweddww123/farsite/TrainDataGen/WildfireShapefiles/2019/az_newman/20190716_2030/MLinput/updated_Number_of_points.csv\n",
      "az_redmond\n",
      "/home/qweddww123/farsite/TrainDataGen/WildfireShapefiles/2019/az_redmond/20190903_1730/MLinput/updated_Number_of_points.csv\n"
     ]
    },
    {
     "name": "stderr",
     "output_type": "stream",
     "text": [
      "rm: cannot remove '/home/qweddww123/farsite/TrainDataGen/WildfireShapefiles/2019/az_newman/20190716_2030/MLinput/updated_Number_of_points.csv': No such file or directory\n",
      "rm: cannot remove '/home/qweddww123/farsite/TrainDataGen/WildfireShapefiles/2019/az_newman/20190716_2030/Number_of_points.csv': No such file or directory\n",
      "rm: cannot remove '/home/qweddww123/farsite/TrainDataGen/WildfireShapefiles/2019/az_redmond/20190903_1730/MLinput/updated_Number_of_points.csv': No such file or directory\n",
      "rm: cannot remove '/home/qweddww123/farsite/TrainDataGen/WildfireShapefiles/2019/az_redmond/20190903_1730/Number_of_points.csv': No such file or directory\n"
     ]
    },
    {
     "name": "stdout",
     "output_type": "stream",
     "text": [
      "az_rim_2\n",
      "/home/qweddww123/farsite/TrainDataGen/WildfireShapefiles/2019/az_rim_2/20190716_1730/MLinput/updated_Number_of_points.csv\n",
      "az_river\n"
     ]
    },
    {
     "name": "stderr",
     "output_type": "stream",
     "text": [
      "rm: cannot remove '/home/qweddww123/farsite/TrainDataGen/WildfireShapefiles/2019/az_rim_2/20190716_1730/MLinput/updated_Number_of_points.csv': No such file or directory\n",
      "rm: cannot remove '/home/qweddww123/farsite/TrainDataGen/WildfireShapefiles/2019/az_rim_2/20190716_1730/Number_of_points.csv': No such file or directory\n"
     ]
    },
    {
     "name": "stdout",
     "output_type": "stream",
     "text": [
      "/home/qweddww123/farsite/TrainDataGen/WildfireShapefiles/2019/az_river/20190905_0900/MLinput/updated_Number_of_points.csv\n",
      "az_rock\n",
      "/home/qweddww123/farsite/TrainDataGen/WildfireShapefiles/2019/az_rock/20190420_1100/MLinput/updated_Number_of_points.csv\n",
      "az_sheridan\n"
     ]
    },
    {
     "name": "stderr",
     "output_type": "stream",
     "text": [
      "rm: cannot remove '/home/qweddww123/farsite/TrainDataGen/WildfireShapefiles/2019/az_river/20190905_0900/MLinput/updated_Number_of_points.csv': No such file or directory\n",
      "rm: cannot remove '/home/qweddww123/farsite/TrainDataGen/WildfireShapefiles/2019/az_river/20190905_0900/Number_of_points.csv': No such file or directory\n",
      "rm: cannot remove '/home/qweddww123/farsite/TrainDataGen/WildfireShapefiles/2019/az_rock/20190420_1100/MLinput/updated_Number_of_points.csv': No such file or directory\n",
      "rm: cannot remove '/home/qweddww123/farsite/TrainDataGen/WildfireShapefiles/2019/az_rock/20190420_1100/Number_of_points.csv': No such file or directory\n"
     ]
    },
    {
     "name": "stdout",
     "output_type": "stream",
     "text": [
      "/home/qweddww123/farsite/TrainDataGen/WildfireShapefiles/2019/az_sheridan/20190817_0940/MLinput/updated_Number_of_points.csv\n",
      "az_smokey\n",
      "/home/qweddww123/farsite/TrainDataGen/WildfireShapefiles/2019/az_smokey/20190508_1500/MLinput/updated_Number_of_points.csv\n"
     ]
    },
    {
     "name": "stderr",
     "output_type": "stream",
     "text": [
      "rm: cannot remove '/home/qweddww123/farsite/TrainDataGen/WildfireShapefiles/2019/az_sheridan/20190817_0940/MLinput/updated_Number_of_points.csv': No such file or directory\n",
      "rm: cannot remove '/home/qweddww123/farsite/TrainDataGen/WildfireShapefiles/2019/az_sheridan/20190817_0940/Number_of_points.csv': No such file or directory\n",
      "rm: cannot remove '/home/qweddww123/farsite/TrainDataGen/WildfireShapefiles/2019/az_smokey/20190508_1500/MLinput/updated_Number_of_points.csv': No such file or directory\n",
      "rm: cannot remove '/home/qweddww123/farsite/TrainDataGen/WildfireShapefiles/2019/az_smokey/20190508_1500/Number_of_points.csv': No such file or directory\n"
     ]
    },
    {
     "name": "stdout",
     "output_type": "stream",
     "text": [
      "az_sullivan\n",
      "/home/qweddww123/farsite/TrainDataGen/WildfireShapefiles/2019/az_sullivan/20190829_0909/MLinput/updated_Number_of_points.csv\n",
      "az_trumbull\n",
      "/home/qweddww123/farsite/TrainDataGen/WildfireShapefiles/2019/az_trumbull/20190811_1437/MLinput/updated_Number_of_points.csv\n",
      "az_van_valer\n",
      "\n",
      "az_verde\n"
     ]
    },
    {
     "name": "stderr",
     "output_type": "stream",
     "text": [
      "rm: cannot remove '/home/qweddww123/farsite/TrainDataGen/WildfireShapefiles/2019/az_sullivan/20190829_0909/MLinput/updated_Number_of_points.csv': No such file or directory\n",
      "rm: cannot remove '/home/qweddww123/farsite/TrainDataGen/WildfireShapefiles/2019/az_sullivan/20190829_0909/Number_of_points.csv': No such file or directory\n",
      "rm: cannot remove '/home/qweddww123/farsite/TrainDataGen/WildfireShapefiles/2019/az_trumbull/20190811_1437/MLinput/updated_Number_of_points.csv': No such file or directory\n",
      "rm: cannot remove '/home/qweddww123/farsite/TrainDataGen/WildfireShapefiles/2019/az_trumbull/20190811_1437/Number_of_points.csv': No such file or directory\n"
     ]
    },
    {
     "name": "stdout",
     "output_type": "stream",
     "text": [
      "/home/qweddww123/farsite/TrainDataGen/WildfireShapefiles/2019/az_verde/20190805_0000/MLinput/updated_Number_of_points.csv\n",
      "az_vt\n"
     ]
    },
    {
     "name": "stderr",
     "output_type": "stream",
     "text": [
      "rm: cannot remove '/home/qweddww123/farsite/TrainDataGen/WildfireShapefiles/2019/az_verde/20190805_0000/MLinput/updated_Number_of_points.csv': No such file or directory\n",
      "rm: cannot remove '/home/qweddww123/farsite/TrainDataGen/WildfireShapefiles/2019/az_verde/20190805_0000/Number_of_points.csv': No such file or directory\n"
     ]
    },
    {
     "name": "stdout",
     "output_type": "stream",
     "text": [
      "/home/qweddww123/farsite/TrainDataGen/WildfireShapefiles/2019/az_vt/20190701_1100/MLinput/updated_Number_of_points.csv\n",
      "az_whiskey\n"
     ]
    },
    {
     "name": "stderr",
     "output_type": "stream",
     "text": [
      "rm: cannot remove '/home/qweddww123/farsite/TrainDataGen/WildfireShapefiles/2019/az_vt/20190701_1100/MLinput/updated_Number_of_points.csv': No such file or directory\n",
      "rm: cannot remove '/home/qweddww123/farsite/TrainDataGen/WildfireShapefiles/2019/az_vt/20190701_1100/Number_of_points.csv': No such file or directory\n"
     ]
    },
    {
     "name": "stdout",
     "output_type": "stream",
     "text": [
      "/home/qweddww123/farsite/TrainDataGen/WildfireShapefiles/2019/az_whiskey/20190916_1230/MLinput/updated_Number_of_points.csv\n",
      "az_white_springs\n"
     ]
    },
    {
     "name": "stderr",
     "output_type": "stream",
     "text": [
      "rm: cannot remove '/home/qweddww123/farsite/TrainDataGen/WildfireShapefiles/2019/az_whiskey/20190916_1230/MLinput/updated_Number_of_points.csv': No such file or directory\n",
      "rm: cannot remove '/home/qweddww123/farsite/TrainDataGen/WildfireShapefiles/2019/az_whiskey/20190916_1230/Number_of_points.csv': No such file or directory\n"
     ]
    },
    {
     "name": "stdout",
     "output_type": "stream",
     "text": [
      "/home/qweddww123/farsite/TrainDataGen/WildfireShapefiles/2019/az_white_springs/20190715_1800/MLinput/updated_Number_of_points.csv\n"
     ]
    },
    {
     "name": "stderr",
     "output_type": "stream",
     "text": [
      "rm: cannot remove '/home/qweddww123/farsite/TrainDataGen/WildfireShapefiles/2019/az_white_springs/20190715_1800/MLinput/updated_Number_of_points.csv': No such file or directory\n",
      "rm: cannot remove '/home/qweddww123/farsite/TrainDataGen/WildfireShapefiles/2019/az_white_springs/20190715_1800/Number_of_points.csv': No such file or directory\n"
     ]
    },
    {
     "name": "stdout",
     "output_type": "stream",
     "text": [
      "az_whiting\n",
      "\n",
      "az_woodbury\n",
      "/home/qweddww123/farsite/TrainDataGen/WildfireShapefiles/2019/az_woodbury/20190609_1330/MLinput/updated_Number_of_points.csv\n",
      "ca_bald\n",
      "\n",
      "ca_briceburg\n",
      "\n",
      "ca_broder\n"
     ]
    },
    {
     "name": "stderr",
     "output_type": "stream",
     "text": [
      "rm: cannot remove '/home/qweddww123/farsite/TrainDataGen/WildfireShapefiles/2019/az_woodbury/20190609_1330/MLinput/updated_Number_of_points.csv': No such file or directory\n",
      "rm: cannot remove '/home/qweddww123/farsite/TrainDataGen/WildfireShapefiles/2019/az_woodbury/20190609_1330/Number_of_points.csv': No such file or directory\n"
     ]
    },
    {
     "name": "stdout",
     "output_type": "stream",
     "text": [
      "\n",
      "ca_caples\n",
      "/home/qweddww123/farsite/TrainDataGen/WildfireShapefiles/2019/ca_caples/20191010_0000/MLinput/updated_Number_of_points.csv\n",
      "ca_cave\n",
      "\n",
      "ca_community\n",
      "\n",
      "ca_cow\n",
      "\n",
      "ca_creek\n",
      "/home/qweddww123/farsite/TrainDataGen/WildfireShapefiles/2019/ca_creek/20191122_0000/MLinput/updated_Number_of_points.csv\n",
      "ca_cutthroat\n",
      "\n",
      "ca_dixon\n"
     ]
    },
    {
     "name": "stderr",
     "output_type": "stream",
     "text": [
      "rm: cannot remove '/home/qweddww123/farsite/TrainDataGen/WildfireShapefiles/2019/ca_caples/20191010_0000/MLinput/updated_Number_of_points.csv': No such file or directory\n",
      "rm: cannot remove '/home/qweddww123/farsite/TrainDataGen/WildfireShapefiles/2019/ca_caples/20191010_0000/Number_of_points.csv': No such file or directory\n",
      "rm: cannot remove '/home/qweddww123/farsite/TrainDataGen/WildfireShapefiles/2019/ca_creek/20191122_0000/MLinput/updated_Number_of_points.csv': No such file or directory\n",
      "rm: cannot remove '/home/qweddww123/farsite/TrainDataGen/WildfireShapefiles/2019/ca_creek/20191122_0000/Number_of_points.csv': No such file or directory\n"
     ]
    },
    {
     "name": "stdout",
     "output_type": "stream",
     "text": [
      "/home/qweddww123/farsite/TrainDataGen/WildfireShapefiles/2019/ca_dixon/20190730_0000/MLinput/updated_Number_of_points.csv\n",
      "ca_east\n",
      "\n",
      "ca_fish\n",
      "\n",
      "ca_fork\n",
      "/home/qweddww123/farsite/TrainDataGen/WildfireShapefiles/2019/ca_fork/20190908_0000/MLinput/updated_Number_of_points.csv\n",
      "ca_getty\n",
      "\n",
      "ca_henthorne\n",
      "\n",
      "ca_jakes\n",
      "\n",
      "ca_jordan\n",
      "\n",
      "ca_kidder_2\n"
     ]
    },
    {
     "name": "stderr",
     "output_type": "stream",
     "text": [
      "rm: cannot remove '/home/qweddww123/farsite/TrainDataGen/WildfireShapefiles/2019/ca_dixon/20190730_0000/MLinput/updated_Number_of_points.csv': No such file or directory\n",
      "rm: cannot remove '/home/qweddww123/farsite/TrainDataGen/WildfireShapefiles/2019/ca_dixon/20190730_0000/Number_of_points.csv': No such file or directory\n",
      "rm: cannot remove '/home/qweddww123/farsite/TrainDataGen/WildfireShapefiles/2019/ca_fork/20190908_0000/MLinput/updated_Number_of_points.csv': No such file or directory\n",
      "rm: cannot remove '/home/qweddww123/farsite/TrainDataGen/WildfireShapefiles/2019/ca_fork/20190908_0000/Number_of_points.csv': No such file or directory\n"
     ]
    },
    {
     "name": "stdout",
     "output_type": "stream",
     "text": [
      "/home/qweddww123/farsite/TrainDataGen/WildfireShapefiles/2019/ca_kidder_2/20190909_0025/MLinput/updated_Number_of_points.csv\n",
      "ca_kincade\n",
      "\n",
      "ca_lime\n"
     ]
    },
    {
     "name": "stderr",
     "output_type": "stream",
     "text": [
      "rm: cannot remove '/home/qweddww123/farsite/TrainDataGen/WildfireShapefiles/2019/ca_kidder_2/20190909_0025/MLinput/updated_Number_of_points.csv': No such file or directory\n",
      "rm: cannot remove '/home/qweddww123/farsite/TrainDataGen/WildfireShapefiles/2019/ca_kidder_2/20190909_0025/Number_of_points.csv': No such file or directory\n"
     ]
    },
    {
     "name": "stdout",
     "output_type": "stream",
     "text": [
      "/home/qweddww123/farsite/TrainDataGen/WildfireShapefiles/2019/ca_lime/20190908_0000/MLinput/updated_Number_of_points.csv\n",
      "ca_lone\n",
      "\n",
      "ca_long_valley\n",
      "\n",
      "ca_lopez\n",
      "\n",
      "ca_lost\n",
      "/home/qweddww123/farsite/TrainDataGen/WildfireShapefiles/2019/ca_lost/20190620_0000/MLinput/updated_Number_of_points.csv\n"
     ]
    },
    {
     "name": "stderr",
     "output_type": "stream",
     "text": [
      "rm: cannot remove '/home/qweddww123/farsite/TrainDataGen/WildfireShapefiles/2019/ca_lime/20190908_0000/MLinput/updated_Number_of_points.csv': No such file or directory\n",
      "rm: cannot remove '/home/qweddww123/farsite/TrainDataGen/WildfireShapefiles/2019/ca_lime/20190908_0000/Number_of_points.csv': No such file or directory\n",
      "rm: cannot remove '/home/qweddww123/farsite/TrainDataGen/WildfireShapefiles/2019/ca_lost/20190620_0000/MLinput/updated_Number_of_points.csv': No such file or directory\n",
      "rm: cannot remove '/home/qweddww123/farsite/TrainDataGen/WildfireShapefiles/2019/ca_lost/20190620_0000/Number_of_points.csv': No such file or directory\n"
     ]
    },
    {
     "name": "stdout",
     "output_type": "stream",
     "text": [
      "ca_maria\n",
      "\n",
      "ca_meadow\n",
      "/home/qweddww123/farsite/TrainDataGen/WildfireShapefiles/2019/ca_meadow/20190612_0000/MLinput/updated_Number_of_points.csv\n",
      "ca_middle\n",
      "\n",
      "ca_mill\n",
      "\n",
      "ca_palisades\n"
     ]
    },
    {
     "name": "stderr",
     "output_type": "stream",
     "text": [
      "rm: cannot remove '/home/qweddww123/farsite/TrainDataGen/WildfireShapefiles/2019/ca_meadow/20190612_0000/MLinput/updated_Number_of_points.csv': No such file or directory\n",
      "rm: cannot remove '/home/qweddww123/farsite/TrainDataGen/WildfireShapefiles/2019/ca_meadow/20190612_0000/Number_of_points.csv': No such file or directory\n"
     ]
    },
    {
     "name": "stdout",
     "output_type": "stream",
     "text": [
      "\n",
      "ca_r-1_ranch\n",
      "\n",
      "ca_ramshorn\n",
      "\n",
      "ca_ranch\n",
      "\n",
      "ca_red\n",
      "\n",
      "ca_red_bank\n",
      "\n",
      "ca_saddle_ridge\n",
      "\n",
      "ca_south\n",
      "\n",
      "ca_springs\n",
      "\n",
      "ca_taboose\n",
      "\n",
      "ca_tamarack\n",
      "\n",
      "ca_tree\n",
      "\n",
      "ca_tucker\n",
      "\n",
      "ca_ukonom\n",
      "/home/qweddww123/farsite/TrainDataGen/WildfireShapefiles/2019/ca_ukonom/20190907_0000/MLinput/updated_Number_of_points.csv\n",
      "ca_walker\n",
      "\n",
      "ca_west\n",
      "\n",
      "co_577\n",
      "/home/qweddww123/farsite/TrainDataGen/WildfireShapefiles/2019/co_577/20190729_1800/MLinput/updated_Number_of_points.csv\n",
      "co_beaver\n",
      "/home/qweddww123/farsite/TrainDataGen/WildfireShapefiles/2019/co_beaver/20190703_0000/MLinput/updated_Number_of_points.csv\n",
      "co_cow_creek\n"
     ]
    },
    {
     "name": "stderr",
     "output_type": "stream",
     "text": [
      "rm: cannot remove '/home/qweddww123/farsite/TrainDataGen/WildfireShapefiles/2019/ca_ukonom/20190907_0000/MLinput/updated_Number_of_points.csv': No such file or directory\n",
      "rm: cannot remove '/home/qweddww123/farsite/TrainDataGen/WildfireShapefiles/2019/ca_ukonom/20190907_0000/Number_of_points.csv': No such file or directory\n",
      "rm: cannot remove '/home/qweddww123/farsite/TrainDataGen/WildfireShapefiles/2019/co_577/20190729_1800/MLinput/updated_Number_of_points.csv': No such file or directory\n",
      "rm: cannot remove '/home/qweddww123/farsite/TrainDataGen/WildfireShapefiles/2019/co_577/20190729_1800/Number_of_points.csv': No such file or directory\n",
      "rm: cannot remove '/home/qweddww123/farsite/TrainDataGen/WildfireShapefiles/2019/co_beaver/20190703_0000/MLinput/updated_Number_of_points.csv': No such file or directory\n",
      "rm: cannot remove '/home/qweddww123/farsite/TrainDataGen/WildfireShapefiles/2019/co_beaver/20190703_0000/Number_of_points.csv': No such file or directory\n"
     ]
    },
    {
     "name": "stdout",
     "output_type": "stream",
     "text": [
      "/home/qweddww123/farsite/TrainDataGen/WildfireShapefiles/2019/co_cow_creek/20191017_0000/MLinput/updated_Number_of_points.csv\n",
      "co_decker\n",
      "\n",
      "co_dino_hq\n",
      "/home/qweddww123/farsite/TrainDataGen/WildfireShapefiles/2019/co_dino_hq/20190821_1741/MLinput/updated_Number_of_points.csv\n"
     ]
    },
    {
     "name": "stderr",
     "output_type": "stream",
     "text": [
      "rm: cannot remove '/home/qweddww123/farsite/TrainDataGen/WildfireShapefiles/2019/co_cow_creek/20191017_0000/MLinput/updated_Number_of_points.csv': No such file or directory\n",
      "rm: cannot remove '/home/qweddww123/farsite/TrainDataGen/WildfireShapefiles/2019/co_cow_creek/20191017_0000/Number_of_points.csv': No such file or directory\n",
      "rm: cannot remove '/home/qweddww123/farsite/TrainDataGen/WildfireShapefiles/2019/co_dino_hq/20190821_1741/MLinput/updated_Number_of_points.csv': No such file or directory\n",
      "rm: cannot remove '/home/qweddww123/farsite/TrainDataGen/WildfireShapefiles/2019/co_dino_hq/20190821_1741/Number_of_points.csv': No such file or directory\n"
     ]
    },
    {
     "name": "stdout",
     "output_type": "stream",
     "text": [
      "co_granite_lake\n",
      "/home/qweddww123/farsite/TrainDataGen/WildfireShapefiles/2019/co_granite_lake/20191001_0900/MLinput/updated_Number_of_points.csv\n",
      "co_hunt\n"
     ]
    },
    {
     "name": "stderr",
     "output_type": "stream",
     "text": [
      "rm: cannot remove '/home/qweddww123/farsite/TrainDataGen/WildfireShapefiles/2019/co_granite_lake/20191001_0900/MLinput/updated_Number_of_points.csv': No such file or directory\n",
      "rm: cannot remove '/home/qweddww123/farsite/TrainDataGen/WildfireShapefiles/2019/co_granite_lake/20191001_0900/Number_of_points.csv': No such file or directory\n"
     ]
    },
    {
     "name": "stdout",
     "output_type": "stream",
     "text": [
      "/home/qweddww123/farsite/TrainDataGen/WildfireShapefiles/2019/co_hunt/20190908_1250/MLinput/updated_Number_of_points.csv\n",
      "co_middle_mamm\n",
      "/home/qweddww123/farsite/TrainDataGen/WildfireShapefiles/2019/co_middle_mamm/20190824_1000/MLinput/updated_Number_of_points.csv\n"
     ]
    },
    {
     "name": "stderr",
     "output_type": "stream",
     "text": [
      "rm: cannot remove '/home/qweddww123/farsite/TrainDataGen/WildfireShapefiles/2019/co_hunt/20190908_1250/MLinput/updated_Number_of_points.csv': No such file or directory\n",
      "rm: cannot remove '/home/qweddww123/farsite/TrainDataGen/WildfireShapefiles/2019/co_hunt/20190908_1250/Number_of_points.csv': No such file or directory\n",
      "rm: cannot remove '/home/qweddww123/farsite/TrainDataGen/WildfireShapefiles/2019/co_middle_mamm/20190824_1000/MLinput/updated_Number_of_points.csv': No such file or directory\n",
      "rm: cannot remove '/home/qweddww123/farsite/TrainDataGen/WildfireShapefiles/2019/co_middle_mamm/20190824_1000/Number_of_points.csv': No such file or directory\n"
     ]
    },
    {
     "name": "stdout",
     "output_type": "stream",
     "text": [
      "co_nelson_ditch\n",
      "/home/qweddww123/farsite/TrainDataGen/WildfireShapefiles/2019/co_nelson_ditch/20190718_0846/MLinput/updated_Number_of_points.csv\n",
      "co_reveille\n"
     ]
    },
    {
     "name": "stderr",
     "output_type": "stream",
     "text": [
      "rm: cannot remove '/home/qweddww123/farsite/TrainDataGen/WildfireShapefiles/2019/co_nelson_ditch/20190718_0846/MLinput/updated_Number_of_points.csv': No such file or directory\n",
      "rm: cannot remove '/home/qweddww123/farsite/TrainDataGen/WildfireShapefiles/2019/co_nelson_ditch/20190718_0846/Number_of_points.csv': No such file or directory\n",
      "rm: cannot remove '/home/qweddww123/farsite/TrainDataGen/WildfireShapefiles/2019/co_reveille/20190605_0600/MLinput/updated_Number_of_points.csv': No such file or directory\n",
      "rm: cannot remove '/home/qweddww123/farsite/TrainDataGen/WildfireShapefiles/2019/co_reveille/20190605_0600/Number_of_points.csv': No such file or directory\n"
     ]
    },
    {
     "name": "stdout",
     "output_type": "stream",
     "text": [
      "/home/qweddww123/farsite/TrainDataGen/WildfireShapefiles/2019/co_reveille/20190605_0600/MLinput/updated_Number_of_points.csv\n",
      "co_rock_spring\n",
      "/home/qweddww123/farsite/TrainDataGen/WildfireShapefiles/2019/co_rock_spring/20190710_1915/MLinput/updated_Number_of_points.csv\n",
      "co_shawnee_peak\n"
     ]
    },
    {
     "name": "stderr",
     "output_type": "stream",
     "text": [
      "rm: cannot remove '/home/qweddww123/farsite/TrainDataGen/WildfireShapefiles/2019/co_rock_spring/20190710_1915/MLinput/updated_Number_of_points.csv': No such file or directory\n",
      "rm: cannot remove '/home/qweddww123/farsite/TrainDataGen/WildfireShapefiles/2019/co_rock_spring/20190710_1915/Number_of_points.csv': No such file or directory\n"
     ]
    },
    {
     "name": "stdout",
     "output_type": "stream",
     "text": [
      "/home/qweddww123/farsite/TrainDataGen/WildfireShapefiles/2019/co_shawnee_peak/20190831_0000/MLinput/updated_Number_of_points.csv\n",
      "fl_360g\n"
     ]
    },
    {
     "name": "stderr",
     "output_type": "stream",
     "text": [
      "rm: cannot remove '/home/qweddww123/farsite/TrainDataGen/WildfireShapefiles/2019/co_shawnee_peak/20190831_0000/MLinput/updated_Number_of_points.csv': No such file or directory\n",
      "rm: cannot remove '/home/qweddww123/farsite/TrainDataGen/WildfireShapefiles/2019/co_shawnee_peak/20190831_0000/Number_of_points.csv': No such file or directory\n"
     ]
    },
    {
     "name": "stdout",
     "output_type": "stream",
     "text": [
      "/home/qweddww123/farsite/TrainDataGen/WildfireShapefiles/2019/fl_360g/20190530_1300/MLinput/updated_Number_of_points.csv\n",
      "fl_cowhorn\n"
     ]
    },
    {
     "name": "stderr",
     "output_type": "stream",
     "text": [
      "rm: cannot remove '/home/qweddww123/farsite/TrainDataGen/WildfireShapefiles/2019/fl_360g/20190530_1300/MLinput/updated_Number_of_points.csv': No such file or directory\n",
      "rm: cannot remove '/home/qweddww123/farsite/TrainDataGen/WildfireShapefiles/2019/fl_360g/20190530_1300/Number_of_points.csv': No such file or directory\n"
     ]
    },
    {
     "name": "stdout",
     "output_type": "stream",
     "text": [
      "/home/qweddww123/farsite/TrainDataGen/WildfireShapefiles/2019/fl_cowhorn/20190505_0215/MLinput/updated_Number_of_points.csv\n",
      "fl_thick_root\n"
     ]
    },
    {
     "name": "stderr",
     "output_type": "stream",
     "text": [
      "rm: cannot remove '/home/qweddww123/farsite/TrainDataGen/WildfireShapefiles/2019/fl_cowhorn/20190505_0215/MLinput/updated_Number_of_points.csv': No such file or directory\n",
      "rm: cannot remove '/home/qweddww123/farsite/TrainDataGen/WildfireShapefiles/2019/fl_cowhorn/20190505_0215/Number_of_points.csv': No such file or directory\n"
     ]
    },
    {
     "name": "stdout",
     "output_type": "stream",
     "text": [
      "/home/qweddww123/farsite/TrainDataGen/WildfireShapefiles/2019/fl_thick_root/20190506_2332/MLinput/updated_Number_of_points.csv\n",
      "ga_poplar_springs_gap_fire\n",
      "/home/qweddww123/farsite/TrainDataGen/WildfireShapefiles/2019/ga_poplar_springs_gap_fire/20191006_1500/MLinput/updated_Number_of_points.csv\n",
      "ga_whitney_fire\n",
      "\n",
      "id_bannock_county_assist_1\n"
     ]
    },
    {
     "name": "stderr",
     "output_type": "stream",
     "text": [
      "rm: cannot remove '/home/qweddww123/farsite/TrainDataGen/WildfireShapefiles/2019/fl_thick_root/20190506_2332/MLinput/updated_Number_of_points.csv': No such file or directory\n",
      "rm: cannot remove '/home/qweddww123/farsite/TrainDataGen/WildfireShapefiles/2019/fl_thick_root/20190506_2332/Number_of_points.csv': No such file or directory\n",
      "rm: cannot remove '/home/qweddww123/farsite/TrainDataGen/WildfireShapefiles/2019/ga_poplar_springs_gap_fire/20191006_1500/MLinput/updated_Number_of_points.csv': No such file or directory\n",
      "rm: cannot remove '/home/qweddww123/farsite/TrainDataGen/WildfireShapefiles/2019/ga_poplar_springs_gap_fire/20191006_1500/Number_of_points.csv': No such file or directory\n"
     ]
    },
    {
     "name": "stdout",
     "output_type": "stream",
     "text": [
      "/home/qweddww123/farsite/TrainDataGen/WildfireShapefiles/2019/id_bannock_county_assist_1/20190710_1301/MLinput/updated_Number_of_points.csv\n",
      "id_barren_hill\n",
      "/home/qweddww123/farsite/TrainDataGen/WildfireShapefiles/2019/id_barren_hill/20190708_0000/MLinput/updated_Number_of_points.csv\n",
      "id_bigmore\n"
     ]
    },
    {
     "name": "stderr",
     "output_type": "stream",
     "text": [
      "rm: cannot remove '/home/qweddww123/farsite/TrainDataGen/WildfireShapefiles/2019/id_bannock_county_assist_1/20190710_1301/MLinput/updated_Number_of_points.csv': No such file or directory\n",
      "rm: cannot remove '/home/qweddww123/farsite/TrainDataGen/WildfireShapefiles/2019/id_bannock_county_assist_1/20190710_1301/Number_of_points.csv': No such file or directory\n",
      "rm: cannot remove '/home/qweddww123/farsite/TrainDataGen/WildfireShapefiles/2019/id_barren_hill/20190708_0000/MLinput/updated_Number_of_points.csv': No such file or directory\n",
      "rm: cannot remove '/home/qweddww123/farsite/TrainDataGen/WildfireShapefiles/2019/id_barren_hill/20190708_0000/Number_of_points.csv': No such file or directory\n"
     ]
    },
    {
     "name": "stdout",
     "output_type": "stream",
     "text": [
      "/home/qweddww123/farsite/TrainDataGen/WildfireShapefiles/2019/id_bigmore/20190710_1320/MLinput/updated_Number_of_points.csv\n",
      "id_black_mesa\n",
      "/home/qweddww123/farsite/TrainDataGen/WildfireShapefiles/2019/id_black_mesa/20190710_1329/MLinput/updated_Number_of_points.csv\n",
      "id_camas_creek\n"
     ]
    },
    {
     "name": "stderr",
     "output_type": "stream",
     "text": [
      "rm: cannot remove '/home/qweddww123/farsite/TrainDataGen/WildfireShapefiles/2019/id_bigmore/20190710_1320/MLinput/updated_Number_of_points.csv': No such file or directory\n",
      "rm: cannot remove '/home/qweddww123/farsite/TrainDataGen/WildfireShapefiles/2019/id_bigmore/20190710_1320/Number_of_points.csv': No such file or directory\n",
      "rm: cannot remove '/home/qweddww123/farsite/TrainDataGen/WildfireShapefiles/2019/id_black_mesa/20190710_1329/MLinput/updated_Number_of_points.csv': No such file or directory\n",
      "rm: cannot remove '/home/qweddww123/farsite/TrainDataGen/WildfireShapefiles/2019/id_black_mesa/20190710_1329/Number_of_points.csv': No such file or directory\n"
     ]
    },
    {
     "name": "stdout",
     "output_type": "stream",
     "text": [
      "/home/qweddww123/farsite/TrainDataGen/WildfireShapefiles/2019/id_camas_creek/20190710_1343/MLinput/updated_Number_of_points.csv\n",
      "id_canal\n",
      "/home/qweddww123/farsite/TrainDataGen/WildfireShapefiles/2019/id_canal/20190710_1343/MLinput/updated_Number_of_points.csv\n"
     ]
    },
    {
     "name": "stderr",
     "output_type": "stream",
     "text": [
      "rm: cannot remove '/home/qweddww123/farsite/TrainDataGen/WildfireShapefiles/2019/id_camas_creek/20190710_1343/MLinput/updated_Number_of_points.csv': No such file or directory\n",
      "rm: cannot remove '/home/qweddww123/farsite/TrainDataGen/WildfireShapefiles/2019/id_camas_creek/20190710_1343/Number_of_points.csv': No such file or directory\n",
      "rm: cannot remove '/home/qweddww123/farsite/TrainDataGen/WildfireShapefiles/2019/id_canal/20190710_1343/MLinput/updated_Number_of_points.csv': No such file or directory\n",
      "rm: cannot remove '/home/qweddww123/farsite/TrainDataGen/WildfireShapefiles/2019/id_canal/20190710_1343/Number_of_points.csv': No such file or directory\n"
     ]
    },
    {
     "name": "stdout",
     "output_type": "stream",
     "text": [
      "id_canyon\n",
      "/home/qweddww123/farsite/TrainDataGen/WildfireShapefiles/2019/id_canyon/20190715_2100/MLinput/updated_Number_of_points.csv\n",
      "id_cove_creek\n"
     ]
    },
    {
     "name": "stderr",
     "output_type": "stream",
     "text": [
      "rm: cannot remove '/home/qweddww123/farsite/TrainDataGen/WildfireShapefiles/2019/id_canyon/20190715_2100/MLinput/updated_Number_of_points.csv': No such file or directory\n",
      "rm: cannot remove '/home/qweddww123/farsite/TrainDataGen/WildfireShapefiles/2019/id_canyon/20190715_2100/Number_of_points.csv': No such file or directory\n"
     ]
    },
    {
     "name": "stdout",
     "output_type": "stream",
     "text": [
      "/home/qweddww123/farsite/TrainDataGen/WildfireShapefiles/2019/id_cove_creek/20190805_0043/MLinput/updated_Number_of_points.csv\n",
      "id_crab\n",
      "/home/qweddww123/farsite/TrainDataGen/WildfireShapefiles/2019/id_crab/20190730_0929/MLinput/updated_Number_of_points.csv\n",
      "id_desert_ride\n"
     ]
    },
    {
     "name": "stderr",
     "output_type": "stream",
     "text": [
      "rm: cannot remove '/home/qweddww123/farsite/TrainDataGen/WildfireShapefiles/2019/id_cove_creek/20190805_0043/MLinput/updated_Number_of_points.csv': No such file or directory\n",
      "rm: cannot remove '/home/qweddww123/farsite/TrainDataGen/WildfireShapefiles/2019/id_cove_creek/20190805_0043/Number_of_points.csv': No such file or directory\n",
      "rm: cannot remove '/home/qweddww123/farsite/TrainDataGen/WildfireShapefiles/2019/id_crab/20190730_0929/MLinput/updated_Number_of_points.csv': No such file or directory\n",
      "rm: cannot remove '/home/qweddww123/farsite/TrainDataGen/WildfireShapefiles/2019/id_crab/20190730_0929/Number_of_points.csv': No such file or directory\n"
     ]
    },
    {
     "name": "stdout",
     "output_type": "stream",
     "text": [
      "/home/qweddww123/farsite/TrainDataGen/WildfireShapefiles/2019/id_desert_ride/20190813_0808/MLinput/updated_Number_of_points.csv\n",
      "id_devil_creek\n"
     ]
    },
    {
     "name": "stderr",
     "output_type": "stream",
     "text": [
      "rm: cannot remove '/home/qweddww123/farsite/TrainDataGen/WildfireShapefiles/2019/id_desert_ride/20190813_0808/MLinput/updated_Number_of_points.csv': No such file or directory\n",
      "rm: cannot remove '/home/qweddww123/farsite/TrainDataGen/WildfireShapefiles/2019/id_desert_ride/20190813_0808/Number_of_points.csv': No such file or directory\n"
     ]
    },
    {
     "name": "stdout",
     "output_type": "stream",
     "text": [
      "/home/qweddww123/farsite/TrainDataGen/WildfireShapefiles/2019/id_devil_creek/20190710_1355/MLinput/updated_Number_of_points.csv\n",
      "id_douglas\n",
      "/home/qweddww123/farsite/TrainDataGen/WildfireShapefiles/2019/id_douglas/20190710_1405/MLinput/updated_Number_of_points.csv\n",
      "id_elbow_bend\n"
     ]
    },
    {
     "name": "stderr",
     "output_type": "stream",
     "text": [
      "rm: cannot remove '/home/qweddww123/farsite/TrainDataGen/WildfireShapefiles/2019/id_devil_creek/20190710_1355/MLinput/updated_Number_of_points.csv': No such file or directory\n",
      "rm: cannot remove '/home/qweddww123/farsite/TrainDataGen/WildfireShapefiles/2019/id_devil_creek/20190710_1355/Number_of_points.csv': No such file or directory\n",
      "rm: cannot remove '/home/qweddww123/farsite/TrainDataGen/WildfireShapefiles/2019/id_douglas/20190710_1405/MLinput/updated_Number_of_points.csv': No such file or directory\n",
      "rm: cannot remove '/home/qweddww123/farsite/TrainDataGen/WildfireShapefiles/2019/id_douglas/20190710_1405/Number_of_points.csv': No such file or directory\n"
     ]
    },
    {
     "name": "stdout",
     "output_type": "stream",
     "text": [
      "/home/qweddww123/farsite/TrainDataGen/WildfireShapefiles/2019/id_elbow_bend/20190807_0655/MLinput/updated_Number_of_points.csv\n",
      "id_horse_butte\n"
     ]
    },
    {
     "name": "stderr",
     "output_type": "stream",
     "text": [
      "rm: cannot remove '/home/qweddww123/farsite/TrainDataGen/WildfireShapefiles/2019/id_elbow_bend/20190807_0655/MLinput/updated_Number_of_points.csv': No such file or directory\n",
      "rm: cannot remove '/home/qweddww123/farsite/TrainDataGen/WildfireShapefiles/2019/id_elbow_bend/20190807_0655/Number_of_points.csv': No such file or directory\n"
     ]
    },
    {
     "name": "stdout",
     "output_type": "stream",
     "text": [
      "/home/qweddww123/farsite/TrainDataGen/WildfireShapefiles/2019/id_horse_butte/20190707_0900/MLinput/updated_Number_of_points.csv\n",
      "id_hot_spring\n",
      "\n",
      "id_hotsprings\n"
     ]
    },
    {
     "name": "stderr",
     "output_type": "stream",
     "text": [
      "rm: cannot remove '/home/qweddww123/farsite/TrainDataGen/WildfireShapefiles/2019/id_horse_butte/20190707_0900/MLinput/updated_Number_of_points.csv': No such file or directory\n",
      "rm: cannot remove '/home/qweddww123/farsite/TrainDataGen/WildfireShapefiles/2019/id_horse_butte/20190707_0900/Number_of_points.csv': No such file or directory\n"
     ]
    },
    {
     "name": "stdout",
     "output_type": "stream",
     "text": [
      "/home/qweddww123/farsite/TrainDataGen/WildfireShapefiles/2019/id_hotsprings/20190710_1429/MLinput/updated_Number_of_points.csv\n",
      "id_hungry_creek\n",
      "/home/qweddww123/farsite/TrainDataGen/WildfireShapefiles/2019/id_hungry_creek/20190821_1500/MLinput/updated_Number_of_points.csv\n",
      "id_kelton_trail\n",
      "/home/qweddww123/farsite/TrainDataGen/WildfireShapefiles/2019/id_kelton_trail/20190710_1438/MLinput/updated_Number_of_points.csv\n",
      "id_lake_channel\n"
     ]
    },
    {
     "name": "stderr",
     "output_type": "stream",
     "text": [
      "rm: cannot remove '/home/qweddww123/farsite/TrainDataGen/WildfireShapefiles/2019/id_hotsprings/20190710_1429/MLinput/updated_Number_of_points.csv': No such file or directory\n",
      "rm: cannot remove '/home/qweddww123/farsite/TrainDataGen/WildfireShapefiles/2019/id_hotsprings/20190710_1429/Number_of_points.csv': No such file or directory\n",
      "rm: cannot remove '/home/qweddww123/farsite/TrainDataGen/WildfireShapefiles/2019/id_hungry_creek/20190821_1500/MLinput/updated_Number_of_points.csv': No such file or directory\n",
      "rm: cannot remove '/home/qweddww123/farsite/TrainDataGen/WildfireShapefiles/2019/id_hungry_creek/20190821_1500/Number_of_points.csv': No such file or directory\n",
      "rm: cannot remove '/home/qweddww123/farsite/TrainDataGen/WildfireShapefiles/2019/id_kelton_trail/20190710_1438/MLinput/updated_Number_of_points.csv': No such file or directory\n",
      "rm: cannot remove '/home/qweddww123/farsite/TrainDataGen/WildfireShapefiles/2019/id_kelton_trail/20190710_1438/Number_of_points.csv': No such file or directory\n"
     ]
    },
    {
     "name": "stdout",
     "output_type": "stream",
     "text": [
      "/home/qweddww123/farsite/TrainDataGen/WildfireShapefiles/2019/id_lake_channel/20190707_0000/MLinput/updated_Number_of_points.csv\n",
      "id_lava\n"
     ]
    },
    {
     "name": "stderr",
     "output_type": "stream",
     "text": [
      "rm: cannot remove '/home/qweddww123/farsite/TrainDataGen/WildfireShapefiles/2019/id_lake_channel/20190707_0000/MLinput/updated_Number_of_points.csv': No such file or directory\n",
      "rm: cannot remove '/home/qweddww123/farsite/TrainDataGen/WildfireShapefiles/2019/id_lake_channel/20190707_0000/Number_of_points.csv': No such file or directory\n"
     ]
    },
    {
     "name": "stdout",
     "output_type": "stream",
     "text": [
      "/home/qweddww123/farsite/TrainDataGen/WildfireShapefiles/2019/id_lava/20190723_1500/MLinput/updated_Number_of_points.csv\n",
      "id_lick_creek\n",
      "/home/qweddww123/farsite/TrainDataGen/WildfireShapefiles/2019/id_lick_creek/20190803_2200/MLinput/updated_Number_of_points.csv\n",
      "id_lookout_point\n"
     ]
    },
    {
     "name": "stderr",
     "output_type": "stream",
     "text": [
      "rm: cannot remove '/home/qweddww123/farsite/TrainDataGen/WildfireShapefiles/2019/id_lava/20190723_1500/MLinput/updated_Number_of_points.csv': No such file or directory\n",
      "rm: cannot remove '/home/qweddww123/farsite/TrainDataGen/WildfireShapefiles/2019/id_lava/20190723_1500/Number_of_points.csv': No such file or directory\n",
      "rm: cannot remove '/home/qweddww123/farsite/TrainDataGen/WildfireShapefiles/2019/id_lick_creek/20190803_2200/MLinput/updated_Number_of_points.csv': No such file or directory\n",
      "rm: cannot remove '/home/qweddww123/farsite/TrainDataGen/WildfireShapefiles/2019/id_lick_creek/20190803_2200/Number_of_points.csv': No such file or directory\n"
     ]
    },
    {
     "name": "stdout",
     "output_type": "stream",
     "text": [
      "/home/qweddww123/farsite/TrainDataGen/WildfireShapefiles/2019/id_lookout_point/20190723_1900/MLinput/updated_Number_of_points.csv\n",
      "id_lowstrike\n",
      "/home/qweddww123/farsite/TrainDataGen/WildfireShapefiles/2019/id_lowstrike/20190710_1504/MLinput/updated_Number_of_points.csv\n",
      "id_nethker\n",
      "/home/qweddww123/farsite/TrainDataGen/WildfireShapefiles/2019/id_nethker/20190805_2309/MLinput/updated_Number_of_points.csv\n"
     ]
    },
    {
     "name": "stderr",
     "output_type": "stream",
     "text": [
      "rm: cannot remove '/home/qweddww123/farsite/TrainDataGen/WildfireShapefiles/2019/id_lookout_point/20190723_1900/MLinput/updated_Number_of_points.csv': No such file or directory\n",
      "rm: cannot remove '/home/qweddww123/farsite/TrainDataGen/WildfireShapefiles/2019/id_lookout_point/20190723_1900/Number_of_points.csv': No such file or directory\n",
      "rm: cannot remove '/home/qweddww123/farsite/TrainDataGen/WildfireShapefiles/2019/id_lowstrike/20190710_1504/MLinput/updated_Number_of_points.csv': No such file or directory\n",
      "rm: cannot remove '/home/qweddww123/farsite/TrainDataGen/WildfireShapefiles/2019/id_lowstrike/20190710_1504/Number_of_points.csv': No such file or directory\n",
      "rm: cannot remove '/home/qweddww123/farsite/TrainDataGen/WildfireShapefiles/2019/id_nethker/20190805_2309/MLinput/updated_Number_of_points.csv': No such file or directory\n",
      "rm: cannot remove '/home/qweddww123/farsite/TrainDataGen/WildfireShapefiles/2019/id_nethker/20190805_2309/Number_of_points.csv': No such file or directory\n"
     ]
    },
    {
     "name": "stdout",
     "output_type": "stream",
     "text": [
      "id_pepper\n",
      "/home/qweddww123/farsite/TrainDataGen/WildfireShapefiles/2019/id_pepper/20190710_1518/MLinput/updated_Number_of_points.csv\n",
      "id_pipe\n"
     ]
    },
    {
     "name": "stderr",
     "output_type": "stream",
     "text": [
      "rm: cannot remove '/home/qweddww123/farsite/TrainDataGen/WildfireShapefiles/2019/id_pepper/20190710_1518/MLinput/updated_Number_of_points.csv': No such file or directory\n",
      "rm: cannot remove '/home/qweddww123/farsite/TrainDataGen/WildfireShapefiles/2019/id_pepper/20190710_1518/Number_of_points.csv': No such file or directory\n",
      "rm: cannot remove '/home/qweddww123/farsite/TrainDataGen/WildfireShapefiles/2019/id_pipe/20190710_1529/MLinput/updated_Number_of_points.csv': No such file or directory\n",
      "rm: cannot remove '/home/qweddww123/farsite/TrainDataGen/WildfireShapefiles/2019/id_pipe/20190710_1529/Number_of_points.csv': No such file or directory\n"
     ]
    },
    {
     "name": "stdout",
     "output_type": "stream",
     "text": [
      "/home/qweddww123/farsite/TrainDataGen/WildfireShapefiles/2019/id_pipe/20190710_1529/MLinput/updated_Number_of_points.csv\n",
      "id_pot_hole\n",
      "\n",
      "id_prospect\n",
      "/home/qweddww123/farsite/TrainDataGen/WildfireShapefiles/2019/id_prospect/20190508_2123/MLinput/updated_Number_of_points.csv\n",
      "id_radar_hill\n"
     ]
    },
    {
     "name": "stderr",
     "output_type": "stream",
     "text": [
      "rm: cannot remove '/home/qweddww123/farsite/TrainDataGen/WildfireShapefiles/2019/id_prospect/20190508_2123/MLinput/updated_Number_of_points.csv': No such file or directory\n",
      "rm: cannot remove '/home/qweddww123/farsite/TrainDataGen/WildfireShapefiles/2019/id_prospect/20190508_2123/Number_of_points.csv': No such file or directory\n",
      "rm: cannot remove '/home/qweddww123/farsite/TrainDataGen/WildfireShapefiles/2019/id_radar_hill/20190710_1538/MLinput/updated_Number_of_points.csv': No such file or directory\n",
      "rm: cannot remove '/home/qweddww123/farsite/TrainDataGen/WildfireShapefiles/2019/id_radar_hill/20190710_1538/Number_of_points.csv': No such file or directory\n"
     ]
    },
    {
     "name": "stdout",
     "output_type": "stream",
     "text": [
      "/home/qweddww123/farsite/TrainDataGen/WildfireShapefiles/2019/id_radar_hill/20190710_1538/MLinput/updated_Number_of_points.csv\n",
      "id_raft_river\n",
      "/home/qweddww123/farsite/TrainDataGen/WildfireShapefiles/2019/id_raft_river/20190710_1541/MLinput/updated_Number_of_points.csv\n",
      "id_rattlesnake\n",
      "/home/qweddww123/farsite/TrainDataGen/WildfireShapefiles/2019/id_rattlesnake/20190729_1029/MLinput/updated_Number_of_points.csv\n",
      "id_rimrock\n"
     ]
    },
    {
     "name": "stderr",
     "output_type": "stream",
     "text": [
      "rm: cannot remove '/home/qweddww123/farsite/TrainDataGen/WildfireShapefiles/2019/id_raft_river/20190710_1541/MLinput/updated_Number_of_points.csv': No such file or directory\n",
      "rm: cannot remove '/home/qweddww123/farsite/TrainDataGen/WildfireShapefiles/2019/id_raft_river/20190710_1541/Number_of_points.csv': No such file or directory\n",
      "rm: cannot remove '/home/qweddww123/farsite/TrainDataGen/WildfireShapefiles/2019/id_rattlesnake/20190729_1029/MLinput/updated_Number_of_points.csv': No such file or directory\n",
      "rm: cannot remove '/home/qweddww123/farsite/TrainDataGen/WildfireShapefiles/2019/id_rattlesnake/20190729_1029/Number_of_points.csv': No such file or directory\n"
     ]
    },
    {
     "name": "stdout",
     "output_type": "stream",
     "text": [
      "/home/qweddww123/farsite/TrainDataGen/WildfireShapefiles/2019/id_rimrock/20190710_1546/MLinput/updated_Number_of_points.csv\n",
      "id_rural_assist_1\n",
      "/home/qweddww123/farsite/TrainDataGen/WildfireShapefiles/2019/id_rural_assist_1/20190710_1551/MLinput/updated_Number_of_points.csv\n",
      "id_sandy\n"
     ]
    },
    {
     "name": "stderr",
     "output_type": "stream",
     "text": [
      "rm: cannot remove '/home/qweddww123/farsite/TrainDataGen/WildfireShapefiles/2019/id_rimrock/20190710_1546/MLinput/updated_Number_of_points.csv': No such file or directory\n",
      "rm: cannot remove '/home/qweddww123/farsite/TrainDataGen/WildfireShapefiles/2019/id_rimrock/20190710_1546/Number_of_points.csv': No such file or directory\n",
      "rm: cannot remove '/home/qweddww123/farsite/TrainDataGen/WildfireShapefiles/2019/id_rural_assist_1/20190710_1551/MLinput/updated_Number_of_points.csv': No such file or directory\n",
      "rm: cannot remove '/home/qweddww123/farsite/TrainDataGen/WildfireShapefiles/2019/id_rural_assist_1/20190710_1551/Number_of_points.csv': No such file or directory\n"
     ]
    },
    {
     "name": "stdout",
     "output_type": "stream",
     "text": [
      "/home/qweddww123/farsite/TrainDataGen/WildfireShapefiles/2019/id_sandy/20190827_0813/MLinput/updated_Number_of_points.csv\n",
      "id_schodde\n",
      "/home/qweddww123/farsite/TrainDataGen/WildfireShapefiles/2019/id_schodde/20190710_1554/MLinput/updated_Number_of_points.csv\n",
      "id_shady\n"
     ]
    },
    {
     "name": "stderr",
     "output_type": "stream",
     "text": [
      "rm: cannot remove '/home/qweddww123/farsite/TrainDataGen/WildfireShapefiles/2019/id_sandy/20190827_0813/MLinput/updated_Number_of_points.csv': No such file or directory\n",
      "rm: cannot remove '/home/qweddww123/farsite/TrainDataGen/WildfireShapefiles/2019/id_sandy/20190827_0813/Number_of_points.csv': No such file or directory\n",
      "rm: cannot remove '/home/qweddww123/farsite/TrainDataGen/WildfireShapefiles/2019/id_schodde/20190710_1554/MLinput/updated_Number_of_points.csv': No such file or directory\n",
      "rm: cannot remove '/home/qweddww123/farsite/TrainDataGen/WildfireShapefiles/2019/id_schodde/20190710_1554/Number_of_points.csv': No such file or directory\n"
     ]
    },
    {
     "name": "stdout",
     "output_type": "stream",
     "text": [
      "/home/qweddww123/farsite/TrainDataGen/WildfireShapefiles/2019/id_shady/20190710_2100/MLinput/updated_Number_of_points.csv\n",
      "id_shale_creek\n",
      "/home/qweddww123/farsite/TrainDataGen/WildfireShapefiles/2019/id_shale_creek/20190827_1600/MLinput/updated_Number_of_points.csv\n",
      "id_sheep\n",
      "\n",
      "id_shoshone\n"
     ]
    },
    {
     "name": "stderr",
     "output_type": "stream",
     "text": [
      "rm: cannot remove '/home/qweddww123/farsite/TrainDataGen/WildfireShapefiles/2019/id_shady/20190710_2100/MLinput/updated_Number_of_points.csv': No such file or directory\n",
      "rm: cannot remove '/home/qweddww123/farsite/TrainDataGen/WildfireShapefiles/2019/id_shady/20190710_2100/Number_of_points.csv': No such file or directory\n",
      "rm: cannot remove '/home/qweddww123/farsite/TrainDataGen/WildfireShapefiles/2019/id_shale_creek/20190827_1600/MLinput/updated_Number_of_points.csv': No such file or directory\n",
      "rm: cannot remove '/home/qweddww123/farsite/TrainDataGen/WildfireShapefiles/2019/id_shale_creek/20190827_1600/Number_of_points.csv': No such file or directory\n"
     ]
    },
    {
     "name": "stdout",
     "output_type": "stream",
     "text": [
      "/home/qweddww123/farsite/TrainDataGen/WildfireShapefiles/2019/id_shoshone/20190710_1456/MLinput/updated_Number_of_points.csv\n",
      "id_silver_bridge\n",
      "/home/qweddww123/farsite/TrainDataGen/WildfireShapefiles/2019/id_silver_bridge/20190710_1559/MLinput/updated_Number_of_points.csv\n",
      "id_smith_knob\n"
     ]
    },
    {
     "name": "stderr",
     "output_type": "stream",
     "text": [
      "rm: cannot remove '/home/qweddww123/farsite/TrainDataGen/WildfireShapefiles/2019/id_shoshone/20190710_1456/MLinput/updated_Number_of_points.csv': No such file or directory\n",
      "rm: cannot remove '/home/qweddww123/farsite/TrainDataGen/WildfireShapefiles/2019/id_shoshone/20190710_1456/Number_of_points.csv': No such file or directory\n",
      "rm: cannot remove '/home/qweddww123/farsite/TrainDataGen/WildfireShapefiles/2019/id_silver_bridge/20190710_1559/MLinput/updated_Number_of_points.csv': No such file or directory\n",
      "rm: cannot remove '/home/qweddww123/farsite/TrainDataGen/WildfireShapefiles/2019/id_silver_bridge/20190710_1559/Number_of_points.csv': No such file or directory\n"
     ]
    },
    {
     "name": "stdout",
     "output_type": "stream",
     "text": [
      "/home/qweddww123/farsite/TrainDataGen/WildfireShapefiles/2019/id_smith_knob/20190823_1545/MLinput/updated_Number_of_points.csv\n",
      "id_table_butte\n",
      "/home/qweddww123/farsite/TrainDataGen/WildfireShapefiles/2019/id_table_butte/20190710_1603/MLinput/updated_Number_of_points.csv\n",
      "id_thompson_hill\n"
     ]
    },
    {
     "name": "stderr",
     "output_type": "stream",
     "text": [
      "rm: cannot remove '/home/qweddww123/farsite/TrainDataGen/WildfireShapefiles/2019/id_smith_knob/20190823_1545/MLinput/updated_Number_of_points.csv': No such file or directory\n",
      "rm: cannot remove '/home/qweddww123/farsite/TrainDataGen/WildfireShapefiles/2019/id_smith_knob/20190823_1545/Number_of_points.csv': No such file or directory\n",
      "rm: cannot remove '/home/qweddww123/farsite/TrainDataGen/WildfireShapefiles/2019/id_table_butte/20190710_1603/MLinput/updated_Number_of_points.csv': No such file or directory\n",
      "rm: cannot remove '/home/qweddww123/farsite/TrainDataGen/WildfireShapefiles/2019/id_table_butte/20190710_1603/Number_of_points.csv': No such file or directory\n"
     ]
    },
    {
     "name": "stdout",
     "output_type": "stream",
     "text": [
      "/home/qweddww123/farsite/TrainDataGen/WildfireShapefiles/2019/id_thompson_hill/20190710_1607/MLinput/updated_Number_of_points.csv\n",
      "id_tincup\n",
      "/home/qweddww123/farsite/TrainDataGen/WildfireShapefiles/2019/id_tincup/20190808_0000/MLinput/updated_Number_of_points.csv\n",
      "id_twenty_mile\n"
     ]
    },
    {
     "name": "stderr",
     "output_type": "stream",
     "text": [
      "rm: cannot remove '/home/qweddww123/farsite/TrainDataGen/WildfireShapefiles/2019/id_thompson_hill/20190710_1607/MLinput/updated_Number_of_points.csv': No such file or directory\n",
      "rm: cannot remove '/home/qweddww123/farsite/TrainDataGen/WildfireShapefiles/2019/id_thompson_hill/20190710_1607/Number_of_points.csv': No such file or directory\n",
      "rm: cannot remove '/home/qweddww123/farsite/TrainDataGen/WildfireShapefiles/2019/id_tincup/20190808_0000/MLinput/updated_Number_of_points.csv': No such file or directory\n",
      "rm: cannot remove '/home/qweddww123/farsite/TrainDataGen/WildfireShapefiles/2019/id_tincup/20190808_0000/Number_of_points.csv': No such file or directory\n"
     ]
    },
    {
     "name": "stdout",
     "output_type": "stream",
     "text": [
      "/home/qweddww123/farsite/TrainDataGen/WildfireShapefiles/2019/id_twenty_mile/20190715_1117/MLinput/updated_Number_of_points.csv\n",
      "id_vader\n",
      "/home/qweddww123/farsite/TrainDataGen/WildfireShapefiles/2019/id_vader/20190719_0000/MLinput/updated_Number_of_points.csv\n",
      "id_waterfall\n"
     ]
    },
    {
     "name": "stderr",
     "output_type": "stream",
     "text": [
      "rm: cannot remove '/home/qweddww123/farsite/TrainDataGen/WildfireShapefiles/2019/id_twenty_mile/20190715_1117/MLinput/updated_Number_of_points.csv': No such file or directory\n",
      "rm: cannot remove '/home/qweddww123/farsite/TrainDataGen/WildfireShapefiles/2019/id_twenty_mile/20190715_1117/Number_of_points.csv': No such file or directory\n",
      "rm: cannot remove '/home/qweddww123/farsite/TrainDataGen/WildfireShapefiles/2019/id_vader/20190719_0000/MLinput/updated_Number_of_points.csv': No such file or directory\n",
      "rm: cannot remove '/home/qweddww123/farsite/TrainDataGen/WildfireShapefiles/2019/id_vader/20190719_0000/Number_of_points.csv': No such file or directory\n"
     ]
    },
    {
     "name": "stdout",
     "output_type": "stream",
     "text": [
      "/home/qweddww123/farsite/TrainDataGen/WildfireShapefiles/2019/id_waterfall/20190708_0000/MLinput/updated_Number_of_points.csv\n",
      "id_wilson\n"
     ]
    },
    {
     "name": "stderr",
     "output_type": "stream",
     "text": [
      "rm: cannot remove '/home/qweddww123/farsite/TrainDataGen/WildfireShapefiles/2019/id_waterfall/20190708_0000/MLinput/updated_Number_of_points.csv': No such file or directory\n",
      "rm: cannot remove '/home/qweddww123/farsite/TrainDataGen/WildfireShapefiles/2019/id_waterfall/20190708_0000/Number_of_points.csv': No such file or directory\n"
     ]
    },
    {
     "name": "stdout",
     "output_type": "stream",
     "text": [
      "/home/qweddww123/farsite/TrainDataGen/WildfireShapefiles/2019/id_wilson/20190710_1623/MLinput/updated_Number_of_points.csv\n",
      "mt_beeskove\n",
      "/home/qweddww123/farsite/TrainDataGen/WildfireShapefiles/2019/mt_beeskove/20190725_1200/MLinput/updated_Number_of_points.csv\n",
      "mt_black_diamond_creek\n"
     ]
    },
    {
     "name": "stderr",
     "output_type": "stream",
     "text": [
      "rm: cannot remove '/home/qweddww123/farsite/TrainDataGen/WildfireShapefiles/2019/id_wilson/20190710_1623/MLinput/updated_Number_of_points.csv': No such file or directory\n",
      "rm: cannot remove '/home/qweddww123/farsite/TrainDataGen/WildfireShapefiles/2019/id_wilson/20190710_1623/Number_of_points.csv': No such file or directory\n",
      "rm: cannot remove '/home/qweddww123/farsite/TrainDataGen/WildfireShapefiles/2019/mt_beeskove/20190725_1200/MLinput/updated_Number_of_points.csv': No such file or directory\n",
      "rm: cannot remove '/home/qweddww123/farsite/TrainDataGen/WildfireShapefiles/2019/mt_beeskove/20190725_1200/Number_of_points.csv': No such file or directory\n"
     ]
    },
    {
     "name": "stdout",
     "output_type": "stream",
     "text": [
      "/home/qweddww123/farsite/TrainDataGen/WildfireShapefiles/2019/mt_black_diamond_creek/20190803_2214/MLinput/updated_Number_of_points.csv\n",
      "mt_devils_tower\n",
      "\n",
      "mt_gleason\n",
      "/home/qweddww123/farsite/TrainDataGen/WildfireShapefiles/2019/mt_gleason/20190807_0227/MLinput/updated_Number_of_points.csv\n",
      "mt_horsefly\n"
     ]
    },
    {
     "name": "stderr",
     "output_type": "stream",
     "text": [
      "rm: cannot remove '/home/qweddww123/farsite/TrainDataGen/WildfireShapefiles/2019/mt_black_diamond_creek/20190803_2214/MLinput/updated_Number_of_points.csv': No such file or directory\n",
      "rm: cannot remove '/home/qweddww123/farsite/TrainDataGen/WildfireShapefiles/2019/mt_black_diamond_creek/20190803_2214/Number_of_points.csv': No such file or directory\n",
      "rm: cannot remove '/home/qweddww123/farsite/TrainDataGen/WildfireShapefiles/2019/mt_gleason/20190807_0227/MLinput/updated_Number_of_points.csv': No such file or directory\n",
      "rm: cannot remove '/home/qweddww123/farsite/TrainDataGen/WildfireShapefiles/2019/mt_gleason/20190807_0227/Number_of_points.csv': No such file or directory\n"
     ]
    },
    {
     "name": "stdout",
     "output_type": "stream",
     "text": [
      "/home/qweddww123/farsite/TrainDataGen/WildfireShapefiles/2019/mt_horsefly/20190805_2158/MLinput/updated_Number_of_points.csv\n",
      "mt_mcclusky\n",
      "/home/qweddww123/farsite/TrainDataGen/WildfireShapefiles/2019/mt_mcclusky/20190818_1400/MLinput/updated_Number_of_points.csv\n",
      "mt_miller_gulch\n",
      "/home/qweddww123/farsite/TrainDataGen/WildfireShapefiles/2019/mt_miller_gulch/20190829_1600/MLinput/updated_Number_of_points.csv\n",
      "mt_nevada_creek\n"
     ]
    },
    {
     "name": "stderr",
     "output_type": "stream",
     "text": [
      "rm: cannot remove '/home/qweddww123/farsite/TrainDataGen/WildfireShapefiles/2019/mt_horsefly/20190805_2158/MLinput/updated_Number_of_points.csv': No such file or directory\n",
      "rm: cannot remove '/home/qweddww123/farsite/TrainDataGen/WildfireShapefiles/2019/mt_horsefly/20190805_2158/Number_of_points.csv': No such file or directory\n",
      "rm: cannot remove '/home/qweddww123/farsite/TrainDataGen/WildfireShapefiles/2019/mt_mcclusky/20190818_1400/MLinput/updated_Number_of_points.csv': No such file or directory\n",
      "rm: cannot remove '/home/qweddww123/farsite/TrainDataGen/WildfireShapefiles/2019/mt_mcclusky/20190818_1400/Number_of_points.csv': No such file or directory\n",
      "rm: cannot remove '/home/qweddww123/farsite/TrainDataGen/WildfireShapefiles/2019/mt_miller_gulch/20190829_1600/MLinput/updated_Number_of_points.csv': No such file or directory\n",
      "rm: cannot remove '/home/qweddww123/farsite/TrainDataGen/WildfireShapefiles/2019/mt_miller_gulch/20190829_1600/Number_of_points.csv': No such file or directory\n"
     ]
    },
    {
     "name": "stdout",
     "output_type": "stream",
     "text": [
      "/home/qweddww123/farsite/TrainDataGen/WildfireShapefiles/2019/mt_nevada_creek/20190803_0048/MLinput/updated_Number_of_points.csv\n",
      "mt_north_hills\n"
     ]
    },
    {
     "name": "stderr",
     "output_type": "stream",
     "text": [
      "rm: cannot remove '/home/qweddww123/farsite/TrainDataGen/WildfireShapefiles/2019/mt_nevada_creek/20190803_0048/MLinput/updated_Number_of_points.csv': No such file or directory\n",
      "rm: cannot remove '/home/qweddww123/farsite/TrainDataGen/WildfireShapefiles/2019/mt_nevada_creek/20190803_0048/Number_of_points.csv': No such file or directory\n"
     ]
    },
    {
     "name": "stdout",
     "output_type": "stream",
     "text": [
      "/home/qweddww123/farsite/TrainDataGen/WildfireShapefiles/2019/mt_north_hills/20190728_0000/MLinput/updated_Number_of_points.csv\n",
      "mt_owl_gulch\n"
     ]
    },
    {
     "name": "stderr",
     "output_type": "stream",
     "text": [
      "rm: cannot remove '/home/qweddww123/farsite/TrainDataGen/WildfireShapefiles/2019/mt_north_hills/20190728_0000/MLinput/updated_Number_of_points.csv': No such file or directory\n",
      "rm: cannot remove '/home/qweddww123/farsite/TrainDataGen/WildfireShapefiles/2019/mt_north_hills/20190728_0000/Number_of_points.csv': No such file or directory\n"
     ]
    },
    {
     "name": "stdout",
     "output_type": "stream",
     "text": [
      "/home/qweddww123/farsite/TrainDataGen/WildfireShapefiles/2019/mt_owl_gulch/20190801_0543/MLinput/updated_Number_of_points.csv\n",
      "mt_snow_creek\n",
      "/home/qweddww123/farsite/TrainDataGen/WildfireShapefiles/2019/mt_snow_creek/20190804_1601/MLinput/updated_Number_of_points.csv\n",
      "nm_amole\n"
     ]
    },
    {
     "name": "stderr",
     "output_type": "stream",
     "text": [
      "rm: cannot remove '/home/qweddww123/farsite/TrainDataGen/WildfireShapefiles/2019/mt_owl_gulch/20190801_0543/MLinput/updated_Number_of_points.csv': No such file or directory\n",
      "rm: cannot remove '/home/qweddww123/farsite/TrainDataGen/WildfireShapefiles/2019/mt_owl_gulch/20190801_0543/Number_of_points.csv': No such file or directory\n",
      "rm: cannot remove '/home/qweddww123/farsite/TrainDataGen/WildfireShapefiles/2019/mt_snow_creek/20190804_1601/MLinput/updated_Number_of_points.csv': No such file or directory\n",
      "rm: cannot remove '/home/qweddww123/farsite/TrainDataGen/WildfireShapefiles/2019/mt_snow_creek/20190804_1601/Number_of_points.csv': No such file or directory\n"
     ]
    },
    {
     "name": "stdout",
     "output_type": "stream",
     "text": [
      "/home/qweddww123/farsite/TrainDataGen/WildfireShapefiles/2019/nm_amole/20190909_0000/MLinput/updated_Number_of_points.csv\n",
      "nm_apache\n",
      "/home/qweddww123/farsite/TrainDataGen/WildfireShapefiles/2019/nm_apache/20190907_0000/MLinput/updated_Number_of_points.csv\n"
     ]
    },
    {
     "name": "stderr",
     "output_type": "stream",
     "text": [
      "rm: cannot remove '/home/qweddww123/farsite/TrainDataGen/WildfireShapefiles/2019/nm_amole/20190909_0000/MLinput/updated_Number_of_points.csv': No such file or directory\n",
      "rm: cannot remove '/home/qweddww123/farsite/TrainDataGen/WildfireShapefiles/2019/nm_amole/20190909_0000/Number_of_points.csv': No such file or directory\n",
      "rm: cannot remove '/home/qweddww123/farsite/TrainDataGen/WildfireShapefiles/2019/nm_apache/20190907_0000/MLinput/updated_Number_of_points.csv': No such file or directory\n",
      "rm: cannot remove '/home/qweddww123/farsite/TrainDataGen/WildfireShapefiles/2019/nm_apache/20190907_0000/Number_of_points.csv': No such file or directory\n"
     ]
    },
    {
     "name": "stdout",
     "output_type": "stream",
     "text": [
      "nm_black\n",
      "/home/qweddww123/farsite/TrainDataGen/WildfireShapefiles/2019/nm_black/20190701_0000/MLinput/updated_Number_of_points.csv\n",
      "nm_conejos\n"
     ]
    },
    {
     "name": "stderr",
     "output_type": "stream",
     "text": [
      "rm: cannot remove '/home/qweddww123/farsite/TrainDataGen/WildfireShapefiles/2019/nm_black/20190701_0000/MLinput/updated_Number_of_points.csv': No such file or directory\n",
      "rm: cannot remove '/home/qweddww123/farsite/TrainDataGen/WildfireShapefiles/2019/nm_black/20190701_0000/Number_of_points.csv': No such file or directory\n"
     ]
    },
    {
     "name": "stdout",
     "output_type": "stream",
     "text": [
      "/home/qweddww123/farsite/TrainDataGen/WildfireShapefiles/2019/nm_conejos/20190730_0000/MLinput/updated_Number_of_points.csv\n",
      "nm_elk\n"
     ]
    },
    {
     "name": "stderr",
     "output_type": "stream",
     "text": [
      "rm: cannot remove '/home/qweddww123/farsite/TrainDataGen/WildfireShapefiles/2019/nm_conejos/20190730_0000/MLinput/updated_Number_of_points.csv': No such file or directory\n",
      "rm: cannot remove '/home/qweddww123/farsite/TrainDataGen/WildfireShapefiles/2019/nm_conejos/20190730_0000/Number_of_points.csv': No such file or directory\n"
     ]
    },
    {
     "name": "stdout",
     "output_type": "stream",
     "text": [
      "/home/qweddww123/farsite/TrainDataGen/WildfireShapefiles/2019/nm_elk/20190609_1400/MLinput/updated_Number_of_points.csv\n",
      "nm_francisquito\n",
      "/home/qweddww123/farsite/TrainDataGen/WildfireShapefiles/2019/nm_francisquito/20190715_1830/MLinput/updated_Number_of_points.csv\n",
      "nm_iron_works\n"
     ]
    },
    {
     "name": "stderr",
     "output_type": "stream",
     "text": [
      "rm: cannot remove '/home/qweddww123/farsite/TrainDataGen/WildfireShapefiles/2019/nm_elk/20190609_1400/MLinput/updated_Number_of_points.csv': No such file or directory\n",
      "rm: cannot remove '/home/qweddww123/farsite/TrainDataGen/WildfireShapefiles/2019/nm_elk/20190609_1400/Number_of_points.csv': No such file or directory\n",
      "rm: cannot remove '/home/qweddww123/farsite/TrainDataGen/WildfireShapefiles/2019/nm_francisquito/20190715_1830/MLinput/updated_Number_of_points.csv': No such file or directory\n",
      "rm: cannot remove '/home/qweddww123/farsite/TrainDataGen/WildfireShapefiles/2019/nm_francisquito/20190715_1830/Number_of_points.csv': No such file or directory\n"
     ]
    },
    {
     "name": "stdout",
     "output_type": "stream",
     "text": [
      "/home/qweddww123/farsite/TrainDataGen/WildfireShapefiles/2019/nm_iron_works/20190308_1600/MLinput/updated_Number_of_points.csv\n",
      "nm_lava_18\n"
     ]
    },
    {
     "name": "stderr",
     "output_type": "stream",
     "text": [
      "rm: cannot remove '/home/qweddww123/farsite/TrainDataGen/WildfireShapefiles/2019/nm_iron_works/20190308_1600/MLinput/updated_Number_of_points.csv': No such file or directory\n",
      "rm: cannot remove '/home/qweddww123/farsite/TrainDataGen/WildfireShapefiles/2019/nm_iron_works/20190308_1600/Number_of_points.csv': No such file or directory\n"
     ]
    },
    {
     "name": "stdout",
     "output_type": "stream",
     "text": [
      "/home/qweddww123/farsite/TrainDataGen/WildfireShapefiles/2019/nm_lava_18/20190827_1800/MLinput/updated_Number_of_points.csv\n",
      "nm_little\n"
     ]
    },
    {
     "name": "stderr",
     "output_type": "stream",
     "text": [
      "rm: cannot remove '/home/qweddww123/farsite/TrainDataGen/WildfireShapefiles/2019/nm_lava_18/20190827_1800/MLinput/updated_Number_of_points.csv': No such file or directory\n",
      "rm: cannot remove '/home/qweddww123/farsite/TrainDataGen/WildfireShapefiles/2019/nm_lava_18/20190827_1800/Number_of_points.csv': No such file or directory\n"
     ]
    },
    {
     "name": "stdout",
     "output_type": "stream",
     "text": [
      "/home/qweddww123/farsite/TrainDataGen/WildfireShapefiles/2019/nm_little/20190629_0000/MLinput/updated_Number_of_points.csv\n",
      "nm_lone_mountain\n",
      "/home/qweddww123/farsite/TrainDataGen/WildfireShapefiles/2019/nm_lone_mountain/20190528_1700/MLinput/updated_Number_of_points.csv\n",
      "nm_miller\n"
     ]
    },
    {
     "name": "stderr",
     "output_type": "stream",
     "text": [
      "rm: cannot remove '/home/qweddww123/farsite/TrainDataGen/WildfireShapefiles/2019/nm_little/20190629_0000/MLinput/updated_Number_of_points.csv': No such file or directory\n",
      "rm: cannot remove '/home/qweddww123/farsite/TrainDataGen/WildfireShapefiles/2019/nm_little/20190629_0000/Number_of_points.csv': No such file or directory\n",
      "rm: cannot remove '/home/qweddww123/farsite/TrainDataGen/WildfireShapefiles/2019/nm_lone_mountain/20190528_1700/MLinput/updated_Number_of_points.csv': No such file or directory\n",
      "rm: cannot remove '/home/qweddww123/farsite/TrainDataGen/WildfireShapefiles/2019/nm_lone_mountain/20190528_1700/Number_of_points.csv': No such file or directory\n"
     ]
    },
    {
     "name": "stdout",
     "output_type": "stream",
     "text": [
      "/home/qweddww123/farsite/TrainDataGen/WildfireShapefiles/2019/nm_miller/20190701_1000/MLinput/updated_Number_of_points.csv\n",
      "nm_montoya_springs\n"
     ]
    },
    {
     "name": "stderr",
     "output_type": "stream",
     "text": [
      "rm: cannot remove '/home/qweddww123/farsite/TrainDataGen/WildfireShapefiles/2019/nm_miller/20190701_1000/MLinput/updated_Number_of_points.csv': No such file or directory\n",
      "rm: cannot remove '/home/qweddww123/farsite/TrainDataGen/WildfireShapefiles/2019/nm_miller/20190701_1000/Number_of_points.csv': No such file or directory\n"
     ]
    },
    {
     "name": "stdout",
     "output_type": "stream",
     "text": [
      "/home/qweddww123/farsite/TrainDataGen/WildfireShapefiles/2019/nm_montoya_springs/20190907_0000/MLinput/updated_Number_of_points.csv\n",
      "nm_naranjo\n",
      "/home/qweddww123/farsite/TrainDataGen/WildfireShapefiles/2019/nm_naranjo/20190705_1300/MLinput/updated_Number_of_points.csv\n"
     ]
    },
    {
     "name": "stderr",
     "output_type": "stream",
     "text": [
      "rm: cannot remove '/home/qweddww123/farsite/TrainDataGen/WildfireShapefiles/2019/nm_montoya_springs/20190907_0000/MLinput/updated_Number_of_points.csv': No such file or directory\n",
      "rm: cannot remove '/home/qweddww123/farsite/TrainDataGen/WildfireShapefiles/2019/nm_montoya_springs/20190907_0000/Number_of_points.csv': No such file or directory\n",
      "rm: cannot remove '/home/qweddww123/farsite/TrainDataGen/WildfireShapefiles/2019/nm_naranjo/20190705_1300/MLinput/updated_Number_of_points.csv': No such file or directory\n",
      "rm: cannot remove '/home/qweddww123/farsite/TrainDataGen/WildfireShapefiles/2019/nm_naranjo/20190705_1300/Number_of_points.csv': No such file or directory\n"
     ]
    },
    {
     "name": "stdout",
     "output_type": "stream",
     "text": [
      "nm_pine_lodge\n",
      "/home/qweddww123/farsite/TrainDataGen/WildfireShapefiles/2019/nm_pine_lodge/20190619_1900/MLinput/updated_Number_of_points.csv\n",
      "nm_roberts\n"
     ]
    },
    {
     "name": "stderr",
     "output_type": "stream",
     "text": [
      "rm: cannot remove '/home/qweddww123/farsite/TrainDataGen/WildfireShapefiles/2019/nm_pine_lodge/20190619_1900/MLinput/updated_Number_of_points.csv': No such file or directory\n",
      "rm: cannot remove '/home/qweddww123/farsite/TrainDataGen/WildfireShapefiles/2019/nm_pine_lodge/20190619_1900/Number_of_points.csv': No such file or directory\n"
     ]
    },
    {
     "name": "stdout",
     "output_type": "stream",
     "text": [
      "/home/qweddww123/farsite/TrainDataGen/WildfireShapefiles/2019/nm_roberts/20190714_0800/MLinput/updated_Number_of_points.csv\n",
      "nm_rocky\n"
     ]
    },
    {
     "name": "stderr",
     "output_type": "stream",
     "text": [
      "rm: cannot remove '/home/qweddww123/farsite/TrainDataGen/WildfireShapefiles/2019/nm_roberts/20190714_0800/MLinput/updated_Number_of_points.csv': No such file or directory\n",
      "rm: cannot remove '/home/qweddww123/farsite/TrainDataGen/WildfireShapefiles/2019/nm_roberts/20190714_0800/Number_of_points.csv': No such file or directory\n"
     ]
    },
    {
     "name": "stdout",
     "output_type": "stream",
     "text": [
      "/home/qweddww123/farsite/TrainDataGen/WildfireShapefiles/2019/nm_rocky/20190709_0000/MLinput/updated_Number_of_points.csv\n",
      "nm_route_8\n"
     ]
    },
    {
     "name": "stderr",
     "output_type": "stream",
     "text": [
      "rm: cannot remove '/home/qweddww123/farsite/TrainDataGen/WildfireShapefiles/2019/nm_rocky/20190709_0000/MLinput/updated_Number_of_points.csv': No such file or directory\n",
      "rm: cannot remove '/home/qweddww123/farsite/TrainDataGen/WildfireShapefiles/2019/nm_rocky/20190709_0000/Number_of_points.csv': No such file or directory\n"
     ]
    },
    {
     "name": "stdout",
     "output_type": "stream",
     "text": [
      "/home/qweddww123/farsite/TrainDataGen/WildfireShapefiles/2019/nm_route_8/20190802_0000/MLinput/updated_Number_of_points.csv\n",
      "nm_skid\n"
     ]
    },
    {
     "name": "stderr",
     "output_type": "stream",
     "text": [
      "rm: cannot remove '/home/qweddww123/farsite/TrainDataGen/WildfireShapefiles/2019/nm_route_8/20190802_0000/MLinput/updated_Number_of_points.csv': No such file or directory\n",
      "rm: cannot remove '/home/qweddww123/farsite/TrainDataGen/WildfireShapefiles/2019/nm_route_8/20190802_0000/Number_of_points.csv': No such file or directory\n"
     ]
    },
    {
     "name": "stdout",
     "output_type": "stream",
     "text": [
      "/home/qweddww123/farsite/TrainDataGen/WildfireShapefiles/2019/nm_skid/20190713_0000/MLinput/updated_Number_of_points.csv\n",
      "nm_south\n"
     ]
    },
    {
     "name": "stderr",
     "output_type": "stream",
     "text": [
      "rm: cannot remove '/home/qweddww123/farsite/TrainDataGen/WildfireShapefiles/2019/nm_skid/20190713_0000/MLinput/updated_Number_of_points.csv': No such file or directory\n",
      "rm: cannot remove '/home/qweddww123/farsite/TrainDataGen/WildfireShapefiles/2019/nm_skid/20190713_0000/Number_of_points.csv': No such file or directory\n"
     ]
    },
    {
     "name": "stdout",
     "output_type": "stream",
     "text": [
      "/home/qweddww123/farsite/TrainDataGen/WildfireShapefiles/2019/nm_south/20190701_0000/MLinput/updated_Number_of_points.csv\n",
      "nm_triple_nickle\n"
     ]
    },
    {
     "name": "stderr",
     "output_type": "stream",
     "text": [
      "rm: cannot remove '/home/qweddww123/farsite/TrainDataGen/WildfireShapefiles/2019/nm_south/20190701_0000/MLinput/updated_Number_of_points.csv': No such file or directory\n",
      "rm: cannot remove '/home/qweddww123/farsite/TrainDataGen/WildfireShapefiles/2019/nm_south/20190701_0000/Number_of_points.csv': No such file or directory\n"
     ]
    },
    {
     "name": "stdout",
     "output_type": "stream",
     "text": [
      "/home/qweddww123/farsite/TrainDataGen/WildfireShapefiles/2019/nm_triple_nickle/20190819_1900/MLinput/updated_Number_of_points.csv\n",
      "nm_woodrow\n"
     ]
    },
    {
     "name": "stderr",
     "output_type": "stream",
     "text": [
      "rm: cannot remove '/home/qweddww123/farsite/TrainDataGen/WildfireShapefiles/2019/nm_triple_nickle/20190819_1900/MLinput/updated_Number_of_points.csv': No such file or directory\n",
      "rm: cannot remove '/home/qweddww123/farsite/TrainDataGen/WildfireShapefiles/2019/nm_triple_nickle/20190819_1900/Number_of_points.csv': No such file or directory\n"
     ]
    },
    {
     "name": "stdout",
     "output_type": "stream",
     "text": [
      "/home/qweddww123/farsite/TrainDataGen/WildfireShapefiles/2019/nm_woodrow/20190704_1000/MLinput/updated_Number_of_points.csv\n",
      "nv_bonelli_peak\n"
     ]
    },
    {
     "name": "stderr",
     "output_type": "stream",
     "text": [
      "rm: cannot remove '/home/qweddww123/farsite/TrainDataGen/WildfireShapefiles/2019/nm_woodrow/20190704_1000/MLinput/updated_Number_of_points.csv': No such file or directory\n",
      "rm: cannot remove '/home/qweddww123/farsite/TrainDataGen/WildfireShapefiles/2019/nm_woodrow/20190704_1000/Number_of_points.csv': No such file or directory\n"
     ]
    },
    {
     "name": "stdout",
     "output_type": "stream",
     "text": [
      "/home/qweddww123/farsite/TrainDataGen/WildfireShapefiles/2019/nv_bonelli_peak/20190725_1926/MLinput/updated_Number_of_points.csv\n",
      "nv_cherry\n"
     ]
    },
    {
     "name": "stderr",
     "output_type": "stream",
     "text": [
      "rm: cannot remove '/home/qweddww123/farsite/TrainDataGen/WildfireShapefiles/2019/nv_bonelli_peak/20190725_1926/MLinput/updated_Number_of_points.csv': No such file or directory\n",
      "rm: cannot remove '/home/qweddww123/farsite/TrainDataGen/WildfireShapefiles/2019/nv_bonelli_peak/20190725_1926/Number_of_points.csv': No such file or directory\n"
     ]
    },
    {
     "name": "stdout",
     "output_type": "stream",
     "text": [
      "/home/qweddww123/farsite/TrainDataGen/WildfireShapefiles/2019/nv_cherry/20190903_1240/MLinput/updated_Number_of_points.csv\n",
      "nv_corta\n"
     ]
    },
    {
     "name": "stderr",
     "output_type": "stream",
     "text": [
      "rm: cannot remove '/home/qweddww123/farsite/TrainDataGen/WildfireShapefiles/2019/nv_cherry/20190903_1240/MLinput/updated_Number_of_points.csv': No such file or directory\n",
      "rm: cannot remove '/home/qweddww123/farsite/TrainDataGen/WildfireShapefiles/2019/nv_cherry/20190903_1240/Number_of_points.csv': No such file or directory\n"
     ]
    },
    {
     "name": "stdout",
     "output_type": "stream",
     "text": [
      "/home/qweddww123/farsite/TrainDataGen/WildfireShapefiles/2019/nv_corta/20190805_1300/MLinput/updated_Number_of_points.csv\n",
      "nv_goose\n"
     ]
    },
    {
     "name": "stderr",
     "output_type": "stream",
     "text": [
      "rm: cannot remove '/home/qweddww123/farsite/TrainDataGen/WildfireShapefiles/2019/nv_corta/20190805_1300/MLinput/updated_Number_of_points.csv': No such file or directory\n",
      "rm: cannot remove '/home/qweddww123/farsite/TrainDataGen/WildfireShapefiles/2019/nv_corta/20190805_1300/Number_of_points.csv': No such file or directory\n"
     ]
    },
    {
     "name": "stdout",
     "output_type": "stream",
     "text": [
      "/home/qweddww123/farsite/TrainDataGen/WildfireShapefiles/2019/nv_goose/20190805_1600/MLinput/updated_Number_of_points.csv\n",
      "nv_texas\n"
     ]
    },
    {
     "name": "stderr",
     "output_type": "stream",
     "text": [
      "rm: cannot remove '/home/qweddww123/farsite/TrainDataGen/WildfireShapefiles/2019/nv_goose/20190805_1600/MLinput/updated_Number_of_points.csv': No such file or directory\n",
      "rm: cannot remove '/home/qweddww123/farsite/TrainDataGen/WildfireShapefiles/2019/nv_goose/20190805_1600/Number_of_points.csv': No such file or directory\n"
     ]
    },
    {
     "name": "stdout",
     "output_type": "stream",
     "text": [
      "/home/qweddww123/farsite/TrainDataGen/WildfireShapefiles/2019/nv_texas/20190725_0800/MLinput/updated_Number_of_points.csv\n",
      "nv_wood_canyon\n"
     ]
    },
    {
     "name": "stderr",
     "output_type": "stream",
     "text": [
      "rm: cannot remove '/home/qweddww123/farsite/TrainDataGen/WildfireShapefiles/2019/nv_texas/20190725_0800/MLinput/updated_Number_of_points.csv': No such file or directory\n",
      "rm: cannot remove '/home/qweddww123/farsite/TrainDataGen/WildfireShapefiles/2019/nv_texas/20190725_0800/Number_of_points.csv': No such file or directory\n"
     ]
    },
    {
     "name": "stdout",
     "output_type": "stream",
     "text": [
      "/home/qweddww123/farsite/TrainDataGen/WildfireShapefiles/2019/nv_wood_canyon/20190814_1230/MLinput/updated_Number_of_points.csv\n",
      "or_163_hk_complex\n"
     ]
    },
    {
     "name": "stderr",
     "output_type": "stream",
     "text": [
      "rm: cannot remove '/home/qweddww123/farsite/TrainDataGen/WildfireShapefiles/2019/nv_wood_canyon/20190814_1230/MLinput/updated_Number_of_points.csv': No such file or directory\n",
      "rm: cannot remove '/home/qweddww123/farsite/TrainDataGen/WildfireShapefiles/2019/nv_wood_canyon/20190814_1230/Number_of_points.csv': No such file or directory\n"
     ]
    },
    {
     "name": "stdout",
     "output_type": "stream",
     "text": [
      "/home/qweddww123/farsite/TrainDataGen/WildfireShapefiles/2019/or_163_hk_complex/20190806_2200/MLinput/updated_Number_of_points.csv\n",
      "or_163_hk_complex_140_hidden_springs\n",
      "/home/qweddww123/farsite/TrainDataGen/WildfireShapefiles/2019/or_163_hk_complex_140_hidden_springs/20190811_2240/MLinput/updated_Number_of_points.csv\n",
      "or_163_hk_complex_unnamed_fires\n"
     ]
    },
    {
     "name": "stderr",
     "output_type": "stream",
     "text": [
      "rm: cannot remove '/home/qweddww123/farsite/TrainDataGen/WildfireShapefiles/2019/or_163_hk_complex/20190806_2200/MLinput/updated_Number_of_points.csv': No such file or directory\n",
      "rm: cannot remove '/home/qweddww123/farsite/TrainDataGen/WildfireShapefiles/2019/or_163_hk_complex/20190806_2200/Number_of_points.csv': No such file or directory\n",
      "rm: cannot remove '/home/qweddww123/farsite/TrainDataGen/WildfireShapefiles/2019/or_163_hk_complex_140_hidden_springs/20190811_2240/MLinput/updated_Number_of_points.csv': No such file or directory\n",
      "rm: cannot remove '/home/qweddww123/farsite/TrainDataGen/WildfireShapefiles/2019/or_163_hk_complex_140_hidden_springs/20190811_2240/Number_of_points.csv': No such file or directory\n",
      "rm: cannot remove '/home/qweddww123/farsite/TrainDataGen/WildfireShapefiles/2019/or_163_hk_complex_unnamed_fires/20190811_2240/MLinput/updated_Number_of_points.csv': No such file or directory\n",
      "rm: cannot remove '/home/qweddww123/farsite/TrainDataGen/WildfireShapefiles/2019/or_163_hk_complex_unnamed_fires/20190811_2240/Number_of_points.csv': No such file or directory\n",
      "rm: cannot remove '/home/qweddww123/farsite/TrainDataGen/WildfireShapefiles/2019/or_204_cow/20190821_1700/MLinput/updated_Number_of_points.csv': No such file or directory\n",
      "rm: cannot remove '/home/qweddww123/farsite/TrainDataGen/WildfireShapefiles/2019/or_204_cow/20190821_1700/Number_of_points.csv': No such file or directory\n"
     ]
    },
    {
     "name": "stdout",
     "output_type": "stream",
     "text": [
      "/home/qweddww123/farsite/TrainDataGen/WildfireShapefiles/2019/or_163_hk_complex_unnamed_fires/20190811_2240/MLinput/updated_Number_of_points.csv\n",
      "or_204_cow\n",
      "/home/qweddww123/farsite/TrainDataGen/WildfireShapefiles/2019/or_204_cow/20190821_1700/MLinput/updated_Number_of_points.csv\n",
      "or_341_skookum_creek\n",
      "/home/qweddww123/farsite/TrainDataGen/WildfireShapefiles/2019/or_341_skookum_creek/20191104_1200/MLinput/updated_Number_of_points.csv\n"
     ]
    },
    {
     "name": "stderr",
     "output_type": "stream",
     "text": [
      "rm: cannot remove '/home/qweddww123/farsite/TrainDataGen/WildfireShapefiles/2019/or_341_skookum_creek/20191104_1200/MLinput/updated_Number_of_points.csv': No such file or directory\n",
      "rm: cannot remove '/home/qweddww123/farsite/TrainDataGen/WildfireShapefiles/2019/or_341_skookum_creek/20191104_1200/Number_of_points.csv': No such file or directory\n",
      "rm: cannot remove '/home/qweddww123/farsite/TrainDataGen/WildfireShapefiles/2019/or_days_coffee/20190627_0600/MLinput/updated_Number_of_points.csv': No such file or directory\n",
      "rm: cannot remove '/home/qweddww123/farsite/TrainDataGen/WildfireShapefiles/2019/or_days_coffee/20190627_0600/Number_of_points.csv': No such file or directory\n"
     ]
    },
    {
     "name": "stdout",
     "output_type": "stream",
     "text": [
      "or_days_coffee\n",
      "/home/qweddww123/farsite/TrainDataGen/WildfireShapefiles/2019/or_days_coffee/20190627_0600/MLinput/updated_Number_of_points.csv\n",
      "or_diamond_valley\n",
      "/home/qweddww123/farsite/TrainDataGen/WildfireShapefiles/2019/or_diamond_valley/20190908_1900/MLinput/updated_Number_of_points.csv\n",
      "or_drummond_basin\n"
     ]
    },
    {
     "name": "stderr",
     "output_type": "stream",
     "text": [
      "rm: cannot remove '/home/qweddww123/farsite/TrainDataGen/WildfireShapefiles/2019/or_diamond_valley/20190908_1900/MLinput/updated_Number_of_points.csv': No such file or directory\n",
      "rm: cannot remove '/home/qweddww123/farsite/TrainDataGen/WildfireShapefiles/2019/or_diamond_valley/20190908_1900/Number_of_points.csv': No such file or directory\n"
     ]
    },
    {
     "name": "stdout",
     "output_type": "stream",
     "text": [
      "/home/qweddww123/farsite/TrainDataGen/WildfireShapefiles/2019/or_drummond_basin/20190723_1400/MLinput/updated_Number_of_points.csv\n",
      "or_e_evans_creek_fire\n",
      "/home/qweddww123/farsite/TrainDataGen/WildfireShapefiles/2019/or_e_evans_creek_fire/20190804_2300/MLinput/updated_Number_of_points.csv\n",
      "or_east_jones_creek\n",
      "/home/qweddww123/farsite/TrainDataGen/WildfireShapefiles/2019/or_east_jones_creek/20190921_1738/MLinput/updated_Number_of_points.csv\n",
      "or_gopher\n"
     ]
    },
    {
     "name": "stderr",
     "output_type": "stream",
     "text": [
      "rm: cannot remove '/home/qweddww123/farsite/TrainDataGen/WildfireShapefiles/2019/or_drummond_basin/20190723_1400/MLinput/updated_Number_of_points.csv': No such file or directory\n",
      "rm: cannot remove '/home/qweddww123/farsite/TrainDataGen/WildfireShapefiles/2019/or_drummond_basin/20190723_1400/Number_of_points.csv': No such file or directory\n",
      "rm: cannot remove '/home/qweddww123/farsite/TrainDataGen/WildfireShapefiles/2019/or_e_evans_creek_fire/20190804_2300/MLinput/updated_Number_of_points.csv': No such file or directory\n",
      "rm: cannot remove '/home/qweddww123/farsite/TrainDataGen/WildfireShapefiles/2019/or_e_evans_creek_fire/20190804_2300/Number_of_points.csv': No such file or directory\n",
      "rm: cannot remove '/home/qweddww123/farsite/TrainDataGen/WildfireShapefiles/2019/or_east_jones_creek/20190921_1738/MLinput/updated_Number_of_points.csv': No such file or directory\n",
      "rm: cannot remove '/home/qweddww123/farsite/TrainDataGen/WildfireShapefiles/2019/or_east_jones_creek/20190921_1738/Number_of_points.csv': No such file or directory\n"
     ]
    },
    {
     "name": "stdout",
     "output_type": "stream",
     "text": [
      "/home/qweddww123/farsite/TrainDataGen/WildfireShapefiles/2019/or_gopher/20190906_2144/MLinput/updated_Number_of_points.csv\n",
      "or_granite_gulch\n",
      "/home/qweddww123/farsite/TrainDataGen/WildfireShapefiles/2019/or_granite_gulch/20190730_1400/MLinput/updated_Number_of_points.csv\n",
      "or_home_creek\n",
      "/home/qweddww123/farsite/TrainDataGen/WildfireShapefiles/2019/or_home_creek/20190730_1930/MLinput/updated_Number_of_points.csv\n"
     ]
    },
    {
     "name": "stderr",
     "output_type": "stream",
     "text": [
      "rm: cannot remove '/home/qweddww123/farsite/TrainDataGen/WildfireShapefiles/2019/or_gopher/20190906_2144/MLinput/updated_Number_of_points.csv': No such file or directory\n",
      "rm: cannot remove '/home/qweddww123/farsite/TrainDataGen/WildfireShapefiles/2019/or_gopher/20190906_2144/Number_of_points.csv': No such file or directory\n",
      "rm: cannot remove '/home/qweddww123/farsite/TrainDataGen/WildfireShapefiles/2019/or_granite_gulch/20190730_1400/MLinput/updated_Number_of_points.csv': No such file or directory\n",
      "rm: cannot remove '/home/qweddww123/farsite/TrainDataGen/WildfireShapefiles/2019/or_granite_gulch/20190730_1400/Number_of_points.csv': No such file or directory\n",
      "rm: cannot remove '/home/qweddww123/farsite/TrainDataGen/WildfireShapefiles/2019/or_home_creek/20190730_1930/MLinput/updated_Number_of_points.csv': No such file or directory\n",
      "rm: cannot remove '/home/qweddww123/farsite/TrainDataGen/WildfireShapefiles/2019/or_home_creek/20190730_1930/Number_of_points.csv': No such file or directory\n"
     ]
    },
    {
     "name": "stdout",
     "output_type": "stream",
     "text": [
      "or_mckay_butte_0527_ne\n",
      "/home/qweddww123/farsite/TrainDataGen/WildfireShapefiles/2019/or_mckay_butte_0527_ne/20190729_0000/MLinput/updated_Number_of_points.csv\n",
      "or_medco_b\n",
      "/home/qweddww123/farsite/TrainDataGen/WildfireShapefiles/2019/or_medco_b/20190506_0055/MLinput/updated_Number_of_points.csv\n",
      "or_mp_97\n"
     ]
    },
    {
     "name": "stderr",
     "output_type": "stream",
     "text": [
      "rm: cannot remove '/home/qweddww123/farsite/TrainDataGen/WildfireShapefiles/2019/or_mckay_butte_0527_ne/20190729_0000/MLinput/updated_Number_of_points.csv': No such file or directory\n",
      "rm: cannot remove '/home/qweddww123/farsite/TrainDataGen/WildfireShapefiles/2019/or_mckay_butte_0527_ne/20190729_0000/Number_of_points.csv': No such file or directory\n",
      "rm: cannot remove '/home/qweddww123/farsite/TrainDataGen/WildfireShapefiles/2019/or_medco_b/20190506_0055/MLinput/updated_Number_of_points.csv': No such file or directory\n",
      "rm: cannot remove '/home/qweddww123/farsite/TrainDataGen/WildfireShapefiles/2019/or_medco_b/20190506_0055/Number_of_points.csv': No such file or directory\n"
     ]
    },
    {
     "name": "stdout",
     "output_type": "stream",
     "text": [
      "/home/qweddww123/farsite/TrainDataGen/WildfireShapefiles/2019/or_mp_97/20190725_2100/MLinput/updated_Number_of_points.csv\n",
      "or_mud_creek\n"
     ]
    },
    {
     "name": "stderr",
     "output_type": "stream",
     "text": [
      "rm: cannot remove '/home/qweddww123/farsite/TrainDataGen/WildfireShapefiles/2019/or_mp_97/20190725_2100/MLinput/updated_Number_of_points.csv': No such file or directory\n",
      "rm: cannot remove '/home/qweddww123/farsite/TrainDataGen/WildfireShapefiles/2019/or_mp_97/20190725_2100/Number_of_points.csv': No such file or directory\n"
     ]
    },
    {
     "name": "stdout",
     "output_type": "stream",
     "text": [
      "/home/qweddww123/farsite/TrainDataGen/WildfireShapefiles/2019/or_mud_creek/20190907_0000/MLinput/updated_Number_of_points.csv\n",
      "or_panther_gulch\n",
      "/home/qweddww123/farsite/TrainDataGen/WildfireShapefiles/2019/or_panther_gulch/20190801_0906/MLinput/updated_Number_of_points.csv\n",
      "or_poker\n"
     ]
    },
    {
     "name": "stderr",
     "output_type": "stream",
     "text": [
      "rm: cannot remove '/home/qweddww123/farsite/TrainDataGen/WildfireShapefiles/2019/or_mud_creek/20190907_0000/MLinput/updated_Number_of_points.csv': No such file or directory\n",
      "rm: cannot remove '/home/qweddww123/farsite/TrainDataGen/WildfireShapefiles/2019/or_mud_creek/20190907_0000/Number_of_points.csv': No such file or directory\n",
      "rm: cannot remove '/home/qweddww123/farsite/TrainDataGen/WildfireShapefiles/2019/or_panther_gulch/20190801_0906/MLinput/updated_Number_of_points.csv': No such file or directory\n",
      "rm: cannot remove '/home/qweddww123/farsite/TrainDataGen/WildfireShapefiles/2019/or_panther_gulch/20190801_0906/Number_of_points.csv': No such file or directory\n"
     ]
    },
    {
     "name": "stdout",
     "output_type": "stream",
     "text": [
      "\n",
      "or_pole\n",
      "/home/qweddww123/farsite/TrainDataGen/WildfireShapefiles/2019/or_pole/20190806_1300/MLinput/updated_Number_of_points.csv\n",
      "or_round_butte\n",
      "/home/qweddww123/farsite/TrainDataGen/WildfireShapefiles/2019/or_round_butte/20190722_1200/MLinput/updated_Number_of_points.csv\n"
     ]
    },
    {
     "name": "stderr",
     "output_type": "stream",
     "text": [
      "rm: cannot remove '/home/qweddww123/farsite/TrainDataGen/WildfireShapefiles/2019/or_pole/20190806_1300/MLinput/updated_Number_of_points.csv': No such file or directory\n",
      "rm: cannot remove '/home/qweddww123/farsite/TrainDataGen/WildfireShapefiles/2019/or_pole/20190806_1300/Number_of_points.csv': No such file or directory\n",
      "rm: cannot remove '/home/qweddww123/farsite/TrainDataGen/WildfireShapefiles/2019/or_round_butte/20190722_1200/MLinput/updated_Number_of_points.csv': No such file or directory\n",
      "rm: cannot remove '/home/qweddww123/farsite/TrainDataGen/WildfireShapefiles/2019/or_round_butte/20190722_1200/Number_of_points.csv': No such file or directory\n"
     ]
    },
    {
     "name": "stdout",
     "output_type": "stream",
     "text": [
      "or_sexton_mt_lookout\n",
      "/home/qweddww123/farsite/TrainDataGen/WildfireShapefiles/2019/or_sexton_mt_lookout/20190921_1740/MLinput/updated_Number_of_points.csv\n",
      "or_ward\n"
     ]
    },
    {
     "name": "stderr",
     "output_type": "stream",
     "text": [
      "rm: cannot remove '/home/qweddww123/farsite/TrainDataGen/WildfireShapefiles/2019/or_sexton_mt_lookout/20190921_1740/MLinput/updated_Number_of_points.csv': No such file or directory\n",
      "rm: cannot remove '/home/qweddww123/farsite/TrainDataGen/WildfireShapefiles/2019/or_sexton_mt_lookout/20190921_1740/Number_of_points.csv': No such file or directory\n"
     ]
    },
    {
     "name": "stdout",
     "output_type": "stream",
     "text": [
      "/home/qweddww123/farsite/TrainDataGen/WildfireShapefiles/2019/or_ward/20190811_2150/MLinput/updated_Number_of_points.csv\n",
      "ut_alaska\n",
      "\n",
      "ut_chippean\n",
      "/home/qweddww123/farsite/TrainDataGen/WildfireShapefiles/2019/ut_chippean/20190807_1000/MLinput/updated_Number_of_points.csv\n",
      "ut_green_ravine\n"
     ]
    },
    {
     "name": "stderr",
     "output_type": "stream",
     "text": [
      "rm: cannot remove '/home/qweddww123/farsite/TrainDataGen/WildfireShapefiles/2019/or_ward/20190811_2150/MLinput/updated_Number_of_points.csv': No such file or directory\n",
      "rm: cannot remove '/home/qweddww123/farsite/TrainDataGen/WildfireShapefiles/2019/or_ward/20190811_2150/Number_of_points.csv': No such file or directory\n",
      "rm: cannot remove '/home/qweddww123/farsite/TrainDataGen/WildfireShapefiles/2019/ut_chippean/20190807_1000/MLinput/updated_Number_of_points.csv': No such file or directory\n",
      "rm: cannot remove '/home/qweddww123/farsite/TrainDataGen/WildfireShapefiles/2019/ut_chippean/20190807_1000/Number_of_points.csv': No such file or directory\n"
     ]
    },
    {
     "name": "stdout",
     "output_type": "stream",
     "text": [
      "/home/qweddww123/farsite/TrainDataGen/WildfireShapefiles/2019/ut_green_ravine/20190904_0000/MLinput/updated_Number_of_points.csv\n",
      "ut_gun_range\n"
     ]
    },
    {
     "name": "stderr",
     "output_type": "stream",
     "text": [
      "rm: cannot remove '/home/qweddww123/farsite/TrainDataGen/WildfireShapefiles/2019/ut_green_ravine/20190904_0000/MLinput/updated_Number_of_points.csv': No such file or directory\n",
      "rm: cannot remove '/home/qweddww123/farsite/TrainDataGen/WildfireShapefiles/2019/ut_green_ravine/20190904_0000/Number_of_points.csv': No such file or directory\n"
     ]
    },
    {
     "name": "stdout",
     "output_type": "stream",
     "text": [
      "/home/qweddww123/farsite/TrainDataGen/WildfireShapefiles/2019/ut_gun_range/20190830_1544/MLinput/updated_Number_of_points.csv\n",
      "ut_highway_101\n",
      "/home/qweddww123/farsite/TrainDataGen/WildfireShapefiles/2019/ut_highway_101/20190810_2030/MLinput/updated_Number_of_points.csv\n",
      "ut_hwy191_mm109\n",
      "\n",
      "ut_i70_mm229\n"
     ]
    },
    {
     "name": "stderr",
     "output_type": "stream",
     "text": [
      "rm: cannot remove '/home/qweddww123/farsite/TrainDataGen/WildfireShapefiles/2019/ut_gun_range/20190830_1544/MLinput/updated_Number_of_points.csv': No such file or directory\n",
      "rm: cannot remove '/home/qweddww123/farsite/TrainDataGen/WildfireShapefiles/2019/ut_gun_range/20190830_1544/Number_of_points.csv': No such file or directory\n",
      "rm: cannot remove '/home/qweddww123/farsite/TrainDataGen/WildfireShapefiles/2019/ut_highway_101/20190810_2030/MLinput/updated_Number_of_points.csv': No such file or directory\n",
      "rm: cannot remove '/home/qweddww123/farsite/TrainDataGen/WildfireShapefiles/2019/ut_highway_101/20190810_2030/Number_of_points.csv': No such file or directory\n"
     ]
    },
    {
     "name": "stdout",
     "output_type": "stream",
     "text": [
      "/home/qweddww123/farsite/TrainDataGen/WildfireShapefiles/2019/ut_i70_mm229/20190708_1053/MLinput/updated_Number_of_points.csv\n",
      "ut_kens_lake\n"
     ]
    },
    {
     "name": "stderr",
     "output_type": "stream",
     "text": [
      "rm: cannot remove '/home/qweddww123/farsite/TrainDataGen/WildfireShapefiles/2019/ut_i70_mm229/20190708_1053/MLinput/updated_Number_of_points.csv': No such file or directory\n",
      "rm: cannot remove '/home/qweddww123/farsite/TrainDataGen/WildfireShapefiles/2019/ut_i70_mm229/20190708_1053/Number_of_points.csv': No such file or directory\n",
      "rm: cannot remove '/home/qweddww123/farsite/TrainDataGen/WildfireShapefiles/2019/ut_kens_lake/20190711_0938/MLinput/updated_Number_of_points.csv': No such file or directory\n",
      "rm: cannot remove '/home/qweddww123/farsite/TrainDataGen/WildfireShapefiles/2019/ut_kens_lake/20190711_0938/Number_of_points.csv': No such file or directory\n",
      "rm: cannot remove '/home/qweddww123/farsite/TrainDataGen/WildfireShapefiles/2019/ut_little_bear/20190813_0000/MLinput/updated_Number_of_points.csv': No such file or directory\n",
      "rm: cannot remove '/home/qweddww123/farsite/TrainDataGen/WildfireShapefiles/2019/ut_little_bear/20190813_0000/Number_of_points.csv': No such file or directory\n",
      "rm: cannot remove '/home/qweddww123/farsite/TrainDataGen/WildfireShapefiles/2019/ut_mammoth/20190725_0000/MLinput/updated_Number_of_points.csv': No such file or directory\n",
      "rm: cannot remove '/home/qweddww123/farsite/TrainDataGen/WildfireShapefiles/2019/ut_mammoth/20190725_0000/Number_of_points.csv': No such file or directory\n"
     ]
    },
    {
     "name": "stdout",
     "output_type": "stream",
     "text": [
      "/home/qweddww123/farsite/TrainDataGen/WildfireShapefiles/2019/ut_kens_lake/20190711_0938/MLinput/updated_Number_of_points.csv\n",
      "ut_little_bear\n",
      "/home/qweddww123/farsite/TrainDataGen/WildfireShapefiles/2019/ut_little_bear/20190813_0000/MLinput/updated_Number_of_points.csv\n",
      "ut_mammoth\n",
      "/home/qweddww123/farsite/TrainDataGen/WildfireShapefiles/2019/ut_mammoth/20190725_0000/MLinput/updated_Number_of_points.csv\n",
      "ut_meadow_creek\n",
      "/home/qweddww123/farsite/TrainDataGen/WildfireShapefiles/2019/ut_meadow_creek/20190909_0000/MLinput/updated_Number_of_points.csv\n",
      "ut_neck\n",
      "\n",
      "ut_paint_mine\n"
     ]
    },
    {
     "name": "stderr",
     "output_type": "stream",
     "text": [
      "rm: cannot remove '/home/qweddww123/farsite/TrainDataGen/WildfireShapefiles/2019/ut_meadow_creek/20190909_0000/MLinput/updated_Number_of_points.csv': No such file or directory\n",
      "rm: cannot remove '/home/qweddww123/farsite/TrainDataGen/WildfireShapefiles/2019/ut_meadow_creek/20190909_0000/Number_of_points.csv': No such file or directory\n"
     ]
    },
    {
     "name": "stdout",
     "output_type": "stream",
     "text": [
      "/home/qweddww123/farsite/TrainDataGen/WildfireShapefiles/2019/ut_paint_mine/20190805_0000/MLinput/updated_Number_of_points.csv\n",
      "ut_peavine_canyon\n",
      "\n",
      "ut_playground\n",
      "/home/qweddww123/farsite/TrainDataGen/WildfireShapefiles/2019/ut_playground/20190807_0000/MLinput/updated_Number_of_points.csv\n",
      "ut_poison_canyon\n"
     ]
    },
    {
     "name": "stderr",
     "output_type": "stream",
     "text": [
      "rm: cannot remove '/home/qweddww123/farsite/TrainDataGen/WildfireShapefiles/2019/ut_paint_mine/20190805_0000/MLinput/updated_Number_of_points.csv': No such file or directory\n",
      "rm: cannot remove '/home/qweddww123/farsite/TrainDataGen/WildfireShapefiles/2019/ut_paint_mine/20190805_0000/Number_of_points.csv': No such file or directory\n",
      "rm: cannot remove '/home/qweddww123/farsite/TrainDataGen/WildfireShapefiles/2019/ut_playground/20190807_0000/MLinput/updated_Number_of_points.csv': No such file or directory\n",
      "rm: cannot remove '/home/qweddww123/farsite/TrainDataGen/WildfireShapefiles/2019/ut_playground/20190807_0000/Number_of_points.csv': No such file or directory\n"
     ]
    },
    {
     "name": "stdout",
     "output_type": "stream",
     "text": [
      "/home/qweddww123/farsite/TrainDataGen/WildfireShapefiles/2019/ut_poison_canyon/20190728_1600/MLinput/updated_Number_of_points.csv\n",
      "ut_round_peak\n"
     ]
    },
    {
     "name": "stderr",
     "output_type": "stream",
     "text": [
      "rm: cannot remove '/home/qweddww123/farsite/TrainDataGen/WildfireShapefiles/2019/ut_poison_canyon/20190728_1600/MLinput/updated_Number_of_points.csv': No such file or directory\n",
      "rm: cannot remove '/home/qweddww123/farsite/TrainDataGen/WildfireShapefiles/2019/ut_poison_canyon/20190728_1600/Number_of_points.csv': No such file or directory\n"
     ]
    },
    {
     "name": "stdout",
     "output_type": "stream",
     "text": [
      "/home/qweddww123/farsite/TrainDataGen/WildfireShapefiles/2019/ut_round_peak/20190716_1240/MLinput/updated_Number_of_points.csv\n",
      "ut_simpson_springs\n"
     ]
    },
    {
     "name": "stderr",
     "output_type": "stream",
     "text": [
      "rm: cannot remove '/home/qweddww123/farsite/TrainDataGen/WildfireShapefiles/2019/ut_round_peak/20190716_1240/MLinput/updated_Number_of_points.csv': No such file or directory\n",
      "rm: cannot remove '/home/qweddww123/farsite/TrainDataGen/WildfireShapefiles/2019/ut_round_peak/20190716_1240/Number_of_points.csv': No such file or directory\n"
     ]
    },
    {
     "name": "stdout",
     "output_type": "stream",
     "text": [
      "/home/qweddww123/farsite/TrainDataGen/WildfireShapefiles/2019/ut_simpson_springs/20190621_2107/MLinput/updated_Number_of_points.csv\n",
      "ut_skull_flat\n"
     ]
    },
    {
     "name": "stderr",
     "output_type": "stream",
     "text": [
      "rm: cannot remove '/home/qweddww123/farsite/TrainDataGen/WildfireShapefiles/2019/ut_simpson_springs/20190621_2107/MLinput/updated_Number_of_points.csv': No such file or directory\n",
      "rm: cannot remove '/home/qweddww123/farsite/TrainDataGen/WildfireShapefiles/2019/ut_simpson_springs/20190621_2107/Number_of_points.csv': No such file or directory\n"
     ]
    },
    {
     "name": "stdout",
     "output_type": "stream",
     "text": [
      "/home/qweddww123/farsite/TrainDataGen/WildfireShapefiles/2019/ut_skull_flat/20190627_1000/MLinput/updated_Number_of_points.csv\n",
      "ut_skull_flat_2\n",
      "/home/qweddww123/farsite/TrainDataGen/WildfireShapefiles/2019/ut_skull_flat_2/20191005_0000/MLinput/updated_Number_of_points.csv\n",
      "ut_snoqualmie\n"
     ]
    },
    {
     "name": "stderr",
     "output_type": "stream",
     "text": [
      "rm: cannot remove '/home/qweddww123/farsite/TrainDataGen/WildfireShapefiles/2019/ut_skull_flat/20190627_1000/MLinput/updated_Number_of_points.csv': No such file or directory\n",
      "rm: cannot remove '/home/qweddww123/farsite/TrainDataGen/WildfireShapefiles/2019/ut_skull_flat/20190627_1000/Number_of_points.csv': No such file or directory\n",
      "rm: cannot remove '/home/qweddww123/farsite/TrainDataGen/WildfireShapefiles/2019/ut_skull_flat_2/20191005_0000/MLinput/updated_Number_of_points.csv': No such file or directory\n",
      "rm: cannot remove '/home/qweddww123/farsite/TrainDataGen/WildfireShapefiles/2019/ut_skull_flat_2/20191005_0000/Number_of_points.csv': No such file or directory\n"
     ]
    },
    {
     "name": "stdout",
     "output_type": "stream",
     "text": [
      "/home/qweddww123/farsite/TrainDataGen/WildfireShapefiles/2019/ut_snoqualmie/20190903_2126/MLinput/updated_Number_of_points.csv\n",
      "va_kennedy_peak\n",
      "/home/qweddww123/farsite/TrainDataGen/WildfireShapefiles/2019/va_kennedy_peak/20191117_1300/MLinput/updated_Number_of_points.csv\n",
      "wa_243_command\n",
      "\n",
      "wa_devore_creek\n",
      "\n",
      "wa_kusshi_creek\n"
     ]
    },
    {
     "name": "stderr",
     "output_type": "stream",
     "text": [
      "rm: cannot remove '/home/qweddww123/farsite/TrainDataGen/WildfireShapefiles/2019/ut_snoqualmie/20190903_2126/MLinput/updated_Number_of_points.csv': No such file or directory\n",
      "rm: cannot remove '/home/qweddww123/farsite/TrainDataGen/WildfireShapefiles/2019/ut_snoqualmie/20190903_2126/Number_of_points.csv': No such file or directory\n",
      "rm: cannot remove '/home/qweddww123/farsite/TrainDataGen/WildfireShapefiles/2019/va_kennedy_peak/20191117_1300/MLinput/updated_Number_of_points.csv': No such file or directory\n",
      "rm: cannot remove '/home/qweddww123/farsite/TrainDataGen/WildfireShapefiles/2019/va_kennedy_peak/20191117_1300/Number_of_points.csv': No such file or directory\n"
     ]
    },
    {
     "name": "stdout",
     "output_type": "stream",
     "text": [
      "/home/qweddww123/farsite/TrainDataGen/WildfireShapefiles/2019/wa_kusshi_creek/20190726_2245/MLinput/updated_Number_of_points.csv\n",
      "wa_left_hand\n"
     ]
    },
    {
     "name": "stderr",
     "output_type": "stream",
     "text": [
      "rm: cannot remove '/home/qweddww123/farsite/TrainDataGen/WildfireShapefiles/2019/wa_kusshi_creek/20190726_2245/MLinput/updated_Number_of_points.csv': No such file or directory\n",
      "rm: cannot remove '/home/qweddww123/farsite/TrainDataGen/WildfireShapefiles/2019/wa_kusshi_creek/20190726_2245/Number_of_points.csv': No such file or directory\n"
     ]
    },
    {
     "name": "stdout",
     "output_type": "stream",
     "text": [
      "/home/qweddww123/farsite/TrainDataGen/WildfireShapefiles/2019/wa_left_hand/20190724_1136/MLinput/updated_Number_of_points.csv\n",
      "wa_mt._dana\n",
      "/home/qweddww123/farsite/TrainDataGen/WildfireShapefiles/2019/wa_mt._dana/20190901_0000/MLinput/updated_Number_of_points.csv\n",
      "wa_north_mill_creek\n"
     ]
    },
    {
     "name": "stderr",
     "output_type": "stream",
     "text": [
      "rm: cannot remove '/home/qweddww123/farsite/TrainDataGen/WildfireShapefiles/2019/wa_left_hand/20190724_1136/MLinput/updated_Number_of_points.csv': No such file or directory\n",
      "rm: cannot remove '/home/qweddww123/farsite/TrainDataGen/WildfireShapefiles/2019/wa_left_hand/20190724_1136/Number_of_points.csv': No such file or directory\n",
      "rm: cannot remove '/home/qweddww123/farsite/TrainDataGen/WildfireShapefiles/2019/wa_mt._dana/20190901_0000/MLinput/updated_Number_of_points.csv': No such file or directory\n",
      "rm: cannot remove '/home/qweddww123/farsite/TrainDataGen/WildfireShapefiles/2019/wa_mt._dana/20190901_0000/Number_of_points.csv': No such file or directory\n"
     ]
    },
    {
     "name": "stdout",
     "output_type": "stream",
     "text": [
      "/home/qweddww123/farsite/TrainDataGen/WildfireShapefiles/2019/wa_north_mill_creek/20190812_1245/MLinput/updated_Number_of_points.csv\n",
      "wa_south_fork_creek\n",
      "/home/qweddww123/farsite/TrainDataGen/WildfireShapefiles/2019/wa_south_fork_creek/20190728_0930/MLinput/updated_Number_of_points.csv\n",
      "wa_williams_flats\n",
      "\n",
      "wy_bomber_lake\n",
      "/home/qweddww123/farsite/TrainDataGen/WildfireShapefiles/2019/wy_bomber_lake/20190829_0000/MLinput/updated_Number_of_points.csv\n",
      "wy_brimstone\n"
     ]
    },
    {
     "name": "stderr",
     "output_type": "stream",
     "text": [
      "rm: cannot remove '/home/qweddww123/farsite/TrainDataGen/WildfireShapefiles/2019/wa_north_mill_creek/20190812_1245/MLinput/updated_Number_of_points.csv': No such file or directory\n",
      "rm: cannot remove '/home/qweddww123/farsite/TrainDataGen/WildfireShapefiles/2019/wa_north_mill_creek/20190812_1245/Number_of_points.csv': No such file or directory\n",
      "rm: cannot remove '/home/qweddww123/farsite/TrainDataGen/WildfireShapefiles/2019/wa_south_fork_creek/20190728_0930/MLinput/updated_Number_of_points.csv': No such file or directory\n",
      "rm: cannot remove '/home/qweddww123/farsite/TrainDataGen/WildfireShapefiles/2019/wa_south_fork_creek/20190728_0930/Number_of_points.csv': No such file or directory\n",
      "rm: cannot remove '/home/qweddww123/farsite/TrainDataGen/WildfireShapefiles/2019/wy_bomber_lake/20190829_0000/MLinput/updated_Number_of_points.csv': No such file or directory\n",
      "rm: cannot remove '/home/qweddww123/farsite/TrainDataGen/WildfireShapefiles/2019/wy_bomber_lake/20190829_0000/Number_of_points.csv': No such file or directory\n"
     ]
    },
    {
     "name": "stdout",
     "output_type": "stream",
     "text": [
      "/home/qweddww123/farsite/TrainDataGen/WildfireShapefiles/2019/wy_brimstone/20190829_1100/MLinput/updated_Number_of_points.csv\n",
      "wy_fishhawk\n",
      "\n",
      "wy_nowater\n"
     ]
    },
    {
     "name": "stderr",
     "output_type": "stream",
     "text": [
      "rm: cannot remove '/home/qweddww123/farsite/TrainDataGen/WildfireShapefiles/2019/wy_brimstone/20190829_1100/MLinput/updated_Number_of_points.csv': No such file or directory\n",
      "rm: cannot remove '/home/qweddww123/farsite/TrainDataGen/WildfireShapefiles/2019/wy_brimstone/20190829_1100/Number_of_points.csv': No such file or directory\n"
     ]
    },
    {
     "name": "stdout",
     "output_type": "stream",
     "text": [
      "/home/qweddww123/farsite/TrainDataGen/WildfireShapefiles/2019/wy_nowater/20190808_1045/MLinput/updated_Number_of_points.csv\n",
      "wy_pedro_mountain\n"
     ]
    },
    {
     "name": "stderr",
     "output_type": "stream",
     "text": [
      "rm: cannot remove '/home/qweddww123/farsite/TrainDataGen/WildfireShapefiles/2019/wy_nowater/20190808_1045/MLinput/updated_Number_of_points.csv': No such file or directory\n",
      "rm: cannot remove '/home/qweddww123/farsite/TrainDataGen/WildfireShapefiles/2019/wy_nowater/20190808_1045/Number_of_points.csv': No such file or directory\n"
     ]
    },
    {
     "name": "stdout",
     "output_type": "stream",
     "text": [
      "/home/qweddww123/farsite/TrainDataGen/WildfireShapefiles/2019/wy_pedro_mountain/20190825_0900/MLinput/updated_Number_of_points.csv\n",
      "wy_stink_water\n",
      "/home/qweddww123/farsite/TrainDataGen/WildfireShapefiles/2019/wy_stink_water/20190905_0045/MLinput/updated_Number_of_points.csv\n"
     ]
    },
    {
     "name": "stderr",
     "output_type": "stream",
     "text": [
      "rm: cannot remove '/home/qweddww123/farsite/TrainDataGen/WildfireShapefiles/2019/wy_pedro_mountain/20190825_0900/MLinput/updated_Number_of_points.csv': No such file or directory\n",
      "rm: cannot remove '/home/qweddww123/farsite/TrainDataGen/WildfireShapefiles/2019/wy_pedro_mountain/20190825_0900/Number_of_points.csv': No such file or directory\n",
      "rm: cannot remove '/home/qweddww123/farsite/TrainDataGen/WildfireShapefiles/2019/wy_stink_water/20190905_0045/MLinput/updated_Number_of_points.csv': No such file or directory\n",
      "rm: cannot remove '/home/qweddww123/farsite/TrainDataGen/WildfireShapefiles/2019/wy_stink_water/20190905_0045/Number_of_points.csv': No such file or directory\n"
     ]
    }
   ],
   "source": [
    "import os\n",
    "import numpy as np\n",
    "import pandas as pd\n",
    "import csv\n",
    "\n",
    "wildfire = '/home/qweddww123/farsite/TrainDataGen/WildfireShapefiles'\n",
    "lcp = '/home/qweddww123/farsite/TrainDataGen/GetLCPdata/LCP/lcp_extract'\n",
    "\n",
    "for year in sorted(os.listdir(wildfire), key=int):\n",
    "    print(year, '***************************************************************************************************************')\n",
    "    for target_fire in sorted(os.listdir(wildfire+'/'+year), key=str):\n",
    "        path = wildfire+'/'+year        \n",
    "        if(target_fire[0] == '.'):\n",
    "            continue\n",
    "        elif(target_fire.split('_')[0] == 'ak' or target_fire.split('_')[0] == 'AK'):\n",
    "            continue\n",
    "        elif(target_fire.split('_')[0] == 'hi'):\n",
    "            continue\n",
    "        else:\n",
    "            print(target_fire)\n",
    "            shpdir = wildfire+'/'+year+'/'+target_fire\n",
    "            wildfire_time = sorted(os.listdir(shpdir), key=str)[0]\n",
    "            num_points_arr = [[ 0 for i in range(600) ] for i in range(600)]\n",
    "\n",
    "            list = []\n",
    "            with open(shpdir+'/'+wildfire_time+'/'+\"log\" + str(1) + \".csv\", 'r') as file_name:\n",
    "                csv_data = csv.reader(file_name)\n",
    "                for line in csv_data:\n",
    "                    list.append(line)\n",
    "\n",
    "            df = pd.read_csv(shpdir+'/'+wildfire_time+'/'+\"log\" + str(1) + \".csv\")\n",
    "            row_cnt = len(df.axes[0]) + 1\n",
    "            #count the number of duplicate disaster spread computing points throughout a csv file\n",
    "            try:\n",
    "                for i in range(row_cnt):\n",
    "                    num_points_arr[int(list[i][0])][int(list[i][1])] += 1\n",
    "            except:\n",
    "                print()\n",
    "                continue\n",
    "\n",
    "            arr = np.array(num_points_arr)\n",
    "            df = pd.DataFrame(arr)\n",
    "            print(shpdir+'/'+wildfire_time+'/MLinput/'+\"updated_Number_of_points.csv\")\n",
    "            os.system(\"rm \"+shpdir+'/'+wildfire_time+'/MLinput/'+\"updated_Number_of_points.csv\")\n",
    "            os.system(\"rm \"+shpdir+'/'+wildfire_time+'/'+\"Number_of_points.csv\")\n",
    "\n",
    "            df.to_csv(shpdir+'/'+wildfire_time+'/'+\"/MLinput/\"+'Number_of_points.csv', header=False, index=False)"
   ]
  },
  {
   "cell_type": "code",
   "execution_count": null,
   "id": "1fb4984e-fb3c-4fe1-a5a1-0d1e0156aac9",
   "metadata": {},
   "outputs": [],
   "source": []
  }
 ],
 "metadata": {
  "kernelspec": {
   "display_name": "Python 3 (ipykernel)",
   "language": "python",
   "name": "python3"
  },
  "language_info": {
   "codemirror_mode": {
    "name": "ipython",
    "version": 3
   },
   "file_extension": ".py",
   "mimetype": "text/x-python",
   "name": "python",
   "nbconvert_exporter": "python",
   "pygments_lexer": "ipython3",
   "version": "3.9.7"
  }
 },
 "nbformat": 4,
 "nbformat_minor": 5
}
