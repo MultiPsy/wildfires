{
 "cells": [
  {
   "cell_type": "code",
   "execution_count": 13,
   "id": "7ee9a92c-e17e-4d2d-8231-882a194644c4",
   "metadata": {},
   "outputs": [],
   "source": [
    "import fiona\n",
    "import geopandas as pd\n",
    "import rasterio\n",
    "import os"
   ]
  },
  {
   "cell_type": "code",
   "execution_count": 1,
   "id": "421d7ad9-df7c-4dd9-b22e-6c3e019ee69d",
   "metadata": {},
   "outputs": [
    {
     "name": "stderr",
     "output_type": "stream",
     "text": [
      "/home/qweddww123/anaconda3/envs/pygdal/lib/python3.9/site-packages/pyproj/crs/crs.py:131: FutureWarning: '+init=<authority>:<code>' syntax is deprecated. '<authority>:<code>' is the preferred initialization method. When making the change, be mindful of axis order changes: https://pyproj4.github.io/pyproj/stable/gotchas.html#axis-order-changes-in-proj-6\n",
      "  in_crs_string = _prepare_from_proj_string(in_crs_string)\n",
      "/home/qweddww123/anaconda3/envs/pygdal/lib/python3.9/site-packages/pyproj/crs/crs.py:131: FutureWarning: '+init=<authority>:<code>' syntax is deprecated. '<authority>:<code>' is the preferred initialization method. When making the change, be mindful of axis order changes: https://pyproj4.github.io/pyproj/stable/gotchas.html#axis-order-changes-in-proj-6\n",
      "  in_crs_string = _prepare_from_proj_string(in_crs_string)\n"
     ]
    }
   ],
   "source": [
    "import os\n",
    "import rasterio\n",
    "from shapely.geometry import box\n",
    "from rasterio.plot import show\n",
    "from rasterio.plot import show_hist\n",
    "from rasterio.mask import mask\n",
    "import geopandas as gpd\n",
    "from fiona.crs import from_epsg\n",
    "import pycrs\n",
    "\n",
    "#shp_path = '/home/qweddww123/farsite/TrainDataGen/WildfireShapefiles'\n",
    "#lcpfilepath = '/home/qweddww123/farsite/TrainDataGen/GetLCPdata/LCP/lcp_extract'\n",
    "\n",
    "shp_path = '/home/qweddww123/farsite/TrainDataGen/WildfireShapefiles/2016/al_caney_head/20160321_0000/shptest.shp'\n",
    "fp = '/home/qweddww123/farsite/TrainDataGen/GetLCPdata/LCP/lcp_extract/2016/al_caney_head/al_caney_head.lcp'\n",
    "out_lcp = '/home/qweddww123/farsite/TrainDataGen/GetLCPdata/LCP/lcp_extract/2016/al_caney_head/'+\"cliptest1.lcp\"\n",
    "\n",
    "os.system('rm /home/qweddww123/farsite/TrainDataGen/GetLCPdata/LCP/lcp_extract/2016/al_caney_head/'+\"cliptest1.lcp\")\n",
    "\n",
    "data = rasterio.open(fp)\n",
    "#show((data, 4), cmap='terrain')\n",
    "\n",
    "shpfile = gpd.read_file(shp_path)\n",
    "x1 = float(shpfile.bounds.minx[0])\n",
    "y1 = float(shpfile.bounds.miny[0])\n",
    "x2 = float(shpfile.bounds.maxx[0])\n",
    "y2 = float(shpfile.bounds.maxy[0])\n",
    "\n",
    "minx, miny = x1, y1\n",
    "maxx, maxy = x2, y2\n",
    "\n",
    "bbox = box(minx, miny, maxx, maxy)\n",
    "\n",
    "geo = gpd.GeoDataFrame({'geometry': bbox}, index=[0], crs=from_epsg(4326))\n",
    "geo = geo.to_crs(crs=\"EPSG:4326\")\n",
    "\n",
    "def getFeatures(gdf):\n",
    "    \"\"\"Function to parse features from GeoDataFrame in such a manner that rasterio wants them\"\"\"\n",
    "    import json\n",
    "    return [json.loads(gdf.to_json())['features'][0]['geometry']]\n",
    "\n",
    "coords = getFeatures(geo)\n",
    "#print(coords)\n",
    "\n",
    "out_img, out_transform = mask(data, shapes=coords, crop=True)\n",
    "\n",
    "out_meta = data.meta.copy()\n",
    "#print(out_meta)\n",
    "\n",
    "epsg_code = 4326\n",
    "\n",
    "out_meta.update({\"driver\": \"GTiff\",\n",
    "                 \"height\": out_img.shape[1],\n",
    "                 \"width\": out_img.shape[2],\n",
    "                 \"transform\": out_transform,\n",
    "                 \"crs\": pycrs.parse.from_epsg_code(epsg_code).to_proj4()}\n",
    "               )\n",
    "\n",
    "with rasterio.open(out_lcp, \"w\", **out_meta) as dest:\n",
    "    dest.write(out_img)\n",
    "\n",
    "clipped = rasterio.open(out_lcp)\n",
    "#show((clipped, 4), cmap='terrain')"
   ]
  },
  {
   "cell_type": "code",
   "execution_count": null,
   "id": "e53fdebb-1f7c-465d-8d2d-45beee4253a8",
   "metadata": {},
   "outputs": [],
   "source": []
  }
 ],
 "metadata": {
  "kernelspec": {
   "display_name": "Python 3 (ipykernel)",
   "language": "python",
   "name": "python3"
  },
  "language_info": {
   "codemirror_mode": {
    "name": "ipython",
    "version": 3
   },
   "file_extension": ".py",
   "mimetype": "text/x-python",
   "name": "python",
   "nbconvert_exporter": "python",
   "pygments_lexer": "ipython3",
   "version": "3.9.7"
  }
 },
 "nbformat": 4,
 "nbformat_minor": 5
}
